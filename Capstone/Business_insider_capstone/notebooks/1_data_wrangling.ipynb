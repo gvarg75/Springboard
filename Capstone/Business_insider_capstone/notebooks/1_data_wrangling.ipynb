{
 "metadata": {
  "language_info": {
   "codemirror_mode": {
    "name": "ipython",
    "version": 3
   },
   "file_extension": ".py",
   "mimetype": "text/x-python",
   "name": "python",
   "nbconvert_exporter": "python",
   "pygments_lexer": "ipython3",
   "version": "3.8.5-final"
  },
  "orig_nbformat": 2,
  "kernelspec": {
   "name": "python3",
   "display_name": "Python 3",
   "language": "python"
  }
 },
 "nbformat": 4,
 "nbformat_minor": 2,
 "cells": [
  {
   "cell_type": "code",
   "execution_count": 52,
   "metadata": {},
   "outputs": [],
   "source": [
    "import pandas as pd\n",
    "import numpy as np\n",
    "import matplotlib.pyplot as ply"
   ]
  },
  {
   "cell_type": "code",
   "execution_count": 53,
   "metadata": {},
   "outputs": [],
   "source": [
    "data = pd.read_csv('../data/data.csv')"
   ]
  },
  {
   "cell_type": "code",
   "execution_count": 54,
   "metadata": {},
   "outputs": [
    {
     "output_type": "stream",
     "name": "stdout",
     "text": [
      "<class 'pandas.core.frame.DataFrame'>\nRangeIndex: 6819 entries, 0 to 6818\nData columns (total 96 columns):\n #   Column                                                               Non-Null Count  Dtype  \n---  ------                                                               --------------  -----  \n 0   Bankrupt?                                                            6819 non-null   int64  \n 1    ROA(C) before interest and depreciation before interest             6819 non-null   float64\n 2    ROA(A) before interest and % after tax                              6819 non-null   float64\n 3    ROA(B) before interest and depreciation after tax                   6819 non-null   float64\n 4    operating gross margin                                              6819 non-null   float64\n 5    realized sales gross margin                                         6819 non-null   float64\n 6    operating profit rate                                               6819 non-null   float64\n 7    tax Pre-net interest rate                                           6819 non-null   float64\n 8    after-tax net interest rate                                         6819 non-null   float64\n 9    non-industry income and expenditure/revenue                         6819 non-null   float64\n 10   continuous interest rate (after tax)                                6819 non-null   float64\n 11   operating expense rate                                              6819 non-null   float64\n 12   research and development expense rate                               6819 non-null   float64\n 13   cash flow rate                                                      6819 non-null   float64\n 14   interest-bearing debt interest rate                                 6819 non-null   float64\n 15   tax rate (A)                                                        6819 non-null   float64\n 16   per Net Share Value (B)                                             6819 non-null   float64\n 17   Net Value Per Share (A)                                             6819 non-null   float64\n 18   Net Value Per Share (C)                                             6819 non-null   float64\n 19   Persistent EPS in the Last Four Seasons                             6819 non-null   float64\n 20   Cash Flow Per Share                                                 6819 non-null   float64\n 21   Revenue Per Share (Yuan)                                            6819 non-null   float64\n 22   Operating Profit Per Share (Yuan)                                   6819 non-null   float64\n 23   Per Share Net profit before tax (yuan)                              6819 non-null   float64\n 24   realized sales gross profit growth rate                             6819 non-null   float64\n 25   operating profit growth rate                                        6819 non-null   float64\n 26   after-tax net profit growth rate                                    6819 non-null   float64\n 27   regular net profit growth rate                                      6819 non-null   float64\n 28   continuous net profit growth rate                                   6819 non-null   float64\n 29   total asset growth rate                                             6819 non-null   float64\n 30   net value growth rate                                               6819 non-null   float64\n 31   total asset return growth rate Ratio                                6819 non-null   float64\n 32   cash reinvestment %                                                 6819 non-null   float64\n 33   current ratio                                                       6819 non-null   float64\n 34   quick ratio                                                         6819 non-null   float64\n 35   interest expense ratio                                              6819 non-null   float64\n 36   total debt/total net worth                                          6819 non-null   float64\n 37   debt ratio %                                                        6819 non-null   float64\n 38   net worth/assets                                                    6819 non-null   float64\n 39   long-term fund suitability ratio (A)                                6819 non-null   float64\n 40   borrowing dependency                                                6819 non-null   float64\n 41   contingent liabilities/net worth                                    6819 non-null   float64\n 42   Operating profit/paid-in capital                                    6819 non-null   float64\n 43   net profit before tax/paid-in capital                               6819 non-null   float64\n 44   inventory and accounts receivable/net value                         6819 non-null   float64\n 45   total asset turnover                                                6819 non-null   float64\n 46   accounts receivable turnover                                        6819 non-null   float64\n 47   average collection days                                             6819 non-null   float64\n 48   inventory turnover rate (times)                                     6819 non-null   float64\n 49   fixed assets Turnover frequency                                     6819 non-null   float64\n 50   net worth turnover rate (times)                                     6819 non-null   float64\n 51   revenue per person                                                  6819 non-null   float64\n 52   operating profit per person                                         6819 non-null   float64\n 53   allocation rate per person                                          6819 non-null   float64\n 54   working capital to total assets                                     6819 non-null   float64\n 55  Quick asset/Total asset                                              6819 non-null   float64\n 56  current assets/total assets                                          6819 non-null   float64\n 57  cash / total assets                                                  6819 non-null   float64\n 58  Quick asset /current liabilities                                     6819 non-null   float64\n 59  cash / current liability                                             6819 non-null   float64\n 60  current liability to assets                                          6819 non-null   float64\n 61  operating funds to liability                                         6819 non-null   float64\n 62  Inventory/working capital                                            6819 non-null   float64\n 63  Inventory/current liability                                          6819 non-null   float64\n 64  current liability / liability                                        6819 non-null   float64\n 65  working capital/equity                                               6819 non-null   float64\n 66  current liability/equity                                             6819 non-null   float64\n 67  long-term liability to current assets                                6819 non-null   float64\n 68  Retained Earnings/Total assets                                       6819 non-null   float64\n 69  total income / total expense                                         6819 non-null   float64\n 70  total expense /assets                                                6819 non-null   float64\n 71   current asset turnover rate                                         6819 non-null   float64\n 72   quick asset turnover rate                                           6819 non-null   float64\n 73   working capitcal turnover rate                                      6819 non-null   float64\n 74   cash turnover rate                                                  6819 non-null   float64\n 75   Cash flow to Sales                                                  6819 non-null   float64\n 76   fix assets to assets                                                6819 non-null   float64\n 77   current liability to liability                                      6819 non-null   float64\n 78  current liability to equity                                          6819 non-null   float64\n 79  equity to long-term liability                                        6819 non-null   float64\n 80  Cash flow to total assets                                            6819 non-null   float64\n 81  cash flow to liability                                               6819 non-null   float64\n 82  CFO to ASSETS                                                        6819 non-null   float64\n 83  cash flow to equity                                                  6819 non-null   float64\n 84  current liabilities to current assets                                6819 non-null   float64\n 85  one if total liabilities exceeds total assets zero otherwise         6819 non-null   int64  \n 86  net income to total assets                                           6819 non-null   float64\n 87  total assets to GNP price                                            6819 non-null   float64\n 88  No-credit interval                                                   6819 non-null   float64\n 89  Gross profit to Sales                                                6819 non-null   float64\n 90  Net income to stockholder's Equity                                   6819 non-null   float64\n 91  liability to equity                                                  6819 non-null   float64\n 92  Degree of financial leverage (DFL)                                   6819 non-null   float64\n 93  Interest coverage ratio( Interest expense to EBIT )                  6819 non-null   float64\n 94  one if net income was negative for the last two year zero otherwise  6819 non-null   int64  \n 95  equity to liability                                                  6819 non-null   float64\ndtypes: float64(93), int64(3)\nmemory usage: 5.0 MB\n"
     ]
    }
   ],
   "source": [
    "data.info()"
   ]
  },
  {
   "cell_type": "code",
   "execution_count": 55,
   "metadata": {},
   "outputs": [
    {
     "output_type": "execute_result",
     "data": {
      "text/plain": [
       "   Bankrupt?   ROA(C) before interest and depreciation before interest  \\\n",
       "0          1                                           0.370594          \n",
       "1          1                                           0.464291          \n",
       "2          1                                           0.426071          \n",
       "3          1                                           0.399844          \n",
       "4          1                                           0.465022          \n",
       "\n",
       "    ROA(A) before interest and % after tax  \\\n",
       "0                                 0.424389   \n",
       "1                                 0.538214   \n",
       "2                                 0.499019   \n",
       "3                                 0.451265   \n",
       "4                                 0.538432   \n",
       "\n",
       "    ROA(B) before interest and depreciation after tax  \\\n",
       "0                                           0.405750    \n",
       "1                                           0.516730    \n",
       "2                                           0.472295    \n",
       "3                                           0.457733    \n",
       "4                                           0.522298    \n",
       "\n",
       "    operating gross margin   realized sales gross margin  \\\n",
       "0                 0.601457                      0.601457   \n",
       "1                 0.610235                      0.610235   \n",
       "2                 0.601450                      0.601364   \n",
       "3                 0.583541                      0.583541   \n",
       "4                 0.598783                      0.598783   \n",
       "\n",
       "    operating profit rate   tax Pre-net interest rate  \\\n",
       "0                0.998969                    0.796887   \n",
       "1                0.998946                    0.797380   \n",
       "2                0.998857                    0.796403   \n",
       "3                0.998700                    0.796967   \n",
       "4                0.998973                    0.797366   \n",
       "\n",
       "    after-tax net interest rate   non-industry income and expenditure/revenue  \\\n",
       "0                      0.808809                                      0.302646   \n",
       "1                      0.809301                                      0.303556   \n",
       "2                      0.808388                                      0.302035   \n",
       "3                      0.808966                                      0.303350   \n",
       "4                      0.809304                                      0.303475   \n",
       "\n",
       "   ...  net income to total assets  total assets to GNP price  \\\n",
       "0  ...                    0.716845                   0.009219   \n",
       "1  ...                    0.795297                   0.008323   \n",
       "2  ...                    0.774670                   0.040003   \n",
       "3  ...                    0.739555                   0.003252   \n",
       "4  ...                    0.795016                   0.003878   \n",
       "\n",
       "   No-credit interval  Gross profit to Sales  \\\n",
       "0            0.622879               0.601453   \n",
       "1            0.623652               0.610237   \n",
       "2            0.623841               0.601449   \n",
       "3            0.622929               0.583538   \n",
       "4            0.623521               0.598782   \n",
       "\n",
       "   Net income to stockholder's Equity  liability to equity  \\\n",
       "0                            0.827890             0.290202   \n",
       "1                            0.839969             0.283846   \n",
       "2                            0.836774             0.290189   \n",
       "3                            0.834697             0.281721   \n",
       "4                            0.839973             0.278514   \n",
       "\n",
       "   Degree of financial leverage (DFL)  \\\n",
       "0                            0.026601   \n",
       "1                            0.264577   \n",
       "2                            0.026555   \n",
       "3                            0.026697   \n",
       "4                            0.024752   \n",
       "\n",
       "   Interest coverage ratio( Interest expense to EBIT )  \\\n",
       "0                                           0.564050     \n",
       "1                                           0.570175     \n",
       "2                                           0.563706     \n",
       "3                                           0.564663     \n",
       "4                                           0.575617     \n",
       "\n",
       "   one if net income was negative for the last two year zero otherwise  \\\n",
       "0                                                  1                     \n",
       "1                                                  1                     \n",
       "2                                                  1                     \n",
       "3                                                  1                     \n",
       "4                                                  1                     \n",
       "\n",
       "   equity to liability  \n",
       "0             0.016469  \n",
       "1             0.020794  \n",
       "2             0.016474  \n",
       "3             0.023982  \n",
       "4             0.035490  \n",
       "\n",
       "[5 rows x 96 columns]"
      ],
      "text/html": "<div>\n<style scoped>\n    .dataframe tbody tr th:only-of-type {\n        vertical-align: middle;\n    }\n\n    .dataframe tbody tr th {\n        vertical-align: top;\n    }\n\n    .dataframe thead th {\n        text-align: right;\n    }\n</style>\n<table border=\"1\" class=\"dataframe\">\n  <thead>\n    <tr style=\"text-align: right;\">\n      <th></th>\n      <th>Bankrupt?</th>\n      <th>ROA(C) before interest and depreciation before interest</th>\n      <th>ROA(A) before interest and % after tax</th>\n      <th>ROA(B) before interest and depreciation after tax</th>\n      <th>operating gross margin</th>\n      <th>realized sales gross margin</th>\n      <th>operating profit rate</th>\n      <th>tax Pre-net interest rate</th>\n      <th>after-tax net interest rate</th>\n      <th>non-industry income and expenditure/revenue</th>\n      <th>...</th>\n      <th>net income to total assets</th>\n      <th>total assets to GNP price</th>\n      <th>No-credit interval</th>\n      <th>Gross profit to Sales</th>\n      <th>Net income to stockholder's Equity</th>\n      <th>liability to equity</th>\n      <th>Degree of financial leverage (DFL)</th>\n      <th>Interest coverage ratio( Interest expense to EBIT )</th>\n      <th>one if net income was negative for the last two year zero otherwise</th>\n      <th>equity to liability</th>\n    </tr>\n  </thead>\n  <tbody>\n    <tr>\n      <th>0</th>\n      <td>1</td>\n      <td>0.370594</td>\n      <td>0.424389</td>\n      <td>0.405750</td>\n      <td>0.601457</td>\n      <td>0.601457</td>\n      <td>0.998969</td>\n      <td>0.796887</td>\n      <td>0.808809</td>\n      <td>0.302646</td>\n      <td>...</td>\n      <td>0.716845</td>\n      <td>0.009219</td>\n      <td>0.622879</td>\n      <td>0.601453</td>\n      <td>0.827890</td>\n      <td>0.290202</td>\n      <td>0.026601</td>\n      <td>0.564050</td>\n      <td>1</td>\n      <td>0.016469</td>\n    </tr>\n    <tr>\n      <th>1</th>\n      <td>1</td>\n      <td>0.464291</td>\n      <td>0.538214</td>\n      <td>0.516730</td>\n      <td>0.610235</td>\n      <td>0.610235</td>\n      <td>0.998946</td>\n      <td>0.797380</td>\n      <td>0.809301</td>\n      <td>0.303556</td>\n      <td>...</td>\n      <td>0.795297</td>\n      <td>0.008323</td>\n      <td>0.623652</td>\n      <td>0.610237</td>\n      <td>0.839969</td>\n      <td>0.283846</td>\n      <td>0.264577</td>\n      <td>0.570175</td>\n      <td>1</td>\n      <td>0.020794</td>\n    </tr>\n    <tr>\n      <th>2</th>\n      <td>1</td>\n      <td>0.426071</td>\n      <td>0.499019</td>\n      <td>0.472295</td>\n      <td>0.601450</td>\n      <td>0.601364</td>\n      <td>0.998857</td>\n      <td>0.796403</td>\n      <td>0.808388</td>\n      <td>0.302035</td>\n      <td>...</td>\n      <td>0.774670</td>\n      <td>0.040003</td>\n      <td>0.623841</td>\n      <td>0.601449</td>\n      <td>0.836774</td>\n      <td>0.290189</td>\n      <td>0.026555</td>\n      <td>0.563706</td>\n      <td>1</td>\n      <td>0.016474</td>\n    </tr>\n    <tr>\n      <th>3</th>\n      <td>1</td>\n      <td>0.399844</td>\n      <td>0.451265</td>\n      <td>0.457733</td>\n      <td>0.583541</td>\n      <td>0.583541</td>\n      <td>0.998700</td>\n      <td>0.796967</td>\n      <td>0.808966</td>\n      <td>0.303350</td>\n      <td>...</td>\n      <td>0.739555</td>\n      <td>0.003252</td>\n      <td>0.622929</td>\n      <td>0.583538</td>\n      <td>0.834697</td>\n      <td>0.281721</td>\n      <td>0.026697</td>\n      <td>0.564663</td>\n      <td>1</td>\n      <td>0.023982</td>\n    </tr>\n    <tr>\n      <th>4</th>\n      <td>1</td>\n      <td>0.465022</td>\n      <td>0.538432</td>\n      <td>0.522298</td>\n      <td>0.598783</td>\n      <td>0.598783</td>\n      <td>0.998973</td>\n      <td>0.797366</td>\n      <td>0.809304</td>\n      <td>0.303475</td>\n      <td>...</td>\n      <td>0.795016</td>\n      <td>0.003878</td>\n      <td>0.623521</td>\n      <td>0.598782</td>\n      <td>0.839973</td>\n      <td>0.278514</td>\n      <td>0.024752</td>\n      <td>0.575617</td>\n      <td>1</td>\n      <td>0.035490</td>\n    </tr>\n  </tbody>\n</table>\n<p>5 rows × 96 columns</p>\n</div>"
     },
     "metadata": {},
     "execution_count": 55
    }
   ],
   "source": [
    "data.head()"
   ]
  },
  {
   "source": [
    "As this dataset does not have any missing values, we will be checking if everything has been encoded as a valid entry"
   ],
   "cell_type": "markdown",
   "metadata": {}
  },
  {
   "source": [
    "data.describe().T"
   ],
   "cell_type": "code",
   "metadata": {},
   "execution_count": 56,
   "outputs": [
    {
     "output_type": "execute_result",
     "data": {
      "text/plain": [
       "                                                     count      mean  \\\n",
       "Bankrupt?                                           6819.0  0.032263   \n",
       " ROA(C) before interest and depreciation before...  6819.0  0.505180   \n",
       " ROA(A) before interest and % after tax             6819.0  0.558625   \n",
       " ROA(B) before interest and depreciation after tax  6819.0  0.553589   \n",
       " operating gross margin                             6819.0  0.607948   \n",
       "...                                                    ...       ...   \n",
       "liability to equity                                 6819.0  0.280365   \n",
       "Degree of financial leverage (DFL)                  6819.0  0.027541   \n",
       "Interest coverage ratio( Interest expense to EB...  6819.0  0.565358   \n",
       "one if net income was negative for the last two...  6819.0  1.000000   \n",
       "equity to liability                                 6819.0  0.047578   \n",
       "\n",
       "                                                         std  min       25%  \\\n",
       "Bankrupt?                                           0.176710  0.0  0.000000   \n",
       " ROA(C) before interest and depreciation before...  0.060686  0.0  0.476527   \n",
       " ROA(A) before interest and % after tax             0.065620  0.0  0.535543   \n",
       " ROA(B) before interest and depreciation after tax  0.061595  0.0  0.527277   \n",
       " operating gross margin                             0.016934  0.0  0.600445   \n",
       "...                                                      ...  ...       ...   \n",
       "liability to equity                                 0.014463  0.0  0.276944   \n",
       "Degree of financial leverage (DFL)                  0.015668  0.0  0.026791   \n",
       "Interest coverage ratio( Interest expense to EB...  0.013214  0.0  0.565158   \n",
       "one if net income was negative for the last two...  0.000000  1.0  1.000000   \n",
       "equity to liability                                 0.050014  0.0  0.024477   \n",
       "\n",
       "                                                         50%       75%  max  \n",
       "Bankrupt?                                           0.000000  0.000000  1.0  \n",
       " ROA(C) before interest and depreciation before...  0.502706  0.535563  1.0  \n",
       " ROA(A) before interest and % after tax             0.559802  0.589157  1.0  \n",
       " ROA(B) before interest and depreciation after tax  0.552278  0.584105  1.0  \n",
       " operating gross margin                             0.605997  0.613914  1.0  \n",
       "...                                                      ...       ...  ...  \n",
       "liability to equity                                 0.278778  0.281449  1.0  \n",
       "Degree of financial leverage (DFL)                  0.026808  0.026913  1.0  \n",
       "Interest coverage ratio( Interest expense to EB...  0.565252  0.565725  1.0  \n",
       "one if net income was negative for the last two...  1.000000  1.000000  1.0  \n",
       "equity to liability                                 0.033798  0.052838  1.0  \n",
       "\n",
       "[96 rows x 8 columns]"
      ],
      "text/html": "<div>\n<style scoped>\n    .dataframe tbody tr th:only-of-type {\n        vertical-align: middle;\n    }\n\n    .dataframe tbody tr th {\n        vertical-align: top;\n    }\n\n    .dataframe thead th {\n        text-align: right;\n    }\n</style>\n<table border=\"1\" class=\"dataframe\">\n  <thead>\n    <tr style=\"text-align: right;\">\n      <th></th>\n      <th>count</th>\n      <th>mean</th>\n      <th>std</th>\n      <th>min</th>\n      <th>25%</th>\n      <th>50%</th>\n      <th>75%</th>\n      <th>max</th>\n    </tr>\n  </thead>\n  <tbody>\n    <tr>\n      <th>Bankrupt?</th>\n      <td>6819.0</td>\n      <td>0.032263</td>\n      <td>0.176710</td>\n      <td>0.0</td>\n      <td>0.000000</td>\n      <td>0.000000</td>\n      <td>0.000000</td>\n      <td>1.0</td>\n    </tr>\n    <tr>\n      <th>ROA(C) before interest and depreciation before interest</th>\n      <td>6819.0</td>\n      <td>0.505180</td>\n      <td>0.060686</td>\n      <td>0.0</td>\n      <td>0.476527</td>\n      <td>0.502706</td>\n      <td>0.535563</td>\n      <td>1.0</td>\n    </tr>\n    <tr>\n      <th>ROA(A) before interest and % after tax</th>\n      <td>6819.0</td>\n      <td>0.558625</td>\n      <td>0.065620</td>\n      <td>0.0</td>\n      <td>0.535543</td>\n      <td>0.559802</td>\n      <td>0.589157</td>\n      <td>1.0</td>\n    </tr>\n    <tr>\n      <th>ROA(B) before interest and depreciation after tax</th>\n      <td>6819.0</td>\n      <td>0.553589</td>\n      <td>0.061595</td>\n      <td>0.0</td>\n      <td>0.527277</td>\n      <td>0.552278</td>\n      <td>0.584105</td>\n      <td>1.0</td>\n    </tr>\n    <tr>\n      <th>operating gross margin</th>\n      <td>6819.0</td>\n      <td>0.607948</td>\n      <td>0.016934</td>\n      <td>0.0</td>\n      <td>0.600445</td>\n      <td>0.605997</td>\n      <td>0.613914</td>\n      <td>1.0</td>\n    </tr>\n    <tr>\n      <th>...</th>\n      <td>...</td>\n      <td>...</td>\n      <td>...</td>\n      <td>...</td>\n      <td>...</td>\n      <td>...</td>\n      <td>...</td>\n      <td>...</td>\n    </tr>\n    <tr>\n      <th>liability to equity</th>\n      <td>6819.0</td>\n      <td>0.280365</td>\n      <td>0.014463</td>\n      <td>0.0</td>\n      <td>0.276944</td>\n      <td>0.278778</td>\n      <td>0.281449</td>\n      <td>1.0</td>\n    </tr>\n    <tr>\n      <th>Degree of financial leverage (DFL)</th>\n      <td>6819.0</td>\n      <td>0.027541</td>\n      <td>0.015668</td>\n      <td>0.0</td>\n      <td>0.026791</td>\n      <td>0.026808</td>\n      <td>0.026913</td>\n      <td>1.0</td>\n    </tr>\n    <tr>\n      <th>Interest coverage ratio( Interest expense to EBIT )</th>\n      <td>6819.0</td>\n      <td>0.565358</td>\n      <td>0.013214</td>\n      <td>0.0</td>\n      <td>0.565158</td>\n      <td>0.565252</td>\n      <td>0.565725</td>\n      <td>1.0</td>\n    </tr>\n    <tr>\n      <th>one if net income was negative for the last two year zero otherwise</th>\n      <td>6819.0</td>\n      <td>1.000000</td>\n      <td>0.000000</td>\n      <td>1.0</td>\n      <td>1.000000</td>\n      <td>1.000000</td>\n      <td>1.000000</td>\n      <td>1.0</td>\n    </tr>\n    <tr>\n      <th>equity to liability</th>\n      <td>6819.0</td>\n      <td>0.047578</td>\n      <td>0.050014</td>\n      <td>0.0</td>\n      <td>0.024477</td>\n      <td>0.033798</td>\n      <td>0.052838</td>\n      <td>1.0</td>\n    </tr>\n  </tbody>\n</table>\n<p>96 rows × 8 columns</p>\n</div>"
     },
     "metadata": {},
     "execution_count": 56
    }
   ]
  },
  {
   "source": [
    "Everything seems to be within the same range of 0 to 1, so we do not need to worry about encoding errors such as 9999 or negative numbers.  Everything is also a float or integer, so we do not need to encode categorical features.  There are features where the min and max are 1, so we will explore below"
   ],
   "cell_type": "markdown",
   "metadata": {}
  },
  {
   "cell_type": "code",
   "execution_count": 57,
   "metadata": {},
   "outputs": [
    {
     "output_type": "execute_result",
     "data": {
      "text/plain": [
       "1    6819\n",
       "Name: one if net income was negative for the last two year zero otherwise, dtype: int64"
      ]
     },
     "metadata": {},
     "execution_count": 57
    }
   ],
   "source": [
    "data['one if net income was negative for the last two year zero otherwise'].value_counts()"
   ]
  },
  {
   "cell_type": "code",
   "execution_count": 58,
   "metadata": {},
   "outputs": [
    {
     "output_type": "stream",
     "name": "stdout",
     "text": [
      "one if net income was negative for the last two year zero otherwise\n"
     ]
    }
   ],
   "source": [
    "columns = data.columns\n",
    "for column in columns:\n",
    "    if data[column].min() == 1:\n",
    "        print(column)\n",
    "    else:\n",
    "        pass"
   ]
  },
  {
   "source": [
    "This is the only column with all 1's, so we will drop this before doing exploratory data analysis"
   ],
   "cell_type": "markdown",
   "metadata": {}
  },
  {
   "source": [
    "All companies in this column are 1, so we will most likely be dropped, as it does not provide any real information"
   ],
   "cell_type": "markdown",
   "metadata": {}
  },
  {
   "cell_type": "code",
   "execution_count": 59,
   "metadata": {},
   "outputs": [],
   "source": [
    "data = data.drop('one if net income was negative for the last two year zero otherwise', axis=1)"
   ]
  },
  {
   "cell_type": "code",
   "execution_count": 60,
   "metadata": {},
   "outputs": [
    {
     "output_type": "execute_result",
     "data": {
      "text/plain": [
       "(6819, 95)"
      ]
     },
     "metadata": {},
     "execution_count": 60
    }
   ],
   "source": [
    "data.shape"
   ]
  },
  {
   "cell_type": "code",
   "execution_count": 61,
   "metadata": {},
   "outputs": [
    {
     "output_type": "execute_result",
     "data": {
      "text/plain": [
       "                                       min           max\n",
       "Bankrupt?                              0.0  1.000000e+00\n",
       "Retained Earnings/Total assets         0.0  1.000000e+00\n",
       "long-term liability to current assets  0.0  9.540000e+09\n",
       "current liability/equity               0.0  1.000000e+00\n",
       "working capital/equity                 0.0  1.000000e+00\n",
       "...                                    ...           ...\n",
       " regular net profit growth rate        0.0  1.000000e+00\n",
       " after-tax net profit growth rate      0.0  1.000000e+00\n",
       " operating profit growth rate          0.0  1.000000e+00\n",
       " quick ratio                           0.0  9.230000e+09\n",
       "equity to liability                    0.0  1.000000e+00\n",
       "\n",
       "[95 rows x 2 columns]"
      ],
      "text/html": "<div>\n<style scoped>\n    .dataframe tbody tr th:only-of-type {\n        vertical-align: middle;\n    }\n\n    .dataframe tbody tr th {\n        vertical-align: top;\n    }\n\n    .dataframe thead th {\n        text-align: right;\n    }\n</style>\n<table border=\"1\" class=\"dataframe\">\n  <thead>\n    <tr style=\"text-align: right;\">\n      <th></th>\n      <th>min</th>\n      <th>max</th>\n    </tr>\n  </thead>\n  <tbody>\n    <tr>\n      <th>Bankrupt?</th>\n      <td>0.0</td>\n      <td>1.000000e+00</td>\n    </tr>\n    <tr>\n      <th>Retained Earnings/Total assets</th>\n      <td>0.0</td>\n      <td>1.000000e+00</td>\n    </tr>\n    <tr>\n      <th>long-term liability to current assets</th>\n      <td>0.0</td>\n      <td>9.540000e+09</td>\n    </tr>\n    <tr>\n      <th>current liability/equity</th>\n      <td>0.0</td>\n      <td>1.000000e+00</td>\n    </tr>\n    <tr>\n      <th>working capital/equity</th>\n      <td>0.0</td>\n      <td>1.000000e+00</td>\n    </tr>\n    <tr>\n      <th>...</th>\n      <td>...</td>\n      <td>...</td>\n    </tr>\n    <tr>\n      <th>regular net profit growth rate</th>\n      <td>0.0</td>\n      <td>1.000000e+00</td>\n    </tr>\n    <tr>\n      <th>after-tax net profit growth rate</th>\n      <td>0.0</td>\n      <td>1.000000e+00</td>\n    </tr>\n    <tr>\n      <th>operating profit growth rate</th>\n      <td>0.0</td>\n      <td>1.000000e+00</td>\n    </tr>\n    <tr>\n      <th>quick ratio</th>\n      <td>0.0</td>\n      <td>9.230000e+09</td>\n    </tr>\n    <tr>\n      <th>equity to liability</th>\n      <td>0.0</td>\n      <td>1.000000e+00</td>\n    </tr>\n  </tbody>\n</table>\n<p>95 rows × 2 columns</p>\n</div>"
     },
     "metadata": {},
     "execution_count": 61
    }
   ],
   "source": [
    "data.aggregate(['min','max']).T.sort_values(by='min')"
   ]
  },
  {
   "source": [
    "As we can see below, this dataset is unbalanced, so we will need to be conscientious for correctly predicting class labels"
   ],
   "cell_type": "markdown",
   "metadata": {}
  },
  {
   "cell_type": "code",
   "execution_count": 62,
   "metadata": {},
   "outputs": [
    {
     "output_type": "execute_result",
     "data": {
      "text/plain": [
       "0    6599\n",
       "1     220\n",
       "Name: Bankrupt?, dtype: int64"
      ]
     },
     "metadata": {},
     "execution_count": 62
    }
   ],
   "source": [
    "data['Bankrupt?'].value_counts()"
   ]
  },
  {
   "source": [
    "I will be exporting this dataset to move to Exploratory Data Analysis"
   ],
   "cell_type": "markdown",
   "metadata": {}
  },
  {
   "cell_type": "code",
   "execution_count": 64,
   "metadata": {},
   "outputs": [],
   "source": [
    "data.to_csv('../data/data_cleaned.csv')"
   ]
  },
  {
   "cell_type": "code",
   "execution_count": null,
   "metadata": {},
   "outputs": [],
   "source": []
  }
 ]
}