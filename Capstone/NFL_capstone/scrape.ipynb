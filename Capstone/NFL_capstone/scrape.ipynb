{
 "metadata": {
  "language_info": {
   "codemirror_mode": {
    "name": "ipython",
    "version": 3
   },
   "file_extension": ".py",
   "mimetype": "text/x-python",
   "name": "python",
   "nbconvert_exporter": "python",
   "pygments_lexer": "ipython3",
   "version": "3.8.5-final"
  },
  "orig_nbformat": 2,
  "kernelspec": {
   "name": "python3",
   "display_name": "Python 3.8.5 64-bit ('Guided_capstone': conda)",
   "metadata": {
    "interpreter": {
     "hash": "2730903b355b9e9b3c9269ef17f5200dea73fcb629f089b715d8ff4d6bf30f99"
    }
   }
  }
 },
 "nbformat": 4,
 "nbformat_minor": 2,
 "cells": [
  {
   "cell_type": "code",
   "execution_count": 7,
   "metadata": {},
   "outputs": [],
   "source": [
    "from bs4 import BeautifulSoup\n",
    "import requests\n",
    "import pandas as pd\n",
    "import numpy as np"
   ]
  },
  {
   "cell_type": "code",
   "execution_count": 8,
   "metadata": {},
   "outputs": [],
   "source": [
    "teams = ['nwe', 'buf', 'nyj', 'mia', 'rav', 'pit', 'cle', 'cin', 'htx', 'oti', 'clt', 'jax', 'kan', 'den', 'rai', 'sdg', 'phi', 'dal', 'nyg', 'was', 'gnb', 'min', 'chi', 'det', 'nor', 'atl', 'tam', 'car', 'sfo', 'sea', 'ram', 'crd']\n",
    "years = np.arange(1998,2019)"
   ]
  },
  {
   "cell_type": "code",
   "execution_count": 16,
   "metadata": {
    "tags": []
   },
   "outputs": [],
   "source": [
    "url = \"https://www.pro-football-reference.com/teams/sea/1998.htm\"\n",
    "req = requests.get(url)\n",
    "c = req.content\n",
    "hawks = BeautifulSoup(c, \"html.parser\")"
   ]
  },
  {
   "cell_type": "code",
   "execution_count": 25,
   "metadata": {},
   "outputs": [],
   "source": [
    "test = hawks.find(\"div\", {\"data-template\":\"Partials/Teams/Summary\"})"
   ]
  },
  {
   "cell_type": "code",
   "execution_count": 26,
   "metadata": {},
   "outputs": [
    {
     "output_type": "stream",
     "name": "stdout",
     "text": [
      "<div data-template=\"Partials/Teams/Summary\">\n<h1 itemprop=\"name\">\n<span>1998</span>\n<span>Seattle Seahawks</span>\n<span class=\"header_end\">Statistics &amp; Players</span>\n</h1>\n<div class=\"prevnext\">\n<a class=\"button2 prev\" href=\"/teams/sea/1997.htm\">Previous Season</a>\n<a class=\"button2 next\" href=\"/teams/sea/1999.htm\">Next Season</a>\n</div>\n<p>\n<strong>Record:</strong> 8-8-0, 3rd in\n\t<a href=\"/years/1998\">AFC West Division</a>\n   (<a href=\"/teams/sea/1998_games.htm\">Schedule and Results</a>)\n</p>\n<p><strong>Coach:</strong>\n<a href=\"/coaches/EricDe0.htm\">Dennis Erickson</a> (8-8-0)</p>\n<p><strong>Points For:</strong> 372 (23.3/g) 10th of 30</p>\n<p><strong>Points Against:</strong> 310 (19.4/g) 10th of 30</p>\n<p><strong><a class=\"tooltip\" href=\"/about/glossary.htm#expwl\" tip=\"The expected wins given their points scored and allowed\">Expected W-L</a>:</strong> 9.7-6.3</p>\n<p><a href=\"/about/glossary.htm#srs\"><strong>SRS</strong></a>: 1.46 (12th of 30), \n  <a href=\"/about/glossary.htm#sos\"><strong>SOS</strong></a>: -2.41\n</p>\n<p><strong>Offensive Coordinator:</strong> <a href=\"/coaches/BratBo0.htm\">Bob Bratkowski</a></p>\n<p><strong>Defensive Coordinator:</strong> <a href=\"/coaches/McMaGr0.htm\">Greg McMackin</a></p>\n<p><strong>Other Notable Asst.:</strong> <a href=\"/coaches/JackMi0.htm\">Milt Jackson</a> (Wide Receivers), <a href=\"/coaches/JohnJi1.htm\">Jim Johnson</a> (Linebackers), <a href=\"/coaches/OlsoRi0.htm\">Rich Olson</a> (Quarterbacks) and <a href=\"/coaches/RobiWi0.htm\">Willy Robinson</a> (Defensive Backs)\n\n\n<p><strong>Stadium:</strong> <a href=\"/stadiums/SEA98.htm\">Seattle Kingdome</a></p>\n<p><strong>Chairman:</strong> <a href=\"/executives/AllePa0.htm\">Paul Allen</a></p>\n<p><strong>VP of Football Operations:</strong> <a href=\"/executives/MuelRa0.htm\">Randy Mueller</a></p>\n<p><strong>President/Acting General Manager:</strong> <a href=\"/executives/WhitBo0.htm\">Bob Whitsitt</a></p>\n<p><strong>Offensive Scheme:</strong> Spread</p>\n<p><strong>Defensive Alignment:</strong> 4-3</p>\n<p><strong>Preseason Odds:</strong> <a href=\"/years/1998/preseason_odds.htm\">Super Bowl +2000; O/U: 8.5</a></p>\n<p><strong>Training Camp:</strong> <a href=\"/years/1998/training-camps.htm\">Eastern Washington University (Cheney, Washington)</a> </p>\n<button class=\"opener\" data-class=\"open\" data-id=\"info\" data-type=\"hide_after\" id=\"meta_more_button\">More Team Info</button>\n</p></div>\n"
     ]
    }
   ],
   "source": [
    "print(test)"
   ]
  },
  {
   "cell_type": "code",
   "execution_count": null,
   "metadata": {},
   "outputs": [],
   "source": []
  }
 ]
}