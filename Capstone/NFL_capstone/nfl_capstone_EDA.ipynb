{
 "metadata": {
  "language_info": {
   "codemirror_mode": {
    "name": "ipython",
    "version": 3
   },
   "file_extension": ".py",
   "mimetype": "text/x-python",
   "name": "python",
   "nbconvert_exporter": "python",
   "pygments_lexer": "ipython3",
   "version": "3.6.3-final"
  },
  "orig_nbformat": 2,
  "kernelspec": {
   "name": "python3",
   "display_name": "Python 3.6.3 64-bit ('Springboard': conda)",
   "metadata": {
    "interpreter": {
     "hash": "c89e3a547b31aeddc31efee464a9a300846520c3802d37af32d3efdc899ae2c5"
    }
   }
  }
 },
 "nbformat": 4,
 "nbformat_minor": 2,
 "cells": [
  {
   "source": [
    "# NFL Capstone EDA"
   ],
   "cell_type": "markdown",
   "metadata": {}
  },
  {
   "source": [
    "I will be using SQL to create dataframes of the various tables and combinations to perform EDA"
   ],
   "cell_type": "markdown",
   "metadata": {}
  },
  {
   "source": [
    "## Imports"
   ],
   "cell_type": "markdown",
   "metadata": {}
  },
  {
   "cell_type": "code",
   "execution_count": 36,
   "metadata": {},
   "outputs": [],
   "source": [
    "import pandas as pd\n",
    "import numpy as np\n",
    "import matplotlib.pyplot as plt\n",
    "import seaborn as sns\n",
    "import sqlite3\n",
    "import os\n",
    "import sys"
   ]
  },
  {
   "source": [
    "## Connect to Database and create dataframes of each table to combine later"
   ],
   "cell_type": "markdown",
   "metadata": {}
  },
  {
   "cell_type": "code",
   "execution_count": 37,
   "metadata": {},
   "outputs": [],
   "source": [
    "conn = sqlite3.connect('NFLstats.db')"
   ]
  },
  {
   "cell_type": "code",
   "execution_count": 38,
   "metadata": {},
   "outputs": [],
   "source": [
    "teamyearsummarySQL_Query = pd.read_sql_query(\"SELECT * FROM 'teamyearsummary'\", conn)\n",
    "teamyearsummary = pd.DataFrame(teamyearsummarySQL_Query)\n",
    "del teamyearsummary['id']"
   ]
  },
  {
   "cell_type": "code",
   "execution_count": 39,
   "metadata": {},
   "outputs": [],
   "source": [
    "weeksSQL_Query = pd.read_sql_query(\"SELECT * FROM 'weeks'\", conn)\n",
    "weeks = pd.DataFrame(weeksSQL_Query)\n",
    "del weeks['id']"
   ]
  },
  {
   "cell_type": "code",
   "execution_count": 40,
   "metadata": {},
   "outputs": [],
   "source": [
    "draftSQL_Query = pd.read_sql_query(\"SELECT * FROM 'draft'\", conn)\n",
    "draft = pd.DataFrame(draftSQL_Query)\n",
    "#drop drafted special teams players only 78/4595 drafted players with 3 positions\n",
    "draft = draft[draft.DraftPosition != 'ST']\n",
    "del draft['id']"
   ]
  },
  {
   "cell_type": "code",
   "execution_count": 41,
   "metadata": {},
   "outputs": [],
   "source": [
    "startersSQL_Query = pd.read_sql_query(\"SELECT * FROM 'starters'\", conn)\n",
    "starters = pd.DataFrame(startersSQL_Query)\n",
    "#Removal of whitespace in 'Starting Player'\n",
    "starters['StartingPlayer'] = starters['StartingPlayer'].str.strip()\n",
    "del starters['id']"
   ]
  },
  {
   "cell_type": "code",
   "execution_count": 42,
   "metadata": {},
   "outputs": [
    {
     "output_type": "execute_result",
     "data": {
      "text/plain": [
       "                Team  Year  StartingPlayer  StartingPlayerAge  \\\n",
       "0  Arizona Cardinals  2002    Jake Plummer               1974   \n",
       "1  Arizona Cardinals  2002    Thomas Jones               1978   \n",
       "2  Arizona Cardinals  2002  Jason McAddley               1979   \n",
       "3  Arizona Cardinals  2002   Frank Sanders               1973   \n",
       "4  Arizona Cardinals  2002      Steve Bush               1974   \n",
       "\n",
       "  StartingPosition  StartingPlayerYrs  StartingPlayerGS  \n",
       "0               QB                  5                16  \n",
       "1               RB                  2                 9  \n",
       "2               WR                  0                 8  \n",
       "3               WR                  7                12  \n",
       "4               TE                  5                12  "
      ],
      "text/html": "<div>\n<style scoped>\n    .dataframe tbody tr th:only-of-type {\n        vertical-align: middle;\n    }\n\n    .dataframe tbody tr th {\n        vertical-align: top;\n    }\n\n    .dataframe thead th {\n        text-align: right;\n    }\n</style>\n<table border=\"1\" class=\"dataframe\">\n  <thead>\n    <tr style=\"text-align: right;\">\n      <th></th>\n      <th>Team</th>\n      <th>Year</th>\n      <th>StartingPlayer</th>\n      <th>StartingPlayerAge</th>\n      <th>StartingPosition</th>\n      <th>StartingPlayerYrs</th>\n      <th>StartingPlayerGS</th>\n    </tr>\n  </thead>\n  <tbody>\n    <tr>\n      <th>0</th>\n      <td>Arizona Cardinals</td>\n      <td>2002</td>\n      <td>Jake Plummer</td>\n      <td>1974</td>\n      <td>QB</td>\n      <td>5</td>\n      <td>16</td>\n    </tr>\n    <tr>\n      <th>1</th>\n      <td>Arizona Cardinals</td>\n      <td>2002</td>\n      <td>Thomas Jones</td>\n      <td>1978</td>\n      <td>RB</td>\n      <td>2</td>\n      <td>9</td>\n    </tr>\n    <tr>\n      <th>2</th>\n      <td>Arizona Cardinals</td>\n      <td>2002</td>\n      <td>Jason McAddley</td>\n      <td>1979</td>\n      <td>WR</td>\n      <td>0</td>\n      <td>8</td>\n    </tr>\n    <tr>\n      <th>3</th>\n      <td>Arizona Cardinals</td>\n      <td>2002</td>\n      <td>Frank Sanders</td>\n      <td>1973</td>\n      <td>WR</td>\n      <td>7</td>\n      <td>12</td>\n    </tr>\n    <tr>\n      <th>4</th>\n      <td>Arizona Cardinals</td>\n      <td>2002</td>\n      <td>Steve Bush</td>\n      <td>1974</td>\n      <td>TE</td>\n      <td>5</td>\n      <td>12</td>\n    </tr>\n  </tbody>\n</table>\n</div>"
     },
     "metadata": {},
     "execution_count": 42
    }
   ],
   "source": [
    "starters.head()"
   ]
  },
  {
   "source": [
    "## Additional features added to starters df"
   ],
   "cell_type": "markdown",
   "metadata": {}
  },
  {
   "cell_type": "code",
   "execution_count": 43,
   "metadata": {},
   "outputs": [],
   "source": [
    "#Create column of the number of years as a starter for that team\n",
    "# This cell designates the players first year\n",
    "# Have to filter by player and age because when scraping data, I had to go piece-wise, and did not generate unique playerid\n",
    "starters['YrsTeamStarter'] = int(0)\n",
    "\n",
    "for player in starters['StartingPlayer'].unique():\n",
    "    for age in set(starters[(starters['StartingPlayer']==player)]['StartingPlayerAge']):\n",
    "        firstyear = starters[(starters['StartingPlayer']==player) & (starters['StartingPlayerAge']==age)]['Year'].idxmin()\n",
    "        starters.loc[firstyear, 'YrsTeamStarter'] = int(1)"
   ]
  },
  {
   "cell_type": "code",
   "execution_count": null,
   "metadata": {},
   "outputs": [],
   "source": [
    "#Loop through player and year, if it is player's first year, add team to list of teams and add 1 to counter\n",
    "# if not first year, but team is in list, add another year as a starter to the YrsTeamStarter column\n",
    "# if not first year, but team is not in team list, this is a new team, and years as starter is back to 1\n",
    "for player in starters['StartingPlayer'].unique():\n",
    "    for age in set(starters[(starters['StartingPlayer']==player)]['StartingPlayerAge']):\n",
    "        teamyear = []\n",
    "        yrscount = 0\n",
    "        for year in starters[(starters['StartingPlayer']==player) & (starters['StartingPlayerAge']==age)]['Year'].sort_values().unique():\n",
    "            mask = starters[(starters['StartingPlayer']==player) & (starters['StartingPlayerAge']==age) &(starters['Year']==year)].index\n",
    "            if starters.loc[mask, 'YrsTeamStarter'].iloc[-1] == 1:\n",
    "                yrscount = 1\n",
    "                teamyear.extend(starters.loc[mask,'Team'])\n",
    "                #print(player, year, teamyear, starters.loc[mask, 'YrsTeamStarter'].iloc[-1], '1')\n",
    "                continue\n",
    "            elif starters.loc[mask,'Team'].iloc[-1] in teamyear:\n",
    "                yrscount += 1\n",
    "                starters.loc[mask, 'YrsTeamStarter'] = yrscount\n",
    "                teamyear.extend(starters.loc[mask,'Team'])\n",
    "                #print(player, year, teamyear, starters.loc[mask, 'YrsTeamStarter'].iloc[-1], '2')\n",
    "                continue\n",
    "            elif starters.loc[mask,'Team'].iloc[-1] not in teamyear:\n",
    "                starters.at[mask, 'YrsTeamStarter'] = 1\n",
    "                teamyear.extend(starters.loc[mask,'Team'])\n",
    "                #print(player, year, teamyear, starters.loc[mask, 'YrsTeamStarter'].iloc[-1], '3')\n",
    "                continue\n",
    "            else:\n",
    "                pass"
   ]
  },
  {
   "source": [
    "## Import data from nfldata github repository and prepare to combine with scraped data"
   ],
   "cell_type": "markdown",
   "metadata": {}
  },
  {
   "cell_type": "code",
   "execution_count": null,
   "metadata": {},
   "outputs": [],
   "source": [
    "roster = pd.read_csv('https://raw.githubusercontent.com/leesharpe/nfldata/master/data/rosters.csv')\n",
    "nfldatateam = pd.read_csv('https://raw.githubusercontent.com/leesharpe/nfldata/master/data/teams.csv')"
   ]
  },
  {
   "cell_type": "code",
   "execution_count": null,
   "metadata": {},
   "outputs": [],
   "source": [
    "#remove duplicates and account for team name changes of 4 teams\n",
    "#ex original SD --> San Diego Chargers new SD --> Los Angeles Chargers \n",
    "#allows for merge with my scraped data\n",
    "teamdf = nfldatateam[['team', 'full']].drop_duplicates()\n",
    "teamdf.iloc[31, 1] = 'Washington Football Team'\n",
    "teamdf.iloc[28, 1] = 'Los Angeles Rams'\n",
    "teamdf.iloc[25, 1] = 'Los Angeles Chargers'\n",
    "teamdf.iloc[22, 1] = 'Las Vegas Raiders'\n",
    "teamdf.set_index('team')"
   ]
  },
  {
   "cell_type": "code",
   "execution_count": null,
   "metadata": {},
   "outputs": [],
   "source": [
    "#merge teamdf to roster to allow for merge on full team name from scraped data\n",
    "roster = pd.merge(left=roster, right=teamdf, how='left', on='team')\n",
    "roster.rename(columns={'full': 'Team','season':'Year', 'full_name':'StartingPlayer', 'av':'AV'}, inplace=True)\n",
    "#Remove Duplicates \n",
    "roster = roster[['Year', 'StartingPlayer', 'AV', 'Team']]\n",
    "#remove instances where av is na\n",
    "roster = roster[roster['AV'].notna()]\n",
    "roster.drop_duplicates(inplace=True)"
   ]
  },
  {
   "source": [
    "### Joining of Approximate Value per player per year to starters\n",
    "https://www.pro-football-reference.com/blog/index6b92.html?p=465"
   ],
   "cell_type": "markdown",
   "metadata": {}
  },
  {
   "cell_type": "code",
   "execution_count": null,
   "metadata": {},
   "outputs": [],
   "source": [
    "starters.head()"
   ]
  },
  {
   "cell_type": "code",
   "execution_count": null,
   "metadata": {},
   "outputs": [],
   "source": [
    "roster.head()"
   ]
  },
  {
   "cell_type": "code",
   "execution_count": null,
   "metadata": {},
   "outputs": [],
   "source": [
    "starters = pd.merge(left=starters, right=roster, how='left', on=['StartingPlayer','Year', 'Team'])"
   ]
  },
  {
   "cell_type": "code",
   "execution_count": null,
   "metadata": {},
   "outputs": [],
   "source": [
    "starters"
   ]
  },
  {
   "source": [
    "## Statistics of each table"
   ],
   "cell_type": "markdown",
   "metadata": {}
  },
  {
   "cell_type": "code",
   "execution_count": null,
   "metadata": {},
   "outputs": [],
   "source": [
    "teamyearsummary.describe().T"
   ]
  },
  {
   "cell_type": "code",
   "execution_count": null,
   "metadata": {},
   "outputs": [],
   "source": [
    "weeks.describe().T"
   ]
  },
  {
   "cell_type": "code",
   "execution_count": null,
   "metadata": {},
   "outputs": [],
   "source": [
    "teamyearsummary.hist(bins=10, figsize=(25,20))\n",
    "plt.show()"
   ]
  },
  {
   "cell_type": "code",
   "execution_count": null,
   "metadata": {},
   "outputs": [],
   "source": [
    "weeks.hist(bins=10, figsize=(25,20))\n",
    "plt.show()"
   ]
  },
  {
   "source": [
    "### What is more correlated with the play selection of pass vs. run on offense, the team, head coach, offensive coordinator or offensive scheme?"
   ],
   "cell_type": "markdown",
   "metadata": {}
  },
  {
   "cell_type": "code",
   "execution_count": null,
   "metadata": {},
   "outputs": [],
   "source": [
    "def correlation_ratio(categories, measurements):\n",
    "    fcat, _ = pd.factorize(categories)\n",
    "    cat_num = np.max(fcat)+1\n",
    "    y_avg_array = np.zeros(cat_num)\n",
    "    n_array = np.zeros(cat_num)\n",
    "    for i in range(0,cat_num):\n",
    "        cat_measures = measurements[np.argwhere(fcat == i).flatten()]\n",
    "        n_array[i] = len(cat_measures)\n",
    "        y_avg_array[i] = np.average(cat_measures)\n",
    "    y_total_avg = np.sum(np.multiply(y_avg_array,n_array))/np.sum(n_array)\n",
    "    numerator = np.sum(np.multiply(n_array,np.power(np.subtract(y_avg_array,y_total_avg),2)))\n",
    "    denominator = np.sum(np.power(np.subtract(measurements,y_total_avg),2))\n",
    "    if numerator == 0:\n",
    "        eta = 0.0\n",
    "    else:\n",
    "        eta = np.sqrt(numerator/denominator)\n",
    "    return eta"
   ]
  },
  {
   "cell_type": "code",
   "execution_count": null,
   "metadata": {},
   "outputs": [],
   "source": [
    "coachcategories = teamyearsummary['coach']"
   ]
  },
  {
   "cell_type": "code",
   "execution_count": null,
   "metadata": {},
   "outputs": [],
   "source": [
    "measurements = teamyearsummary['Team_Pass_Att'] / teamyearsummary['Team_Rush_Att']"
   ]
  },
  {
   "cell_type": "code",
   "execution_count": null,
   "metadata": {},
   "outputs": [],
   "source": [
    "correlation_ratio(coachcategories, measurements)"
   ]
  },
  {
   "cell_type": "code",
   "execution_count": null,
   "metadata": {},
   "outputs": [],
   "source": [
    "offcoorcategories = teamyearsummary['offcoor']"
   ]
  },
  {
   "cell_type": "code",
   "execution_count": null,
   "metadata": {},
   "outputs": [],
   "source": [
    "correlation_ratio(offcoorcategories, measurements)"
   ]
  },
  {
   "cell_type": "code",
   "execution_count": null,
   "metadata": {},
   "outputs": [],
   "source": [
    "teamcategories = teamyearsummary['Team']"
   ]
  },
  {
   "cell_type": "code",
   "execution_count": null,
   "metadata": {},
   "outputs": [],
   "source": [
    "correlation_ratio(teamcategories, measurements)"
   ]
  },
  {
   "cell_type": "code",
   "execution_count": null,
   "metadata": {},
   "outputs": [],
   "source": [
    "offschemecategories = teamyearsummary['offscheme']"
   ]
  },
  {
   "cell_type": "code",
   "execution_count": null,
   "metadata": {},
   "outputs": [],
   "source": [
    "correlation_ratio(offschemecategories, measurements)"
   ]
  },
  {
   "source": [
    "### It seems that the head coach is most likely to correlate with the pass/run ratio"
   ],
   "cell_type": "markdown",
   "metadata": {}
  },
  {
   "source": [
    "## Using a correlation module that incorporates categorical and numerical features, what features correlate the most?"
   ],
   "cell_type": "markdown",
   "metadata": {}
  },
  {
   "source": [
    "### Article where correlation ratio function and dython packages were found here and installed from the documentation\n",
    "\n",
    "https://towardsdatascience.com/the-search-for-categorical-correlation-a1cf7f1888c9\n",
    "\n",
    "http://shakedzy.xyz/dython/"
   ],
   "cell_type": "markdown",
   "metadata": {}
  },
  {
   "cell_type": "code",
   "execution_count": null,
   "metadata": {},
   "outputs": [],
   "source": [
    "from dython.nominal import associations\n",
    "associations(teamyearsummary, figsize=(35,35))"
   ]
  },
  {
   "source": [
    "### How similar is the correlation between the team year summary and team week breakdown?"
   ],
   "cell_type": "markdown",
   "metadata": {}
  },
  {
   "cell_type": "code",
   "execution_count": null,
   "metadata": {},
   "outputs": [],
   "source": [
    "associations(weeks, figsize=(35,35))"
   ]
  },
  {
   "source": [
    "## What is the count of position types per round from 2002-2019"
   ],
   "cell_type": "markdown",
   "metadata": {}
  },
  {
   "cell_type": "code",
   "execution_count": null,
   "metadata": {},
   "outputs": [],
   "source": [
    "roundPosition = draft.groupby(['DraftRound', 'DraftPosition'])['DraftPlayer'].count().unstack().plot(figsize=(15,10))\n",
    "plt.legend(loc='lower right')\n",
    "plt.margins(0.02)\n",
    "plt.title('Number of Position Picks per Round Since 2002')\n",
    "plt.ylabel('Position Pick Count')"
   ]
  },
  {
   "cell_type": "code",
   "execution_count": null,
   "metadata": {},
   "outputs": [],
   "source": [
    "teamgroupeddraft = draft.groupby(['Team','DraftRound', 'DraftPosition'])['DraftPlayer'].count().unstack()"
   ]
  },
  {
   "cell_type": "code",
   "execution_count": null,
   "metadata": {},
   "outputs": [],
   "source": [
    "teamgroupeddraft"
   ]
  },
  {
   "cell_type": "code",
   "execution_count": null,
   "metadata": {},
   "outputs": [],
   "source": [
    "fig, axes = plt.subplots(16,2,figsize=(20,70))\n",
    "for idx, team in enumerate(teamgroupeddraft.index.get_level_values(0).unique()):\n",
    "        ax = teamgroupeddraft.loc[team].plot(kind='barh', stacked=True, figsize=(20,70), ax=axes.flatten()[idx])\n",
    "        for p in ax.patches:\n",
    "            left, bottom, width, height = p.get_bbox().bounds\n",
    "            if width > 0:\n",
    "                ax.annotate(str(int(width)), xy=(left+width/2, bottom+height/2), ha='center', va='center')\n",
    "            else:\n",
    "                pass\n",
    "        ax.set_title(team + ' Draft Position Count by Round since 2002')\n",
    "        ax.invert_yaxis()\n",
    "        #plt.ylabel('Count')\n",
    "        plt.tight_layout()\n",
    "        if (idx+1)%2 == 0:\n",
    "            ax.legend(frameon=False, bbox_to_anchor=(-.05,.85), loc='best', borderaxespad=0.)\n",
    "        else:\n",
    "            ax.legend('', frameon=False)"
   ]
  },
  {
   "source": [
    "### How many players were selected in each position by year?"
   ],
   "cell_type": "markdown",
   "metadata": {}
  },
  {
   "cell_type": "code",
   "execution_count": null,
   "metadata": {},
   "outputs": [],
   "source": [
    "draft.groupby(['Year', 'DraftPosition'])['DraftPlayer'].count().unstack().plot(figsize=(15,10))\n",
    "plt.legend(loc='lower right')\n",
    "plt.margins(0.02)\n",
    "plt.title('Number of Position Picks per Year Since 2002')\n",
    "plt.ylabel('Position Pick Count')"
   ]
  },
  {
   "source": [
    "What is the average number of years started by position, as well as the average games started by position by year"
   ],
   "cell_type": "markdown",
   "metadata": {}
  },
  {
   "cell_type": "code",
   "execution_count": null,
   "metadata": {},
   "outputs": [],
   "source": [
    "starters.groupby(['Year', 'StartingPosition'])['StartingPlayerYrs', 'StartingPlayerGS'].mean().unstack().plot(figsize=(15,10))"
   ]
  },
  {
   "source": [
    "### Confirmation with this webpage that the groupby is what I wanted - https://www.pro-football-reference.com/draft/draft-totals.htm"
   ],
   "cell_type": "markdown",
   "metadata": {}
  },
  {
   "cell_type": "code",
   "execution_count": null,
   "metadata": {},
   "outputs": [],
   "source": [
    "draft.groupby(['Year', 'DraftPosition']).count()"
   ]
  },
  {
   "source": [
    "### Grouping team, year, and Starting Position and grouping on avg. starting years and avg. starting games started\n",
    "\n",
    "Unstacking the multiindex and then concatenating on the teamyearsummary dataframe.  \n",
    "\n",
    "Grouping Draft position by team and year on the team selection order\n",
    "\n",
    "Doing all of this to see if there are any larger correlations between the teamyearsummary, starter information, and then how the draft is picked by team by year"
   ],
   "cell_type": "markdown",
   "metadata": {}
  },
  {
   "cell_type": "code",
   "execution_count": null,
   "metadata": {},
   "outputs": [],
   "source": [
    "starters.columns"
   ]
  },
  {
   "cell_type": "code",
   "execution_count": null,
   "metadata": {},
   "outputs": [],
   "source": [
    "startergroup = starters.groupby(['Team', 'Year', 'StartingPosition'])['StartingPlayerYrs', 'StartingPlayerGS', 'AV'].mean().unstack()"
   ]
  },
  {
   "cell_type": "code",
   "execution_count": null,
   "metadata": {},
   "outputs": [],
   "source": [
    "startergroup = startergroup.reset_index()"
   ]
  },
  {
   "source": [
    "### Flattening multiindex to concat dataframes"
   ],
   "cell_type": "markdown",
   "metadata": {}
  },
  {
   "cell_type": "code",
   "execution_count": null,
   "metadata": {},
   "outputs": [],
   "source": [
    "startergroup.columns = startergroup.columns.map('{0[0]}{0[1]}'.format)"
   ]
  },
  {
   "cell_type": "code",
   "execution_count": null,
   "metadata": {},
   "outputs": [],
   "source": [
    "startergroup"
   ]
  },
  {
   "source": [
    "## Target Dataframes\n",
    "Target features- Draft Pick Position/ Draft Team Selection\n",
    "\n",
    "1. teamyearsummary + starters + draft \n",
    "#removeAV\n",
    "AVcols = ['AVDB', 'AVDE', 'AVDT', 'AVLB', 'AVOL', 'AVQB', 'AVRB', 'AVTE', 'AVWR']\n",
    "teamstarterdraft\n",
    "2. teamyearsummary + startersAV + draft(2006-2018 limitation of AV data)\n",
    "teamstarterdraft\n",
    "\n",
    "3. week summary + starters + draft\n",
    "4. week summary + startersAV + draft(2006-2018 limitation of AV data)\n",
    "\n",
    "\n",
    "Models to try\n",
    "(perform lasso Regression to see if coach/def align etc are important features)\n",
    "\n",
    "1. Regression\n",
    "    1. Ridge\n",
    "    2. Random Forest Regression\n",
    "    3. XGBoost\n",
    "2. Classification\n",
    "    1. Random Forest\n",
    "    2. Gradient Boosting\n",
    "    3. XGBoost\n",
    "\n"
   ],
   "cell_type": "markdown",
   "metadata": {}
  },
  {
   "cell_type": "code",
   "execution_count": null,
   "metadata": {},
   "outputs": [],
   "source": [
    "draftpositionselection = draft[['Team', 'Year', 'DraftPosition','DraftTeamSelection']]"
   ]
  },
  {
   "source": [
    "### teamyearsummary + starters + draft"
   ],
   "cell_type": "markdown",
   "metadata": {}
  },
  {
   "cell_type": "code",
   "execution_count": null,
   "metadata": {},
   "outputs": [],
   "source": [
    "teamyearstarter = pd.merge(teamyearsummary, startergroup, how='inner', on=['Team', 'Year'])\n",
    "teamstarterdraft = pd.merge(teamyearstarter, draftpositionselection, how='inner', on=['Team', 'Year'])"
   ]
  },
  {
   "source": [
    "### teamyearsummary + startersAV + draft (2006-2018 limitation of AV data)"
   ],
   "cell_type": "markdown",
   "metadata": {}
  },
  {
   "cell_type": "code",
   "execution_count": null,
   "metadata": {},
   "outputs": [],
   "source": [
    "teamyearstarterAV = pd.merge(teamyearsummary, startergroup, how='inner', on=['Team', 'Year'])\n",
    "teamstarterdraftAV = pd.merge(teamyearstarter, draftpositionselection, how='inner', on=['Team', 'Year'])"
   ]
  },
  {
   "cell_type": "code",
   "execution_count": null,
   "metadata": {},
   "outputs": [],
   "source": [
    "teamstarterdraft.columns"
   ]
  },
  {
   "source": [
    "### week + starters + draft"
   ],
   "cell_type": "markdown",
   "metadata": {}
  },
  {
   "cell_type": "code",
   "execution_count": null,
   "metadata": {},
   "outputs": [],
   "source": [
    "weekstarter = pd.merge(weeks, startergroup, how='inner', on=['Team', 'Year'])\n",
    "weekstarterdraft = pd.merge(weekstarter, draftpositionselection, how='inner', on=['Team', 'Year'])"
   ]
  },
  {
   "source": [
    "### week + startersAV + draft(2006-2018 limitation of AV data)"
   ],
   "cell_type": "markdown",
   "metadata": {}
  },
  {
   "cell_type": "code",
   "execution_count": null,
   "metadata": {},
   "outputs": [],
   "source": [
    "weekstarterAV = pd.merge(weeks, startergroup, how='inner', on=['Team', 'Year'])\n",
    "weekstarterdraftAV = pd.merge(weekstarterAV, draftpositionselection, how='inner', on=['Team', 'Year'])"
   ]
  },
  {
   "source": [
    "## Are there any glaring correlations with our target features?"
   ],
   "cell_type": "markdown",
   "metadata": {}
  },
  {
   "cell_type": "code",
   "execution_count": null,
   "metadata": {},
   "outputs": [],
   "source": [
    "from dython.nominal import compute_associations"
   ]
  },
  {
   "cell_type": "code",
   "execution_count": null,
   "metadata": {},
   "outputs": [],
   "source": [
    "teamstarterdraftcorrAV = compute_associations(teamstarterdraftAV, clustering=True)"
   ]
  },
  {
   "cell_type": "code",
   "execution_count": null,
   "metadata": {},
   "outputs": [],
   "source": [
    "teamstarterdraftcorr"
   ]
  },
  {
   "cell_type": "code",
   "execution_count": null,
   "metadata": {},
   "outputs": [],
   "source": [
    "teamstarterdraftcorrAV[['DraftTeamSelection', 'DraftPosition']].sort_values('DraftTeamSelection', ascending=False)"
   ]
  },
  {
   "cell_type": "code",
   "execution_count": null,
   "metadata": {},
   "outputs": [],
   "source": [
    "teamstarterdraftcorrAV[['DraftTeamSelection', 'DraftPosition']].sort_values('DraftPosition', ascending=False)"
   ]
  },
  {
   "cell_type": "code",
   "execution_count": null,
   "metadata": {},
   "outputs": [],
   "source": [
    "teamstarterdraft.columns"
   ]
  },
  {
   "cell_type": "code",
   "execution_count": null,
   "metadata": {},
   "outputs": [],
   "source": []
  }
 ]
}