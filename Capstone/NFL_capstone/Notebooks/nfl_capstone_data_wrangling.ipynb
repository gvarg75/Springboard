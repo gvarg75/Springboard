{
 "metadata": {
  "language_info": {
   "codemirror_mode": {
    "name": "ipython",
    "version": 3
   },
   "file_extension": ".py",
   "mimetype": "text/x-python",
   "name": "python",
   "nbconvert_exporter": "python",
   "pygments_lexer": "ipython3",
   "version": "3.7.6-final"
  },
  "orig_nbformat": 2,
  "kernelspec": {
   "name": "python3",
   "display_name": "Python 3"
  }
 },
 "nbformat": 4,
 "nbformat_minor": 2,
 "cells": [
  {
   "source": [
    "# Capstone Two Data Wrangling"
   ],
   "cell_type": "markdown",
   "metadata": {}
  },
  {
   "cell_type": "code",
   "execution_count": 28,
   "metadata": {},
   "outputs": [],
   "source": [
    "import sqlite3"
   ]
  },
  {
   "source": [
    "\n",
    "Data was scraped from pro-football-reference.com/teams, and includes data from 32 teams for the last 17 years. Data is only used from 2002-2019, as the Houston Texans were included in the NFL in 2002. As the 2020 season is currently not over, it is not being used in this analysis."
   ],
   "cell_type": "markdown",
   "metadata": {}
  },
  {
   "source": [
    "Mistake when scraping, as I didn't account for null values from website representing zero turnovers. Fixing that here"
   ],
   "cell_type": "markdown",
   "metadata": {}
  },
  {
   "cell_type": "code",
   "execution_count": 2,
   "metadata": {},
   "outputs": [],
   "source": [
    "conn = sqlite3.connect('NFLstats.db')\n",
    "curr =  conn.cursor()\n",
    "curr.execute(\"UPDATE weeks SET Week_Def_Turnovers = 0 WHERE Week_Def_Turnovers IS Null\")\n",
    "curr.fetchall()\n",
    "conn.commit()\n",
    "conn.close()\n"
   ]
  },
  {
   "cell_type": "code",
   "execution_count": 3,
   "metadata": {},
   "outputs": [],
   "source": [
    "conn = sqlite3.connect('NFLstats.db')\n",
    "curr =  conn.cursor()\n",
    "curr.execute(\"UPDATE weeks SET Week_Off_Turnovers = 0 WHERE Week_Off_Turnovers IS Null\")\n",
    "conn.commit()\n",
    "conn.close()"
   ]
  },
  {
   "cell_type": "code",
   "execution_count": 22,
   "metadata": {},
   "outputs": [],
   "source": [
    "def updateWeekPassYards(Week_Pass_Yards, Team, Year, Week):\n",
    "\tconn = sqlite3.connect(\"NFLstats.db\")\n",
    "\tcur = conn.cursor()\n",
    "\tcur.execute(\"UPDATE weeks SET Week_Pass_Yards = ? WHERE Team = ? AND Year = ? AND Week = ?\", (Week_Pass_Yards, Team, Year, Week))\n",
    "\tconn.commit()\n",
    "conn.close()"
   ]
  },
  {
   "source": [
    "Fill in Bengals Missing pass_yards with info from https://www.footballdb.com/games/boxscore.html?gid=2010010311\n",
    "\n",
    "\n",
    "Fill in Raiders Missing pass_yards with info from https://www.footballdb.com/games/boxscore.html?gid=2003122812"
   ],
   "cell_type": "markdown",
   "metadata": {}
  },
  {
   "cell_type": "code",
   "execution_count": 23,
   "metadata": {},
   "outputs": [],
   "source": [
    "updateWeekPassYards(0, 'Cincinnati Bengals', 2009, 17)"
   ]
  },
  {
   "cell_type": "code",
   "execution_count": 24,
   "metadata": {},
   "outputs": [],
   "source": [
    "updateWeekPassYards(0, 'Las Vegas Raiders', 2003, 17)"
   ]
  },
  {
   "cell_type": "code",
   "execution_count": 28,
   "metadata": {},
   "outputs": [],
   "source": [
    "def updateWeekDefPassYards(Week_Def_Pass_Yards, Team, Year, Week):\n",
    "\tconn = sqlite3.connect(\"NFLstats.db\")\n",
    "\tcur = conn.cursor()\n",
    "\tcur.execute(\"UPDATE weeks SET Week_Def_Pass_Yards = ? WHERE Team = ? AND Year = ? AND Week = ?\", (Week_Def_Pass_Yards, Team, Year, Week))\n",
    "\tconn.commit()\n",
    "conn.close()"
   ]
  },
  {
   "source": [
    "Fill in Chargers Missing def_pass_yards with info from https://www.footballdb.com/games/boxscore.html?gid=2003122812\n",
    "\n",
    "\n",
    "Fill in Jets Missing def_pass_yards with info from https://www.footballdb.com/games/boxscore.html?gid=2010010311"
   ],
   "cell_type": "markdown",
   "metadata": {}
  },
  {
   "cell_type": "code",
   "execution_count": 30,
   "metadata": {},
   "outputs": [],
   "source": [
    "updateWeekDefPassYards(0,'New York Jets', 2009,17)"
   ]
  },
  {
   "cell_type": "code",
   "execution_count": 31,
   "metadata": {},
   "outputs": [],
   "source": [
    "updateWeekDefPassYards(0, 'Los Angeles Chargers', 2003, 17)"
   ]
  },
  {
   "source": [
    "Filling in missing schools"
   ],
   "cell_type": "markdown",
   "metadata": {}
  },
  {
   "cell_type": "code",
   "execution_count": 58,
   "metadata": {},
   "outputs": [],
   "source": [
    "def updateDraftPlayerSchool(DraftPlayer, DraftSchool):\n",
    "    conn = sqlite3.connect(\"NFLstats.db\")\n",
    "    cur = conn.cursor()\n",
    "    cur.execute(\"UPDATE draft SET DraftSchool = ? WHERE DraftPlayer = ?\", (DraftSchool, DraftPlayer))\n",
    "    conn.commit()\n",
    "    conn.close()"
   ]
  },
  {
   "cell_type": "code",
   "execution_count": 59,
   "metadata": {},
   "outputs": [],
   "source": [
    "updateDraftPlayerSchool('Michael Bowie ', 'NE State')"
   ]
  },
  {
   "cell_type": "code",
   "execution_count": 60,
   "metadata": {},
   "outputs": [],
   "source": [
    "updateDraftPlayerSchool('Jordan Mailata', 'Unknown')"
   ]
  },
  {
   "cell_type": "code",
   "execution_count": 61,
   "metadata": {},
   "outputs": [],
   "source": [
    "updateDraftPlayerSchool('Greg Zuerlein','Missouri Western St')"
   ]
  },
  {
   "cell_type": "code",
   "execution_count": 62,
   "metadata": {},
   "outputs": [],
   "source": [
    "updateDraftPlayerSchool('Moritz Boehringer', 'Unknown')"
   ]
  },
  {
   "cell_type": "code",
   "execution_count": 63,
   "metadata": {},
   "outputs": [],
   "source": [
    "updateDraftPlayerSchool('Bill Bentley', 'Louisiana')"
   ]
  },
  {
   "cell_type": "code",
   "execution_count": 64,
   "metadata": {},
   "outputs": [],
   "source": [
    "updateDraftPlayerSchool('Matt McCants', 'Ala-Birmingham')"
   ]
  },
  {
   "cell_type": "code",
   "execution_count": 65,
   "metadata": {},
   "outputs": [],
   "source": [
    "updateDraftPlayerSchool('Akiem Hicks', 'Regina')"
   ]
  },
  {
   "cell_type": "code",
   "execution_count": 66,
   "metadata": {},
   "outputs": [],
   "source": [
    "updateDraftPlayerSchool('Christo Bilukidi','Georgia St.')"
   ]
  },
  {
   "cell_type": "code",
   "execution_count": 67,
   "metadata": {},
   "outputs": [],
   "source": [
    "updateDraftPlayerSchool('Ladarius Green', 'Louisiana')"
   ]
  },
  {
   "cell_type": "code",
   "execution_count": 68,
   "metadata": {},
   "outputs": [],
   "source": [
    "updateDraftPlayerSchool('Michael Jasper', 'Bethel')"
   ]
  },
  {
   "cell_type": "code",
   "execution_count": 69,
   "metadata": {},
   "outputs": [],
   "source": [
    "updateDraftPlayerSchool('Ryan Jensen', 'Colorado State-Pueblo')"
   ]
  },
  {
   "cell_type": "code",
   "execution_count": null,
   "metadata": {},
   "outputs": [],
   "source": [
    "updateDraftPlayerSchool('Asa Jackson')"
   ]
  },
  {
   "source": [
    "Coaching Staff Changes made in DB browser for SQlite"
   ],
   "cell_type": "markdown",
   "metadata": {}
  },
  {
   "source": [
    "Changing remaining Safeties to Defensive Backs"
   ],
   "cell_type": "markdown",
   "metadata": {}
  },
  {
   "cell_type": "code",
   "execution_count": 1,
   "metadata": {},
   "outputs": [],
   "source": [
    "def updateplayerposition(updatedDraftPosition, DraftPosition):\n",
    "    conn = sqlite3.connect(\"NFLstats.db\")\n",
    "    cur = conn.cursor()\n",
    "    cur.execute(\"UPDATE draft SET DraftPosition = ? WHERE DraftPosition = ?\", (updatedDraftPosition, DraftPosition))\n",
    "    conn.commit()\n",
    "    conn.close()"
   ]
  },
  {
   "cell_type": "code",
   "execution_count": 4,
   "metadata": {},
   "outputs": [],
   "source": [
    "updateplayerposition('DB', 'S')"
   ]
  },
  {
   "cell_type": "code",
   "execution_count": 8,
   "metadata": {},
   "outputs": [],
   "source": [
    "updateplayerposition('LB', 'ILB')"
   ]
  },
  {
   "cell_type": "code",
   "execution_count": 10,
   "metadata": {},
   "outputs": [],
   "source": [
    "updateplayerposition('DE', 'DL')"
   ]
  },
  {
   "cell_type": "code",
   "execution_count": 9,
   "metadata": {},
   "outputs": [],
   "source": [
    "updateplayerposition('DB', 'CB')"
   ]
  },
  {
   "cell_type": "code",
   "execution_count": 11,
   "metadata": {},
   "outputs": [],
   "source": [
    "updateplayerposition('ST', 'K')"
   ]
  },
  {
   "cell_type": "code",
   "execution_count": 12,
   "metadata": {},
   "outputs": [],
   "source": [
    "updateplayerposition('ST', 'P')"
   ]
  },
  {
   "cell_type": "code",
   "execution_count": 13,
   "metadata": {},
   "outputs": [],
   "source": [
    "updateplayerposition('ST', 'LS')"
   ]
  },
  {
   "source": [
    "Update Starting Position where Scraper did not get correct"
   ],
   "cell_type": "markdown",
   "metadata": {}
  },
  {
   "cell_type": "code",
   "execution_count": 29,
   "metadata": {},
   "outputs": [],
   "source": [
    "def updatestarterposition(updatedstarterposition, starterposition):\n",
    "    conn = sqlite3.connect(\"NFLstats.db\")\n",
    "    cur = conn.cursor()\n",
    "    cur.execute(\"UPDATE starters SET StartingPosition = ? WHERE StartingPosition = ?\", (updatedstarterposition, starterposition))\n",
    "    conn.commit()\n",
    "    conn.close()"
   ]
  },
  {
   "cell_type": "code",
   "execution_count": 43,
   "metadata": {},
   "outputs": [],
   "source": [
    "updatestarterposition('OL', 'LT')"
   ]
  },
  {
   "cell_type": "code",
   "execution_count": 44,
   "metadata": {},
   "outputs": [],
   "source": [
    "updatestarterposition('OL', 'LG')"
   ]
  },
  {
   "cell_type": "code",
   "execution_count": 45,
   "metadata": {},
   "outputs": [],
   "source": [
    "updatestarterposition('OL', 'RG')"
   ]
  },
  {
   "cell_type": "code",
   "execution_count": 46,
   "metadata": {},
   "outputs": [],
   "source": [
    "updatestarterposition('OL', 'RT')"
   ]
  },
  {
   "cell_type": "code",
   "execution_count": 47,
   "metadata": {},
   "outputs": [],
   "source": [
    "updatestarterposition('WR', 'wr')"
   ]
  },
  {
   "cell_type": "code",
   "execution_count": 48,
   "metadata": {},
   "outputs": [],
   "source": [
    "updatestarterposition('TE', 'te')"
   ]
  },
  {
   "source": [
    "Change StartingPlayerYrs Rook to 0 to make column numerical"
   ],
   "cell_type": "markdown",
   "metadata": {}
  },
  {
   "cell_type": "code",
   "execution_count": 49,
   "metadata": {},
   "outputs": [],
   "source": [
    "def updatestartyears(updatedstartyears, starteryears):\n",
    "    conn = sqlite3.connect(\"NFLstats.db\")\n",
    "    cur = conn.cursor()\n",
    "    cur.execute(\"UPDATE starters SET StartingPlayerYrs = ? WHERE StartingPlayerYrs = ?\", (updatedstartyears, starteryears))\n",
    "    conn.commit()\n",
    "    conn.close()"
   ]
  },
  {
   "cell_type": "code",
   "execution_count": 51,
   "metadata": {},
   "outputs": [],
   "source": [
    "updatestartyears(0, 'Rook')"
   ]
  },
  {
   "cell_type": "code",
   "execution_count": null,
   "metadata": {},
   "outputs": [],
   "source": []
  }
 ]
}