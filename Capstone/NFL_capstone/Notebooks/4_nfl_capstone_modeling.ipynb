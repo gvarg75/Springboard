{
 "metadata": {
  "language_info": {
   "codemirror_mode": {
    "name": "ipython",
    "version": 3
   },
   "file_extension": ".py",
   "mimetype": "text/x-python",
   "name": "python",
   "nbconvert_exporter": "python",
   "pygments_lexer": "ipython3",
   "version": "3.6.3-final"
  },
  "orig_nbformat": 2,
  "kernelspec": {
   "name": "python3",
   "display_name": "Python 3.6.3 64-bit ('Springboard': conda)",
   "metadata": {
    "interpreter": {
     "hash": "c89e3a547b31aeddc31efee464a9a300846520c3802d37af32d3efdc899ae2c5"
    }
   }
  }
 },
 "nbformat": 4,
 "nbformat_minor": 2,
 "cells": [
  {
   "source": [
    "# NFL Capstone:Modeling"
   ],
   "cell_type": "markdown",
   "metadata": {}
  },
  {
   "source": [
    "### Starting Imports"
   ],
   "cell_type": "markdown",
   "metadata": {}
  },
  {
   "cell_type": "code",
   "execution_count": 1,
   "metadata": {},
   "outputs": [],
   "source": [
    "import pandas as pd\n",
    "import numpy as np\n",
    "import matplotlib.pyplot as plt\n",
    "import seaborn as sns\n",
    "import sqlite3\n",
    "import os\n",
    "import sys"
   ]
  },
  {
   "source": [
    "## Import datasets"
   ],
   "cell_type": "markdown",
   "metadata": {}
  },
  {
   "cell_type": "code",
   "execution_count": 2,
   "metadata": {},
   "outputs": [],
   "source": [
    "year = pd.read_csv('../data/teamstarterdraft.csv')\n",
    "yearAV = pd.read_csv('../data/teamstarterdraftAV.csv')\n",
    "week = pd.read_csv('../data/weekstarterdraft.csv')\n",
    "weekAV = pd.read_csv('../data/weekstarterdraftAV.csv')\n",
    "yearnocoach = year.drop(columns=['coach', 'offcoor', 'defcoor', 'offscheme', 'defalign'])\n",
    "yearnocoachAV = yearAV.drop(columns=['coach', 'offcoor', 'defcoor', 'offscheme', 'defalign'])"
   ]
  },
  {
   "cell_type": "code",
   "execution_count": 6,
   "metadata": {},
   "outputs": [
    {
     "output_type": "stream",
     "name": "stdout",
     "text": [
      "Lasso(alpha=0.08685113737513521, copy_X=True, fit_intercept=True, max_iter=1000,\n",
      "      normalize=False, positive=False, precompute=False, random_state=None,\n",
      "      selection='cyclic', tol=0.0001, warm_start=False)\n",
      "Lasso(alpha=0.08685113737513521, copy_X=True, fit_intercept=True, max_iter=1000,\n",
      "      normalize=False, positive=False, precompute=False, random_state=None,\n",
      "      selection='cyclic', tol=0.0001, warm_start=False)\n",
      "Lasso(alpha=0.0001, copy_X=True, fit_intercept=True, max_iter=1000,\n",
      "      normalize=False, positive=False, precompute=False, random_state=None,\n",
      "      selection='cyclic', tol=0.0001, warm_start=False)\n",
      "Lasso(alpha=0.0009540954763499944, copy_X=True, fit_intercept=True,\n",
      "      max_iter=1000, normalize=False, positive=False, precompute=False,\n",
      "      random_state=None, selection='cyclic', tol=0.0001, warm_start=False)\n",
      "Ridge(alpha=0.6866488450042998, copy_X=True, fit_intercept=True, max_iter=None,\n",
      "      normalize=True, random_state=None, solver='auto', tol=0.001)\n",
      "Ridge(alpha=0.6866488450042998, copy_X=True, fit_intercept=True, max_iter=None,\n",
      "      normalize=True, random_state=None, solver='auto', tol=0.001)\n"
     ]
    }
   ],
   "source": [
    "from sklearn.pipeline import Pipeline\n",
    "from sklearn.compose import ColumnTransformer\n",
    "from sklearn.preprocessing import OneHotEncoder\n",
    "from sklearn.preprocessing import StandardScaler\n",
    "from sklearn.linear_model import LinearRegression\n",
    "from sklearn.linear_model import Ridge\n",
    "from sklearn.linear_model import Lasso\n",
    "from sklearn.linear_model import ElasticNet\n",
    "from sklearn.model_selection import train_test_split\n",
    "from sklearn.impute import SimpleImputer\n",
    "from sklearn.metrics import r2_score, mean_squared_error, mean_absolute_error\n",
    "from sklearn.model_selection import RandomizedSearchCV\n",
    "\n",
    "#this is what I changed from cell above\n",
    "dfdict = {'year':year, 'yearAV':yearAV, 'week':week,'weekAV':weekAV, 'yearnocoach': yearnocoach, 'yearnocoachAV':yearnocoachAV}\n",
    "\n",
    "\n",
    "dfresults= pd.DataFrame()\n",
    "for key, df in dfdict.items():\n",
    "        X = df.drop('DraftTeamSelection', axis=1)\n",
    "        y = df['DraftTeamSelection']\n",
    "        categorical_features = list(df.select_dtypes(include=['category', object]).columns)\n",
    "        categorical_transformer = OneHotEncoder(sparse=True, handle_unknown='ignore')\n",
    "\n",
    "        numeric_features = list(df.select_dtypes(include=['int', 'float']).columns)\n",
    "        numeric_transformer = Pipeline(steps=[\n",
    "                ('imputer', SimpleImputer(strategy='median')),\n",
    "                ('scaler', StandardScaler())\n",
    "        ])\n",
    "\n",
    "        preprocessor = ColumnTransformer(\n",
    "        transformers=[\n",
    "                ('num', numeric_transformer, numeric_features),\n",
    "                ('cat', categorical_transformer, categorical_features)])\n",
    "\n",
    "        X_train, X_test, y_train, y_test = train_test_split(X, y, test_size=0.33)\n",
    "        reg = Pipeline(steps=[('preprocessor', preprocessor),\n",
    "                                ('regressor', LinearRegression())])\n",
    "        search_space = [{'regressor': [LinearRegression()],\n",
    "                        'regressor__normalize': [True, False]},\n",
    "                        {'regressor':[Ridge()],\n",
    "                        'regressor__alpha': np.logspace(-4, 0, 50),\n",
    "                        'regressor__normalize': [True, False]},\n",
    "                        {'regressor': [Lasso()],\n",
    "                        'regressor__alpha': np.logspace(-4, 0, 50),\n",
    "                        'regressor__normalize': [True, False]},\n",
    "                        {'regressor': [ElasticNet()],\n",
    "                        'regressor__l1_ratio': np.linspace(0,1,30),\n",
    "                        'regressor__normalize': [True, False]},]\n",
    "        reg_CV = RandomizedSearchCV(reg, search_space, cv=5)\n",
    "        best_model = reg_CV.fit(X_train, y_train)\n",
    "        df_best_regressor = best_model.best_estimator_.get_params()['regressor']\n",
    "        #reg.fit(X_train, y_train)\n",
    "        #y_pred = reg.predict(X_test)\n",
    "        #R2 = r2_score(y_test, y_pred)\n",
    "        #MSE = mean_squared_error(y_test, y_pred)\n",
    "        #RMSE = mean_squared_error(y_test, y_pred, squared=False)\n",
    "        #MAE = mean_absolute_error(y_test, y_pred)\n",
    "        print(df_best_regressor)\n",
    "\n",
    "        #results = pd.DataFrame({\"R2\": R2, 'MSE':MSE, 'RMSE': RMSE, 'MAE':MAE}, index=[key])\n",
    "        #dfresults = dfresults.append(results)\n",
    "#print(dfresults)"
   ]
  },
  {
   "cell_type": "code",
   "execution_count": null,
   "metadata": {},
   "outputs": [],
   "source": []
  }
 ]
}