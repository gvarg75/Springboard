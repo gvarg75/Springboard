{
 "metadata": {
  "language_info": {
   "codemirror_mode": {
    "name": "ipython",
    "version": 3
   },
   "file_extension": ".py",
   "mimetype": "text/x-python",
   "name": "python",
   "nbconvert_exporter": "python",
   "pygments_lexer": "ipython3",
   "version": "3.7.6-final"
  },
  "orig_nbformat": 2,
  "kernelspec": {
   "name": "python3",
   "display_name": "Python 3"
  }
 },
 "nbformat": 4,
 "nbformat_minor": 2,
 "cells": [
  {
   "source": [
    "# Capstone Two Data Wrangling"
   ],
   "cell_type": "markdown",
   "metadata": {}
  },
  {
   "source": [
    "Data was scraped from pro-football-reference.com/teams, and includes data from 32 teams for the last 17 years.  Data is only used from 2002-2019, as the Houston Texans were included in the NFL in 2002.  As the 2020 season is currently not over, it is not being used in this analysis."
   ],
   "cell_type": "markdown",
   "metadata": {}
  },
  {
   "source": [
    "## Loading and exploring data"
   ],
   "cell_type": "markdown",
   "metadata": {}
  },
  {
   "cell_type": "code",
   "execution_count": 157,
   "metadata": {},
   "outputs": [],
   "source": [
    "import pandas as pd\n",
    "import numpy as np\n",
    "import matplotlib.pyplot as plt\n",
    "import seaborn as sns\n",
    "\n",
    "nfl = pandas.read_csv('nflstats.csv')"
   ]
  },
  {
   "cell_type": "code",
   "execution_count": 158,
   "metadata": {},
   "outputs": [
    {
     "output_type": "stream",
     "name": "stdout",
     "text": [
      "<class 'pandas.core.frame.DataFrame'>\nRangeIndex: 76662 entries, 0 to 76661\nData columns (total 76 columns):\n #   Column                     Non-Null Count  Dtype  \n---  ------                     --------------  -----  \n 0   Coach                      76662 non-null  object \n 1   Def_Align                  76662 non-null  object \n 2   Def_Coor                   75570 non-null  object \n 3   Draft_Position             76662 non-null  object \n 4   Draft_School               76461 non-null  object \n 5   Draft_Team_Selection       76662 non-null  int64  \n 6   Drafted_Player             76662 non-null  object \n 7   MoV                        76662 non-null  float64\n 8   Off_Coor                   72695 non-null  object \n 9   Off_Scheme                 75528 non-null  object \n 10  Opp_First_down             76662 non-null  int64  \n 11  Opp_Fumbles                76662 non-null  int64  \n 12  Opp_PF                     76662 non-null  int64  \n 13  Opp_Pass_Att               76662 non-null  int64  \n 14  Opp_Pass_Comp              76662 non-null  int64  \n 15  Opp_Pass_First_Down        76662 non-null  int64  \n 16  Opp_Pass_Int               76662 non-null  int64  \n 17  Opp_Pass_Net_Yds_Att       76662 non-null  float64\n 18  Opp_Pass_Td                76662 non-null  int64  \n 19  Opp_Pass_Yds               76662 non-null  int64  \n 20  Opp_Plays_Offense          76662 non-null  int64  \n 21  Opp_Rush_Att               76662 non-null  int64  \n 22  Opp_Rush_First_Down        76662 non-null  int64  \n 23  Opp_Rush_Tds               76662 non-null  int64  \n 24  Opp_Rush_Yds               76662 non-null  int64  \n 25  Opp_Rush_Yds_Att           76662 non-null  float64\n 26  Opp_Total_Yards            76662 non-null  int64  \n 27  Opp_Turnovers              76662 non-null  int64  \n 28  Opp_yds_per_play_offense   76662 non-null  int64  \n 29  Pick                       76662 non-null  int64  \n 30  Round                      76662 non-null  int64  \n 31  SRS                        76662 non-null  float64\n 32  SRS_Def                    76662 non-null  float64\n 33  SRS_Off                    76662 non-null  float64\n 34  SoS                        76662 non-null  float64\n 35  Starting_Player            76662 non-null  object \n 36  Starting_Player_Age        76662 non-null  int64  \n 37  Starting_Player_GS         76662 non-null  int64  \n 38  Starting_Player_Yrs        76662 non-null  object \n 39  Starting_Position          76662 non-null  object \n 40  Team                       76662 non-null  object \n 41  Team_First_down            76662 non-null  int64  \n 42  Team_Fumbles               76662 non-null  int64  \n 43  Team_PF                    76662 non-null  int64  \n 44  Team_Pass_Att              76662 non-null  int64  \n 45  Team_Pass_Comp             76662 non-null  int64  \n 46  Team_Pass_First_Down       76662 non-null  int64  \n 47  Team_Pass_Int              76662 non-null  int64  \n 48  Team_Pass_Net_Yds_Att      76662 non-null  float64\n 49  Team_Pass_Td               76662 non-null  int64  \n 50  Team_Pass_Yds              76662 non-null  int64  \n 51  Team_Plays_Offense         76662 non-null  int64  \n 52  Team_Rush_Att              76662 non-null  int64  \n 53  Team_Rush_First_Down       76662 non-null  int64  \n 54  Team_Rush_Tds              76662 non-null  int64  \n 55  Team_Rush_Yds              76662 non-null  int64  \n 56  Team_Rush_Yds_Att          76662 non-null  float64\n 57  Team_Total_Yards           76662 non-null  int64  \n 58  Team_Turnovers             76662 non-null  int64  \n 59  Team_yds_per_play_offense  76662 non-null  int64  \n 60  Week                       76662 non-null  object \n 61  Week_Def_First_Downs       76662 non-null  int64  \n 62  Week_Def_Pass_Yards        76651 non-null  float64\n 63  Week_Def_Rush_Yards        76662 non-null  int64  \n 64  Week_Def_Total_Yards       76662 non-null  int64  \n 65  Week_Def_Turnovers         59367 non-null  float64\n 66  Week_First_Downs           76662 non-null  int64  \n 67  Week_Off_Turnovers         59298 non-null  float64\n 68  Week_Opp                   76662 non-null  object \n 69  Week_Pass_Yards            76641 non-null  float64\n 70  Week_Points_Allowed        76662 non-null  int64  \n 71  Week_Points_Scored         76662 non-null  int64  \n 72  Week_Rush_Yards            76662 non-null  int64  \n 73  Week_Total__Off_Yards      76662 non-null  int64  \n 74  Wins                       76662 non-null  int64  \n 75  Year                       76662 non-null  int64  \ndtypes: float64(13), int64(49), object(14)\nmemory usage: 44.5+ MB\n"
     ]
    }
   ],
   "source": [
    "nfl.info()"
   ]
  },
  {
   "cell_type": "code",
   "execution_count": 159,
   "metadata": {},
   "outputs": [
    {
     "output_type": "execute_result",
     "data": {
      "text/plain": [
       "(76662, 76)"
      ]
     },
     "metadata": {},
     "execution_count": 159
    }
   ],
   "source": [
    "nfl.shape"
   ]
  },
  {
   "cell_type": "code",
   "execution_count": 160,
   "metadata": {},
   "outputs": [
    {
     "output_type": "execute_result",
     "data": {
      "text/plain": [
       "                         count         mean        std     min     25%  \\\n",
       "Draft_Team_Selection   76662.0     3.698338   2.627572     0.0     1.0   \n",
       "MoV                    76662.0     0.200613   6.405410   -16.3    -4.6   \n",
       "Opp_First_down         76662.0   308.160536  29.029262   228.0   289.0   \n",
       "Opp_Fumbles            76662.0    10.486147   3.513725     2.0     8.0   \n",
       "Opp_PF                 76662.0   351.177441  58.661711   196.0   311.0   \n",
       "...                        ...          ...        ...     ...     ...   \n",
       "Week_Points_Scored     76662.0    22.052738  10.252568     0.0    14.0   \n",
       "Week_Rush_Yards        76662.0   113.980708  51.649079   -18.0    77.0   \n",
       "Week_Total__Off_Yards  76662.0   336.908260  85.445394    26.0   279.0   \n",
       "Wins                   76662.0     8.107994   3.133288     0.0     6.0   \n",
       "Year                   76662.0  2010.472477   5.199767  2002.0  2006.0   \n",
       "\n",
       "                          50%     75%     max  \n",
       "Draft_Team_Selection      3.0     6.0    13.0  \n",
       "MoV                       0.4     4.9    19.7  \n",
       "Opp_First_down          309.0   327.0   419.0  \n",
       "Opp_Fumbles              10.0    13.0    23.0  \n",
       "Opp_PF                  348.0   392.0   517.0  \n",
       "...                       ...     ...     ...  \n",
       "Week_Points_Scored       21.0    28.0    62.0  \n",
       "Week_Rush_Yards         107.0   145.0   378.0  \n",
       "Week_Total__Off_Yards   336.0   395.0   653.0  \n",
       "Wins                      8.0    10.0    16.0  \n",
       "Year                   2010.0  2015.0  2019.0  \n",
       "\n",
       "[62 rows x 8 columns]"
      ],
      "text/html": "<div>\n<style scoped>\n    .dataframe tbody tr th:only-of-type {\n        vertical-align: middle;\n    }\n\n    .dataframe tbody tr th {\n        vertical-align: top;\n    }\n\n    .dataframe thead th {\n        text-align: right;\n    }\n</style>\n<table border=\"1\" class=\"dataframe\">\n  <thead>\n    <tr style=\"text-align: right;\">\n      <th></th>\n      <th>count</th>\n      <th>mean</th>\n      <th>std</th>\n      <th>min</th>\n      <th>25%</th>\n      <th>50%</th>\n      <th>75%</th>\n      <th>max</th>\n    </tr>\n  </thead>\n  <tbody>\n    <tr>\n      <th>Draft_Team_Selection</th>\n      <td>76662.0</td>\n      <td>3.698338</td>\n      <td>2.627572</td>\n      <td>0.0</td>\n      <td>1.0</td>\n      <td>3.0</td>\n      <td>6.0</td>\n      <td>13.0</td>\n    </tr>\n    <tr>\n      <th>MoV</th>\n      <td>76662.0</td>\n      <td>0.200613</td>\n      <td>6.405410</td>\n      <td>-16.3</td>\n      <td>-4.6</td>\n      <td>0.4</td>\n      <td>4.9</td>\n      <td>19.7</td>\n    </tr>\n    <tr>\n      <th>Opp_First_down</th>\n      <td>76662.0</td>\n      <td>308.160536</td>\n      <td>29.029262</td>\n      <td>228.0</td>\n      <td>289.0</td>\n      <td>309.0</td>\n      <td>327.0</td>\n      <td>419.0</td>\n    </tr>\n    <tr>\n      <th>Opp_Fumbles</th>\n      <td>76662.0</td>\n      <td>10.486147</td>\n      <td>3.513725</td>\n      <td>2.0</td>\n      <td>8.0</td>\n      <td>10.0</td>\n      <td>13.0</td>\n      <td>23.0</td>\n    </tr>\n    <tr>\n      <th>Opp_PF</th>\n      <td>76662.0</td>\n      <td>351.177441</td>\n      <td>58.661711</td>\n      <td>196.0</td>\n      <td>311.0</td>\n      <td>348.0</td>\n      <td>392.0</td>\n      <td>517.0</td>\n    </tr>\n    <tr>\n      <th>...</th>\n      <td>...</td>\n      <td>...</td>\n      <td>...</td>\n      <td>...</td>\n      <td>...</td>\n      <td>...</td>\n      <td>...</td>\n      <td>...</td>\n    </tr>\n    <tr>\n      <th>Week_Points_Scored</th>\n      <td>76662.0</td>\n      <td>22.052738</td>\n      <td>10.252568</td>\n      <td>0.0</td>\n      <td>14.0</td>\n      <td>21.0</td>\n      <td>28.0</td>\n      <td>62.0</td>\n    </tr>\n    <tr>\n      <th>Week_Rush_Yards</th>\n      <td>76662.0</td>\n      <td>113.980708</td>\n      <td>51.649079</td>\n      <td>-18.0</td>\n      <td>77.0</td>\n      <td>107.0</td>\n      <td>145.0</td>\n      <td>378.0</td>\n    </tr>\n    <tr>\n      <th>Week_Total__Off_Yards</th>\n      <td>76662.0</td>\n      <td>336.908260</td>\n      <td>85.445394</td>\n      <td>26.0</td>\n      <td>279.0</td>\n      <td>336.0</td>\n      <td>395.0</td>\n      <td>653.0</td>\n    </tr>\n    <tr>\n      <th>Wins</th>\n      <td>76662.0</td>\n      <td>8.107994</td>\n      <td>3.133288</td>\n      <td>0.0</td>\n      <td>6.0</td>\n      <td>8.0</td>\n      <td>10.0</td>\n      <td>16.0</td>\n    </tr>\n    <tr>\n      <th>Year</th>\n      <td>76662.0</td>\n      <td>2010.472477</td>\n      <td>5.199767</td>\n      <td>2002.0</td>\n      <td>2006.0</td>\n      <td>2010.0</td>\n      <td>2015.0</td>\n      <td>2019.0</td>\n    </tr>\n  </tbody>\n</table>\n<p>62 rows × 8 columns</p>\n</div>"
     },
     "metadata": {},
     "execution_count": 160
    }
   ],
   "source": [
    "nfl.describe().T"
   ]
  },
  {
   "source": [
    "Finding Missing Data and correcting for missing Data"
   ],
   "cell_type": "markdown",
   "metadata": {}
  },
  {
   "cell_type": "code",
   "execution_count": 161,
   "metadata": {},
   "outputs": [
    {
     "output_type": "execute_result",
     "data": {
      "text/plain": [
       "                     count          %\n",
       "Def_Coor              1092   1.424435\n",
       "Draft_School           201   0.262190\n",
       "Off_Coor              3967   5.174663\n",
       "Off_Scheme            1134   1.479220\n",
       "Week_Def_Pass_Yards     11   0.014349\n",
       "Week_Def_Turnovers   17295  22.560069\n",
       "Week_Off_Turnovers   17364  22.650074\n",
       "Week_Pass_Yards         21   0.027393"
      ],
      "text/html": "<div>\n<style scoped>\n    .dataframe tbody tr th:only-of-type {\n        vertical-align: middle;\n    }\n\n    .dataframe tbody tr th {\n        vertical-align: top;\n    }\n\n    .dataframe thead th {\n        text-align: right;\n    }\n</style>\n<table border=\"1\" class=\"dataframe\">\n  <thead>\n    <tr style=\"text-align: right;\">\n      <th></th>\n      <th>count</th>\n      <th>%</th>\n    </tr>\n  </thead>\n  <tbody>\n    <tr>\n      <th>Def_Coor</th>\n      <td>1092</td>\n      <td>1.424435</td>\n    </tr>\n    <tr>\n      <th>Draft_School</th>\n      <td>201</td>\n      <td>0.262190</td>\n    </tr>\n    <tr>\n      <th>Off_Coor</th>\n      <td>3967</td>\n      <td>5.174663</td>\n    </tr>\n    <tr>\n      <th>Off_Scheme</th>\n      <td>1134</td>\n      <td>1.479220</td>\n    </tr>\n    <tr>\n      <th>Week_Def_Pass_Yards</th>\n      <td>11</td>\n      <td>0.014349</td>\n    </tr>\n    <tr>\n      <th>Week_Def_Turnovers</th>\n      <td>17295</td>\n      <td>22.560069</td>\n    </tr>\n    <tr>\n      <th>Week_Off_Turnovers</th>\n      <td>17364</td>\n      <td>22.650074</td>\n    </tr>\n    <tr>\n      <th>Week_Pass_Yards</th>\n      <td>21</td>\n      <td>0.027393</td>\n    </tr>\n  </tbody>\n</table>\n</div>"
     },
     "metadata": {},
     "execution_count": 161
    }
   ],
   "source": [
    "missing = pd.concat([nfl.isnull().sum(), 100 * nfl.isnull().mean()], axis=1)\n",
    "missing.columns=['count', '%']\n",
    "missing.sort_values(by='%', ascending=False)\n",
    "missing[missing['count'] >0]"
   ]
  },
  {
   "source": [
    "Fill in Jets Missing def_pass_yards with info from https://www.footballdb.com/games/boxscore.html?gid=2010010311"
   ],
   "cell_type": "markdown",
   "metadata": {}
  },
  {
   "cell_type": "code",
   "execution_count": 162,
   "metadata": {},
   "outputs": [],
   "source": [
    "nfl[(nfl['Week_Def_Pass_Yards'].isnull()) & (nfl['Team'] == 'New York Jets')].fillna(31.0, inplace=True)"
   ]
  },
  {
   "cell_type": "code",
   "execution_count": 163,
   "metadata": {},
   "outputs": [],
   "source": [
    "nfl[(nfl['Week_Pass_Yards']==63) & (nfl['Team'] == 'New York Jets')]['Week_Def_Pass_Yards'].replace(np.nan, 31, inplace=True)"
   ]
  },
  {
   "cell_type": "code",
   "execution_count": 171,
   "metadata": {},
   "outputs": [
    {
     "output_type": "execute_result",
     "data": {
      "text/plain": [
       "20928    31.0\n",
       "20929    31.0\n",
       "20930    31.0\n",
       "Name: Week_Def_Pass_Yards, dtype: float64"
      ]
     },
     "metadata": {},
     "execution_count": 171
    }
   ],
   "source": [
    "nfl[(nfl['Week_Pass_Yards']==63) & (nfl['Team'] == 'New York Jets')]['Week_Def_Pass_Yards']"
   ]
  },
  {
   "cell_type": "code",
   "execution_count": 170,
   "metadata": {},
   "outputs": [],
   "source": [
    "nfl.iloc[20930, 62] = 31.0"
   ]
  },
  {
   "source": [
    "Fill in Chargers Missing def_pass_yards with info from https://www.footballdb.com/games/boxscore.html?gid=2003122812"
   ],
   "cell_type": "markdown",
   "metadata": {}
  },
  {
   "cell_type": "code",
   "execution_count": 172,
   "metadata": {},
   "outputs": [],
   "source": [
    "nfl.update(nfl[(nfl['Team'] == 'Los Angeles Chargers') & (nfl['Year'] == 2003) & (nfl['Week'] == '17')]['Week_Def_Pass_Yards'].replace(np.nan, 0))"
   ]
  },
  {
   "source": [
    "Fill in Raiders Missing pass_yards with info from https://www.footballdb.com/games/boxscore.html?gid=2003122812"
   ],
   "cell_type": "markdown",
   "metadata": {}
  },
  {
   "cell_type": "code",
   "execution_count": 173,
   "metadata": {},
   "outputs": [],
   "source": [
    "nfl.update(nfl[(nfl['Team'] == 'Las Vegas Raiders') & (nfl['Year'] == 2003) & (nfl['Week'] == '17')]['Week_Pass_Yards'].replace(np.nan, 0))"
   ]
  },
  {
   "source": [
    "Fill in Bengals Missing pass_yards with info from https://www.footballdb.com/games/boxscore.html?gid=2010010311"
   ],
   "cell_type": "markdown",
   "metadata": {}
  },
  {
   "cell_type": "code",
   "execution_count": 185,
   "metadata": {},
   "outputs": [],
   "source": [
    "nfl.update(nfl[(nfl['Team'] == 'Cincinnati Bengals') & (nfl['Year'] == 2009) & (nfl['Week'] == '17')]['Week_Pass_Yards'].replace(np.nan, 0))"
   ]
  },
  {
   "source": [
    "### Mistake when scraping, as I didn't account for null values from website representing zero turnovers.  Fixing that here"
   ],
   "cell_type": "markdown",
   "metadata": {}
  },
  {
   "cell_type": "code",
   "execution_count": 176,
   "metadata": {},
   "outputs": [],
   "source": [
    "nfl['Week_Def_Turnovers'].replace(np.nan,0, inplace=True)"
   ]
  },
  {
   "cell_type": "code",
   "execution_count": 177,
   "metadata": {},
   "outputs": [],
   "source": [
    "nfl['Week_Off_Turnovers'].replace(np.nan,0, inplace=True)"
   ]
  },
  {
   "cell_type": "code",
   "execution_count": 211,
   "metadata": {},
   "outputs": [
    {
     "output_type": "execute_result",
     "data": {
      "text/plain": [
       "                     count         %\n",
       "Def_Coor              1076  1.403564\n",
       "Draft_School             0  0.000000\n",
       "Off_Coor              3967  5.174663\n",
       "Off_Scheme            1134  1.479220\n",
       "Week_Def_Pass_Yards      0  0.000000\n",
       "Week_Def_Turnovers       0  0.000000\n",
       "Week_Off_Turnovers       0  0.000000\n",
       "Week_Pass_Yards          0  0.000000"
      ],
      "text/html": "<div>\n<style scoped>\n    .dataframe tbody tr th:only-of-type {\n        vertical-align: middle;\n    }\n\n    .dataframe tbody tr th {\n        vertical-align: top;\n    }\n\n    .dataframe thead th {\n        text-align: right;\n    }\n</style>\n<table border=\"1\" class=\"dataframe\">\n  <thead>\n    <tr style=\"text-align: right;\">\n      <th></th>\n      <th>count</th>\n      <th>%</th>\n    </tr>\n  </thead>\n  <tbody>\n    <tr>\n      <th>Def_Coor</th>\n      <td>1076</td>\n      <td>1.403564</td>\n    </tr>\n    <tr>\n      <th>Draft_School</th>\n      <td>0</td>\n      <td>0.000000</td>\n    </tr>\n    <tr>\n      <th>Off_Coor</th>\n      <td>3967</td>\n      <td>5.174663</td>\n    </tr>\n    <tr>\n      <th>Off_Scheme</th>\n      <td>1134</td>\n      <td>1.479220</td>\n    </tr>\n    <tr>\n      <th>Week_Def_Pass_Yards</th>\n      <td>0</td>\n      <td>0.000000</td>\n    </tr>\n    <tr>\n      <th>Week_Def_Turnovers</th>\n      <td>0</td>\n      <td>0.000000</td>\n    </tr>\n    <tr>\n      <th>Week_Off_Turnovers</th>\n      <td>0</td>\n      <td>0.000000</td>\n    </tr>\n    <tr>\n      <th>Week_Pass_Yards</th>\n      <td>0</td>\n      <td>0.000000</td>\n    </tr>\n  </tbody>\n</table>\n</div>"
     },
     "metadata": {},
     "execution_count": 211
    }
   ],
   "source": [
    "missing2 = pd.concat([nfl.isnull().sum(), 100 * nfl.isnull().mean()], axis=1)\n",
    "missing2.columns=['count', '%']\n",
    "missing2.sort_values(by='%', ascending=False)\n",
    "missing2[missing['%'] >0]"
   ]
  },
  {
   "source": [
    "Filling in missing schools"
   ],
   "cell_type": "markdown",
   "metadata": {}
  },
  {
   "cell_type": "code",
   "execution_count": 209,
   "metadata": {},
   "outputs": [],
   "source": [
    "nfl.update(nfl[nfl['Drafted_Player'] == 'Michael Bowie '].replace(np.nan, 'NE State'))\n",
    "nfl.update(nfl[nfl['Drafted_Player'] == 'Jordan Mailata'].replace(np.nan, 'None'))\n",
    "nfl.update(nfl[nfl['Drafted_Player'] == 'Greg Zuerlein'].replace(np.nan, 'Missouri Western St'))\n",
    "nfl.update(nfl[nfl['Drafted_Player'] == 'Moritz Boehringer'].replace(np.nan, 'None'))\n",
    "nfl.update(nfl[nfl['Drafted_Player'] == 'Bill Bentley'].replace(np.nan, 'Louisiana'))\n",
    "nfl.update(nfl[nfl['Drafted_Player'] == 'Matt McCants'].replace(np.nan, 'Ala-Birmingham'))\n",
    "nfl.update(nfl[nfl['Drafted_Player'] == 'Akiem Hicks'].replace(np.nan, 'Regina'))\n",
    "nfl.update(nfl[nfl['Drafted_Player'] == 'Christo Bilukidi'].replace(np.nan, 'Georgia St.'))\n",
    "nfl.update(nfl[nfl['Drafted_Player'] == 'Ladarius Green'].replace(np.nan, 'Louisiana'))\n",
    "nfl.update(nfl[nfl['Drafted_Player'] == 'Michael Jasper'].replace(np.nan, 'Bethel'))\n",
    "nfl.update(nfl[nfl['Drafted_Player'] == 'Ryan Jensen'].replace(np.nan, 'Colorado State-Pueblo'))"
   ]
  },
  {
   "cell_type": "code",
   "execution_count": 246,
   "metadata": {},
   "outputs": [
    {
     "output_type": "execute_result",
     "data": {
      "text/plain": [
       "2008.0    192\n",
       "2007.0    144\n",
       "2009.0    144\n",
       "2006.0    133\n",
       "2004.0    128\n",
       "2015.0    112\n",
       "2005.0    102\n",
       "2012.0     96\n",
       "2014.0     96\n",
       "2010.0     90\n",
       "2011.0     80\n",
       "Name: Year, dtype: int64"
      ]
     },
     "metadata": {},
     "execution_count": 246
    }
   ],
   "source": [
    "nfl[nfl['Coach'] == 'Lovie Smith']['Year'].value_counts()"
   ]
  },
  {
   "cell_type": "code",
   "execution_count": 229,
   "metadata": {},
   "outputs": [
    {
     "output_type": "execute_result",
     "data": {
      "text/plain": [
       "2008.0    160\n",
       "2005.0     96\n",
       "Name: Year, dtype: int64"
      ]
     },
     "metadata": {},
     "execution_count": 229
    }
   ],
   "source": [
    "nfl[(nfl['Coach'] == 'Dick Jauron') & (nfl['Off_Scheme'] == ' West Coast')]['Year'].value_counts()"
   ]
  },
  {
   "cell_type": "code",
   "execution_count": 236,
   "metadata": {},
   "outputs": [
    {
     "output_type": "execute_result",
     "data": {
      "text/plain": [
       "2003.0    192\n",
       "2008.0    160\n",
       "2006.0    144\n",
       "2002.0    144\n",
       "2007.0    112\n",
       "2005.0     96\n",
       "Name: Year, dtype: int64"
      ]
     },
     "metadata": {},
     "execution_count": 236
    }
   ],
   "source": [
    "nfl[(nfl['Coach'] == 'Dick Jauron')]['Year'].value_counts()"
   ]
  },
  {
   "cell_type": "code",
   "execution_count": 238,
   "metadata": {},
   "outputs": [
    {
     "output_type": "execute_result",
     "data": {
      "text/plain": [
       "44879     West Coast\n",
       "44880     West Coast\n",
       "44881     West Coast\n",
       "44882     West Coast\n",
       "44883     West Coast\n",
       "            ...     \n",
       "71921     West Coast\n",
       "71922     West Coast\n",
       "71923     West Coast\n",
       "71924     West Coast\n",
       "71925     West Coast\n",
       "Name: Off_Scheme, Length: 848, dtype: object"
      ]
     },
     "metadata": {},
     "execution_count": 238
    }
   ],
   "source": [
    "nfl[nfl['Coach'] == 'Dick Jauron']['Off_Scheme'].replace(np.NaN, method='ffill')\n",
    "nfl[nfl['Coach'] == 'Dave Mcginnis']['Off_Scheme'].replace(np.NaN, 'Unknown')"
   ]
  },
  {
   "cell_type": "code",
   "execution_count": 216,
   "metadata": {},
   "outputs": [
    {
     "output_type": "execute_result",
     "data": {
      "text/plain": [
       "Dick Jauron       336\n",
       "Dave McGinnis     240\n",
       "Lovie Smith       128\n",
       "Bill Belichick    126\n",
       "Jim Haslett       112\n",
       "Dave Wannstedt     96\n",
       "Dom Capers         96\n",
       "Name: Coach, dtype: int64"
      ]
     },
     "metadata": {},
     "execution_count": 216
    }
   ],
   "source": [
    "nfl[nfl['Off_Scheme'].isnull()]['Coach'].value_counts()"
   ]
  },
  {
   "cell_type": "code",
   "execution_count": 215,
   "metadata": {},
   "outputs": [
    {
     "output_type": "execute_result",
     "data": {
      "text/plain": [
       "Chicago Bears           464\n",
       "Arizona Cardinals       240\n",
       "New England Patriots    126\n",
       "New Orleans Saints      112\n",
       "Houston Texans           96\n",
       "Miami Dolphins           96\n",
       "Name: Team, dtype: int64"
      ]
     },
     "metadata": {},
     "execution_count": 215
    }
   ],
   "source": [
    "nfl[nfl['Off_Scheme'].isnull()]['Team'].value_counts()"
   ]
  },
  {
   "cell_type": "code",
   "execution_count": 137,
   "metadata": {},
   "outputs": [
    {
     "output_type": "execute_result",
     "data": {
      "text/plain": [
       "New England Patriots        2825\n",
       "Seattle Seahawks            2796\n",
       "Green Bay Packers           2772\n",
       "San Francisco 49ers         2758\n",
       "Baltimore Ravens            2675\n",
       "Cincinnati Bengals          2655\n",
       "Los Angeles Rams            2610\n",
       "Indianapolis Colts          2567\n",
       "Tennessee Titans            2565\n",
       "Philadelphia Eagles         2556\n",
       "Pittsburgh Steelers         2504\n",
       "Minnesota Vikings           2481\n",
       "Dallas Cowboys              2428\n",
       "Las Vegas Raiders           2415\n",
       "Denver Broncos              2399\n",
       "Houston Texans              2393\n",
       "Cleveland Browns            2392\n",
       "Detroit Lions               2311\n",
       "Kansas City Chiefs          2285\n",
       "Tampa Bay Buccaneers        2270\n",
       "Buffalo Bills               2270\n",
       "Jacksonville Jaguars        2243\n",
       "Carolina Panthers           2238\n",
       "Washington Football Team    2228\n",
       "Atlanta Falcons             2208\n",
       "Miami Dolphins              2193\n",
       "New York Giants             2191\n",
       "Chicago Bears               2188\n",
       "Arizona Cardinals           2161\n",
       "Los Angeles Chargers        2129\n",
       "New York Jets               2027\n",
       "New Orleans Saints          1929\n",
       "Name: Team, dtype: int64"
      ]
     },
     "metadata": {},
     "execution_count": 137
    }
   ],
   "source": [
    "nfl['Team'].value_counts()"
   ]
  },
  {
   "cell_type": "code",
   "execution_count": 251,
   "metadata": {},
   "outputs": [
    {
     "output_type": "execute_result",
     "data": {
      "text/plain": [
       "125"
      ]
     },
     "metadata": {},
     "execution_count": 251
    }
   ],
   "source": [
    "nfl['Coach'].nunique()"
   ]
  },
  {
   "cell_type": "code",
   "execution_count": 264,
   "metadata": {},
   "outputs": [
    {
     "output_type": "execute_result",
     "data": {
      "text/plain": [
       "Aaron Kromer       80\n",
       "Adam Gase         472\n",
       "Andy Reid        2628\n",
       "Anthony Lynn      462\n",
       "Art Shell         112\n",
       "                 ... \n",
       "Tony Sparano      425\n",
       "Vance Joseph      288\n",
       "Vic Fangio         96\n",
       "Wade Phillips     784\n",
       "Zac Taylor        160\n",
       "Name: Coach, Length: 125, dtype: int64"
      ]
     },
     "metadata": {},
     "execution_count": 264
    }
   ],
   "source": [
    "nfl.Coach.value_counts().sort_index()"
   ]
  },
  {
   "cell_type": "code",
   "execution_count": 248,
   "metadata": {},
   "outputs": [
    {
     "output_type": "execute_result",
     "data": {
      "text/plain": [
       "10"
      ]
     },
     "metadata": {},
     "execution_count": 248
    }
   ],
   "source": [
    "nfl['Off_Scheme'].nunique()"
   ]
  },
  {
   "cell_type": "code",
   "execution_count": 270,
   "metadata": {},
   "outputs": [
    {
     "output_type": "execute_result",
     "data": {
      "text/plain": [
       " 4-3     49984\n",
       " 3-4     26486\n",
       " 3/4/      192\n",
       "Name: Def_Align, dtype: int64"
      ]
     },
     "metadata": {},
     "execution_count": 270
    }
   ],
   "source": [
    "nfl['Def_Align'].value_counts()"
   ]
  },
  {
   "cell_type": "code",
   "execution_count": 267,
   "metadata": {},
   "outputs": [
    {
     "output_type": "execute_result",
     "data": {
      "text/plain": [
       "121"
      ]
     },
     "metadata": {},
     "execution_count": 267
    }
   ],
   "source": [
    "nfl['Def_Coor'].nunique()"
   ]
  },
  {
   "cell_type": "code",
   "execution_count": 279,
   "metadata": {},
   "outputs": [
    {
     "output_type": "execute_result",
     "data": {
      "text/plain": [
       "                Coach Def_Align    Def_Coor Draft_Position   Draft_School  \\\n",
       "60138  Gregg Williams       4-3  Jerry Gray             OL          Texas   \n",
       "60139  Gregg Williams       4-3  Jerry Gray             WR            LSU   \n",
       "60140  Gregg Williams       4-3  Jerry Gray             DE            BYU   \n",
       "60141  Gregg Williams       4-3  Jerry Gray             DB       Stanford   \n",
       "60142  Gregg Williams       4-3  Jerry Gray             DT       Colorado   \n",
       "...               ...       ...         ...            ...            ...   \n",
       "60604  Gregg Williams       4-3  Jerry Gray             DB           UNLV   \n",
       "60605  Gregg Williams       4-3  Jerry Gray             OL         Auburn   \n",
       "60606  Gregg Williams       4-3  Jerry Gray             WR     Fresno St.   \n",
       "60607  Gregg Williams       4-3  Jerry Gray             RB  Virginia Tech   \n",
       "60608  Gregg Williams       4-3  Jerry Gray             LB      Tennessee   \n",
       "\n",
       "       Draft_Team_Selection       Drafted_Player  MoV        Off_Coor  \\\n",
       "60138                   0.0        Mike Williams -1.1  Kevin Gilbride   \n",
       "60139                   1.0            Josh Reed -1.1  Kevin Gilbride   \n",
       "60140                   2.0          Ryan Denney -1.1  Kevin Gilbride   \n",
       "60141                   3.0             Coy Wire -1.1  Kevin Gilbride   \n",
       "60142                   4.0        Justin Bannan -1.1  Kevin Gilbride   \n",
       "...                     ...                  ...  ...             ...   \n",
       "60604                   5.0         Kevin Thomas -1.1  Kevin Gilbride   \n",
       "60605                   6.0         Mike Pucillo -1.1  Kevin Gilbride   \n",
       "60606                   7.0        Rodney Wright -1.1  Kevin Gilbride   \n",
       "60607                   8.0     Jarrett Ferguson -1.1  Kevin Gilbride   \n",
       "60608                   9.0  Dominique Stevenson -1.1  Kevin Gilbride   \n",
       "\n",
       "      Off_Scheme  ...  Week_First_Downs  Week_Off_Turnovers        Week_Opp  \\\n",
       "60138        ???  ...              21.0                 0.0  Miami Dolphins   \n",
       "60139        ???  ...              21.0                 0.0  Miami Dolphins   \n",
       "60140        ???  ...              21.0                 0.0  Miami Dolphins   \n",
       "60141        ???  ...              21.0                 0.0  Miami Dolphins   \n",
       "60142        ???  ...              21.0                 0.0  Miami Dolphins   \n",
       "...          ...  ...               ...                 ...             ...   \n",
       "60604        ???  ...              26.0                 3.0   New York Jets   \n",
       "60605        ???  ...              26.0                 3.0   New York Jets   \n",
       "60606        ???  ...              26.0                 3.0   New York Jets   \n",
       "60607        ???  ...              26.0                 3.0   New York Jets   \n",
       "60608        ???  ...              26.0                 3.0   New York Jets   \n",
       "\n",
       "       Week_Pass_Yards  Week_Points_Allowed  Week_Points_Scored  \\\n",
       "60138            270.0                 21.0                38.0   \n",
       "60139            270.0                 21.0                38.0   \n",
       "60140            270.0                 21.0                38.0   \n",
       "60141            270.0                 21.0                38.0   \n",
       "60142            270.0                 21.0                38.0   \n",
       "...                ...                  ...                 ...   \n",
       "60604            242.0                 37.0                31.0   \n",
       "60605            242.0                 37.0                31.0   \n",
       "60606            242.0                 37.0                31.0   \n",
       "60607            242.0                 37.0                31.0   \n",
       "60608            242.0                 37.0                31.0   \n",
       "\n",
       "       Week_Rush_Yards  Week_Total__Off_Yards  Wins    Year  \n",
       "60138            161.0                  431.0   8.0  2002.0  \n",
       "60139            161.0                  431.0   8.0  2002.0  \n",
       "60140            161.0                  431.0   8.0  2002.0  \n",
       "60141            161.0                  431.0   8.0  2002.0  \n",
       "60142            161.0                  431.0   8.0  2002.0  \n",
       "...                ...                    ...   ...     ...  \n",
       "60604            142.0                  384.0   8.0  2002.0  \n",
       "60605            142.0                  384.0   8.0  2002.0  \n",
       "60606            142.0                  384.0   8.0  2002.0  \n",
       "60607            142.0                  384.0   8.0  2002.0  \n",
       "60608            142.0                  384.0   8.0  2002.0  \n",
       "\n",
       "[160 rows x 76 columns]"
      ],
      "text/html": "<div>\n<style scoped>\n    .dataframe tbody tr th:only-of-type {\n        vertical-align: middle;\n    }\n\n    .dataframe tbody tr th {\n        vertical-align: top;\n    }\n\n    .dataframe thead th {\n        text-align: right;\n    }\n</style>\n<table border=\"1\" class=\"dataframe\">\n  <thead>\n    <tr style=\"text-align: right;\">\n      <th></th>\n      <th>Coach</th>\n      <th>Def_Align</th>\n      <th>Def_Coor</th>\n      <th>Draft_Position</th>\n      <th>Draft_School</th>\n      <th>Draft_Team_Selection</th>\n      <th>Drafted_Player</th>\n      <th>MoV</th>\n      <th>Off_Coor</th>\n      <th>Off_Scheme</th>\n      <th>...</th>\n      <th>Week_First_Downs</th>\n      <th>Week_Off_Turnovers</th>\n      <th>Week_Opp</th>\n      <th>Week_Pass_Yards</th>\n      <th>Week_Points_Allowed</th>\n      <th>Week_Points_Scored</th>\n      <th>Week_Rush_Yards</th>\n      <th>Week_Total__Off_Yards</th>\n      <th>Wins</th>\n      <th>Year</th>\n    </tr>\n  </thead>\n  <tbody>\n    <tr>\n      <th>60138</th>\n      <td>Gregg Williams</td>\n      <td>4-3</td>\n      <td>Jerry Gray</td>\n      <td>OL</td>\n      <td>Texas</td>\n      <td>0.0</td>\n      <td>Mike Williams</td>\n      <td>-1.1</td>\n      <td>Kevin Gilbride</td>\n      <td>???</td>\n      <td>...</td>\n      <td>21.0</td>\n      <td>0.0</td>\n      <td>Miami Dolphins</td>\n      <td>270.0</td>\n      <td>21.0</td>\n      <td>38.0</td>\n      <td>161.0</td>\n      <td>431.0</td>\n      <td>8.0</td>\n      <td>2002.0</td>\n    </tr>\n    <tr>\n      <th>60139</th>\n      <td>Gregg Williams</td>\n      <td>4-3</td>\n      <td>Jerry Gray</td>\n      <td>WR</td>\n      <td>LSU</td>\n      <td>1.0</td>\n      <td>Josh Reed</td>\n      <td>-1.1</td>\n      <td>Kevin Gilbride</td>\n      <td>???</td>\n      <td>...</td>\n      <td>21.0</td>\n      <td>0.0</td>\n      <td>Miami Dolphins</td>\n      <td>270.0</td>\n      <td>21.0</td>\n      <td>38.0</td>\n      <td>161.0</td>\n      <td>431.0</td>\n      <td>8.0</td>\n      <td>2002.0</td>\n    </tr>\n    <tr>\n      <th>60140</th>\n      <td>Gregg Williams</td>\n      <td>4-3</td>\n      <td>Jerry Gray</td>\n      <td>DE</td>\n      <td>BYU</td>\n      <td>2.0</td>\n      <td>Ryan Denney</td>\n      <td>-1.1</td>\n      <td>Kevin Gilbride</td>\n      <td>???</td>\n      <td>...</td>\n      <td>21.0</td>\n      <td>0.0</td>\n      <td>Miami Dolphins</td>\n      <td>270.0</td>\n      <td>21.0</td>\n      <td>38.0</td>\n      <td>161.0</td>\n      <td>431.0</td>\n      <td>8.0</td>\n      <td>2002.0</td>\n    </tr>\n    <tr>\n      <th>60141</th>\n      <td>Gregg Williams</td>\n      <td>4-3</td>\n      <td>Jerry Gray</td>\n      <td>DB</td>\n      <td>Stanford</td>\n      <td>3.0</td>\n      <td>Coy Wire</td>\n      <td>-1.1</td>\n      <td>Kevin Gilbride</td>\n      <td>???</td>\n      <td>...</td>\n      <td>21.0</td>\n      <td>0.0</td>\n      <td>Miami Dolphins</td>\n      <td>270.0</td>\n      <td>21.0</td>\n      <td>38.0</td>\n      <td>161.0</td>\n      <td>431.0</td>\n      <td>8.0</td>\n      <td>2002.0</td>\n    </tr>\n    <tr>\n      <th>60142</th>\n      <td>Gregg Williams</td>\n      <td>4-3</td>\n      <td>Jerry Gray</td>\n      <td>DT</td>\n      <td>Colorado</td>\n      <td>4.0</td>\n      <td>Justin Bannan</td>\n      <td>-1.1</td>\n      <td>Kevin Gilbride</td>\n      <td>???</td>\n      <td>...</td>\n      <td>21.0</td>\n      <td>0.0</td>\n      <td>Miami Dolphins</td>\n      <td>270.0</td>\n      <td>21.0</td>\n      <td>38.0</td>\n      <td>161.0</td>\n      <td>431.0</td>\n      <td>8.0</td>\n      <td>2002.0</td>\n    </tr>\n    <tr>\n      <th>...</th>\n      <td>...</td>\n      <td>...</td>\n      <td>...</td>\n      <td>...</td>\n      <td>...</td>\n      <td>...</td>\n      <td>...</td>\n      <td>...</td>\n      <td>...</td>\n      <td>...</td>\n      <td>...</td>\n      <td>...</td>\n      <td>...</td>\n      <td>...</td>\n      <td>...</td>\n      <td>...</td>\n      <td>...</td>\n      <td>...</td>\n      <td>...</td>\n      <td>...</td>\n      <td>...</td>\n    </tr>\n    <tr>\n      <th>60604</th>\n      <td>Gregg Williams</td>\n      <td>4-3</td>\n      <td>Jerry Gray</td>\n      <td>DB</td>\n      <td>UNLV</td>\n      <td>5.0</td>\n      <td>Kevin Thomas</td>\n      <td>-1.1</td>\n      <td>Kevin Gilbride</td>\n      <td>???</td>\n      <td>...</td>\n      <td>26.0</td>\n      <td>3.0</td>\n      <td>New York Jets</td>\n      <td>242.0</td>\n      <td>37.0</td>\n      <td>31.0</td>\n      <td>142.0</td>\n      <td>384.0</td>\n      <td>8.0</td>\n      <td>2002.0</td>\n    </tr>\n    <tr>\n      <th>60605</th>\n      <td>Gregg Williams</td>\n      <td>4-3</td>\n      <td>Jerry Gray</td>\n      <td>OL</td>\n      <td>Auburn</td>\n      <td>6.0</td>\n      <td>Mike Pucillo</td>\n      <td>-1.1</td>\n      <td>Kevin Gilbride</td>\n      <td>???</td>\n      <td>...</td>\n      <td>26.0</td>\n      <td>3.0</td>\n      <td>New York Jets</td>\n      <td>242.0</td>\n      <td>37.0</td>\n      <td>31.0</td>\n      <td>142.0</td>\n      <td>384.0</td>\n      <td>8.0</td>\n      <td>2002.0</td>\n    </tr>\n    <tr>\n      <th>60606</th>\n      <td>Gregg Williams</td>\n      <td>4-3</td>\n      <td>Jerry Gray</td>\n      <td>WR</td>\n      <td>Fresno St.</td>\n      <td>7.0</td>\n      <td>Rodney Wright</td>\n      <td>-1.1</td>\n      <td>Kevin Gilbride</td>\n      <td>???</td>\n      <td>...</td>\n      <td>26.0</td>\n      <td>3.0</td>\n      <td>New York Jets</td>\n      <td>242.0</td>\n      <td>37.0</td>\n      <td>31.0</td>\n      <td>142.0</td>\n      <td>384.0</td>\n      <td>8.0</td>\n      <td>2002.0</td>\n    </tr>\n    <tr>\n      <th>60607</th>\n      <td>Gregg Williams</td>\n      <td>4-3</td>\n      <td>Jerry Gray</td>\n      <td>RB</td>\n      <td>Virginia Tech</td>\n      <td>8.0</td>\n      <td>Jarrett Ferguson</td>\n      <td>-1.1</td>\n      <td>Kevin Gilbride</td>\n      <td>???</td>\n      <td>...</td>\n      <td>26.0</td>\n      <td>3.0</td>\n      <td>New York Jets</td>\n      <td>242.0</td>\n      <td>37.0</td>\n      <td>31.0</td>\n      <td>142.0</td>\n      <td>384.0</td>\n      <td>8.0</td>\n      <td>2002.0</td>\n    </tr>\n    <tr>\n      <th>60608</th>\n      <td>Gregg Williams</td>\n      <td>4-3</td>\n      <td>Jerry Gray</td>\n      <td>LB</td>\n      <td>Tennessee</td>\n      <td>9.0</td>\n      <td>Dominique Stevenson</td>\n      <td>-1.1</td>\n      <td>Kevin Gilbride</td>\n      <td>???</td>\n      <td>...</td>\n      <td>26.0</td>\n      <td>3.0</td>\n      <td>New York Jets</td>\n      <td>242.0</td>\n      <td>37.0</td>\n      <td>31.0</td>\n      <td>142.0</td>\n      <td>384.0</td>\n      <td>8.0</td>\n      <td>2002.0</td>\n    </tr>\n  </tbody>\n</table>\n<p>160 rows × 76 columns</p>\n</div>"
     },
     "metadata": {},
     "execution_count": 279
    }
   ],
   "source": [
    "nfl[nfl['Off_Scheme'] == ' ???']"
   ]
  },
  {
   "cell_type": "code",
   "execution_count": 269,
   "metadata": {},
   "outputs": [
    {
     "output_type": "execute_result",
     "data": {
      "text/plain": [
       "Off_Scheme                      Def_Align\n",
       " ???                             4-3           160\n",
       " Air Coryell                     3-4          5983\n",
       "                                 4-3         14167\n",
       " Air Coryell/West Coast hybrid   3-4            96\n",
       "                                 4-3           176\n",
       " Balanced                        4-3          1168\n",
       " Erhardt-Perkins                 3-4          6988\n",
       "                                 4-3          7461\n",
       " Smashmouth                      3-4           889\n",
       "                                 4-3           232\n",
       " Spread                          3-4          1457\n",
       "                                 4-3           987\n",
       " Spread/Erhardt-Perkins          4-3           248\n",
       " Vertical                        4-3           112\n",
       " West Coast                      3-4         10851\n",
       "                                 3/4/          192\n",
       "                                 4-3         24361\n",
       "dtype: int64"
      ]
     },
     "metadata": {},
     "execution_count": 269
    }
   ],
   "source": [
    "nfl.groupby(['Off_Scheme', 'Def_Align']).size()"
   ]
  },
  {
   "cell_type": "code",
   "execution_count": 274,
   "metadata": {},
   "outputs": [
    {
     "output_type": "execute_result",
     "data": {
      "text/plain": [
       "               Coach Def_Align     Def_Coor Draft_Position   Draft_School  \\\n",
       "36688  Mike Shanahan      3/4/  Jim Haslett             DE         Purdue   \n",
       "36689  Mike Shanahan      3/4/  Jim Haslett             DT        Clemson   \n",
       "36690  Mike Shanahan      3/4/  Jim Haslett             WR     Miami (FL)   \n",
       "36691  Mike Shanahan      3/4/  Jim Haslett             RB       Nebraska   \n",
       "36692  Mike Shanahan      3/4/  Jim Haslett             DB       Nebraska   \n",
       "...              ...       ...          ...            ...            ...   \n",
       "37438  Mike Shanahan      3/4/  Jim Haslett             WR            SMU   \n",
       "37439  Mike Shanahan      3/4/  Jim Haslett             DB      Boise St.   \n",
       "37440  Mike Shanahan      3/4/  Jim Haslett             OL        Florida   \n",
       "37441  Mike Shanahan      3/4/  Jim Haslett             DE    Florida St.   \n",
       "37442  Mike Shanahan      3/4/  Jim Haslett             DT  West Virginia   \n",
       "\n",
       "       Draft_Team_Selection     Drafted_Player  MoV       Off_Coor  \\\n",
       "36688                   0.0      Ryan Kerrigan -4.9  Kyle Shanahan   \n",
       "36689                   1.0     Jarvis Jenkins -4.9  Kyle Shanahan   \n",
       "36690                   2.0  Leonard Hankerson -4.9  Kyle Shanahan   \n",
       "36691                   3.0           Roy Helu -4.9  Kyle Shanahan   \n",
       "36692                   4.0        DeJon Gomes -4.9  Kyle Shanahan   \n",
       "...                     ...                ...  ...            ...   \n",
       "37438                   7.0   Aldrick Robinson -4.9  Kyle Shanahan   \n",
       "37439                   8.0   Brandyn Thompson -4.9  Kyle Shanahan   \n",
       "37440                   9.0       Maurice Hurt -4.9  Kyle Shanahan   \n",
       "37441                  10.0       Markus White -4.9  Kyle Shanahan   \n",
       "37442                  11.0        Chris Neild -4.9  Kyle Shanahan   \n",
       "\n",
       "        Off_Scheme  ...  Week_First_Downs  Week_Off_Turnovers  \\\n",
       "36688   West Coast  ...              21.0                 1.0   \n",
       "36689   West Coast  ...              21.0                 1.0   \n",
       "36690   West Coast  ...              21.0                 1.0   \n",
       "36691   West Coast  ...              21.0                 1.0   \n",
       "36692   West Coast  ...              21.0                 1.0   \n",
       "...            ...  ...               ...                 ...   \n",
       "37438   West Coast  ...              21.0                 1.0   \n",
       "37439   West Coast  ...              21.0                 1.0   \n",
       "37440   West Coast  ...              21.0                 1.0   \n",
       "37441   West Coast  ...              21.0                 1.0   \n",
       "37442   West Coast  ...              21.0                 1.0   \n",
       "\n",
       "                  Week_Opp  Week_Pass_Yards  Week_Points_Allowed  \\\n",
       "36688  Philadelphia Eagles            247.0                 34.0   \n",
       "36689  Philadelphia Eagles            247.0                 34.0   \n",
       "36690  Philadelphia Eagles            247.0                 34.0   \n",
       "36691  Philadelphia Eagles            247.0                 34.0   \n",
       "36692  Philadelphia Eagles            247.0                 34.0   \n",
       "...                    ...              ...                  ...   \n",
       "37438      New York Giants            258.0                 14.0   \n",
       "37439      New York Giants            258.0                 14.0   \n",
       "37440      New York Giants            258.0                 14.0   \n",
       "37441      New York Giants            258.0                 14.0   \n",
       "37442      New York Giants            258.0                 14.0   \n",
       "\n",
       "       Week_Points_Scored  Week_Rush_Yards  Week_Total__Off_Yards  Wins  \\\n",
       "36688                10.0            130.0                  377.0   5.0   \n",
       "36689                10.0            130.0                  377.0   5.0   \n",
       "36690                10.0            130.0                  377.0   5.0   \n",
       "36691                10.0            130.0                  377.0   5.0   \n",
       "36692                10.0            130.0                  377.0   5.0   \n",
       "...                   ...              ...                    ...   ...   \n",
       "37438                28.0             74.0                  332.0   5.0   \n",
       "37439                28.0             74.0                  332.0   5.0   \n",
       "37440                28.0             74.0                  332.0   5.0   \n",
       "37441                28.0             74.0                  332.0   5.0   \n",
       "37442                28.0             74.0                  332.0   5.0   \n",
       "\n",
       "         Year  \n",
       "36688  2011.0  \n",
       "36689  2011.0  \n",
       "36690  2011.0  \n",
       "36691  2011.0  \n",
       "36692  2011.0  \n",
       "...       ...  \n",
       "37438  2011.0  \n",
       "37439  2011.0  \n",
       "37440  2011.0  \n",
       "37441  2011.0  \n",
       "37442  2011.0  \n",
       "\n",
       "[192 rows x 76 columns]"
      ],
      "text/html": "<div>\n<style scoped>\n    .dataframe tbody tr th:only-of-type {\n        vertical-align: middle;\n    }\n\n    .dataframe tbody tr th {\n        vertical-align: top;\n    }\n\n    .dataframe thead th {\n        text-align: right;\n    }\n</style>\n<table border=\"1\" class=\"dataframe\">\n  <thead>\n    <tr style=\"text-align: right;\">\n      <th></th>\n      <th>Coach</th>\n      <th>Def_Align</th>\n      <th>Def_Coor</th>\n      <th>Draft_Position</th>\n      <th>Draft_School</th>\n      <th>Draft_Team_Selection</th>\n      <th>Drafted_Player</th>\n      <th>MoV</th>\n      <th>Off_Coor</th>\n      <th>Off_Scheme</th>\n      <th>...</th>\n      <th>Week_First_Downs</th>\n      <th>Week_Off_Turnovers</th>\n      <th>Week_Opp</th>\n      <th>Week_Pass_Yards</th>\n      <th>Week_Points_Allowed</th>\n      <th>Week_Points_Scored</th>\n      <th>Week_Rush_Yards</th>\n      <th>Week_Total__Off_Yards</th>\n      <th>Wins</th>\n      <th>Year</th>\n    </tr>\n  </thead>\n  <tbody>\n    <tr>\n      <th>36688</th>\n      <td>Mike Shanahan</td>\n      <td>3/4/</td>\n      <td>Jim Haslett</td>\n      <td>DE</td>\n      <td>Purdue</td>\n      <td>0.0</td>\n      <td>Ryan Kerrigan</td>\n      <td>-4.9</td>\n      <td>Kyle Shanahan</td>\n      <td>West Coast</td>\n      <td>...</td>\n      <td>21.0</td>\n      <td>1.0</td>\n      <td>Philadelphia Eagles</td>\n      <td>247.0</td>\n      <td>34.0</td>\n      <td>10.0</td>\n      <td>130.0</td>\n      <td>377.0</td>\n      <td>5.0</td>\n      <td>2011.0</td>\n    </tr>\n    <tr>\n      <th>36689</th>\n      <td>Mike Shanahan</td>\n      <td>3/4/</td>\n      <td>Jim Haslett</td>\n      <td>DT</td>\n      <td>Clemson</td>\n      <td>1.0</td>\n      <td>Jarvis Jenkins</td>\n      <td>-4.9</td>\n      <td>Kyle Shanahan</td>\n      <td>West Coast</td>\n      <td>...</td>\n      <td>21.0</td>\n      <td>1.0</td>\n      <td>Philadelphia Eagles</td>\n      <td>247.0</td>\n      <td>34.0</td>\n      <td>10.0</td>\n      <td>130.0</td>\n      <td>377.0</td>\n      <td>5.0</td>\n      <td>2011.0</td>\n    </tr>\n    <tr>\n      <th>36690</th>\n      <td>Mike Shanahan</td>\n      <td>3/4/</td>\n      <td>Jim Haslett</td>\n      <td>WR</td>\n      <td>Miami (FL)</td>\n      <td>2.0</td>\n      <td>Leonard Hankerson</td>\n      <td>-4.9</td>\n      <td>Kyle Shanahan</td>\n      <td>West Coast</td>\n      <td>...</td>\n      <td>21.0</td>\n      <td>1.0</td>\n      <td>Philadelphia Eagles</td>\n      <td>247.0</td>\n      <td>34.0</td>\n      <td>10.0</td>\n      <td>130.0</td>\n      <td>377.0</td>\n      <td>5.0</td>\n      <td>2011.0</td>\n    </tr>\n    <tr>\n      <th>36691</th>\n      <td>Mike Shanahan</td>\n      <td>3/4/</td>\n      <td>Jim Haslett</td>\n      <td>RB</td>\n      <td>Nebraska</td>\n      <td>3.0</td>\n      <td>Roy Helu</td>\n      <td>-4.9</td>\n      <td>Kyle Shanahan</td>\n      <td>West Coast</td>\n      <td>...</td>\n      <td>21.0</td>\n      <td>1.0</td>\n      <td>Philadelphia Eagles</td>\n      <td>247.0</td>\n      <td>34.0</td>\n      <td>10.0</td>\n      <td>130.0</td>\n      <td>377.0</td>\n      <td>5.0</td>\n      <td>2011.0</td>\n    </tr>\n    <tr>\n      <th>36692</th>\n      <td>Mike Shanahan</td>\n      <td>3/4/</td>\n      <td>Jim Haslett</td>\n      <td>DB</td>\n      <td>Nebraska</td>\n      <td>4.0</td>\n      <td>DeJon Gomes</td>\n      <td>-4.9</td>\n      <td>Kyle Shanahan</td>\n      <td>West Coast</td>\n      <td>...</td>\n      <td>21.0</td>\n      <td>1.0</td>\n      <td>Philadelphia Eagles</td>\n      <td>247.0</td>\n      <td>34.0</td>\n      <td>10.0</td>\n      <td>130.0</td>\n      <td>377.0</td>\n      <td>5.0</td>\n      <td>2011.0</td>\n    </tr>\n    <tr>\n      <th>...</th>\n      <td>...</td>\n      <td>...</td>\n      <td>...</td>\n      <td>...</td>\n      <td>...</td>\n      <td>...</td>\n      <td>...</td>\n      <td>...</td>\n      <td>...</td>\n      <td>...</td>\n      <td>...</td>\n      <td>...</td>\n      <td>...</td>\n      <td>...</td>\n      <td>...</td>\n      <td>...</td>\n      <td>...</td>\n      <td>...</td>\n      <td>...</td>\n      <td>...</td>\n      <td>...</td>\n    </tr>\n    <tr>\n      <th>37438</th>\n      <td>Mike Shanahan</td>\n      <td>3/4/</td>\n      <td>Jim Haslett</td>\n      <td>WR</td>\n      <td>SMU</td>\n      <td>7.0</td>\n      <td>Aldrick Robinson</td>\n      <td>-4.9</td>\n      <td>Kyle Shanahan</td>\n      <td>West Coast</td>\n      <td>...</td>\n      <td>21.0</td>\n      <td>1.0</td>\n      <td>New York Giants</td>\n      <td>258.0</td>\n      <td>14.0</td>\n      <td>28.0</td>\n      <td>74.0</td>\n      <td>332.0</td>\n      <td>5.0</td>\n      <td>2011.0</td>\n    </tr>\n    <tr>\n      <th>37439</th>\n      <td>Mike Shanahan</td>\n      <td>3/4/</td>\n      <td>Jim Haslett</td>\n      <td>DB</td>\n      <td>Boise St.</td>\n      <td>8.0</td>\n      <td>Brandyn Thompson</td>\n      <td>-4.9</td>\n      <td>Kyle Shanahan</td>\n      <td>West Coast</td>\n      <td>...</td>\n      <td>21.0</td>\n      <td>1.0</td>\n      <td>New York Giants</td>\n      <td>258.0</td>\n      <td>14.0</td>\n      <td>28.0</td>\n      <td>74.0</td>\n      <td>332.0</td>\n      <td>5.0</td>\n      <td>2011.0</td>\n    </tr>\n    <tr>\n      <th>37440</th>\n      <td>Mike Shanahan</td>\n      <td>3/4/</td>\n      <td>Jim Haslett</td>\n      <td>OL</td>\n      <td>Florida</td>\n      <td>9.0</td>\n      <td>Maurice Hurt</td>\n      <td>-4.9</td>\n      <td>Kyle Shanahan</td>\n      <td>West Coast</td>\n      <td>...</td>\n      <td>21.0</td>\n      <td>1.0</td>\n      <td>New York Giants</td>\n      <td>258.0</td>\n      <td>14.0</td>\n      <td>28.0</td>\n      <td>74.0</td>\n      <td>332.0</td>\n      <td>5.0</td>\n      <td>2011.0</td>\n    </tr>\n    <tr>\n      <th>37441</th>\n      <td>Mike Shanahan</td>\n      <td>3/4/</td>\n      <td>Jim Haslett</td>\n      <td>DE</td>\n      <td>Florida St.</td>\n      <td>10.0</td>\n      <td>Markus White</td>\n      <td>-4.9</td>\n      <td>Kyle Shanahan</td>\n      <td>West Coast</td>\n      <td>...</td>\n      <td>21.0</td>\n      <td>1.0</td>\n      <td>New York Giants</td>\n      <td>258.0</td>\n      <td>14.0</td>\n      <td>28.0</td>\n      <td>74.0</td>\n      <td>332.0</td>\n      <td>5.0</td>\n      <td>2011.0</td>\n    </tr>\n    <tr>\n      <th>37442</th>\n      <td>Mike Shanahan</td>\n      <td>3/4/</td>\n      <td>Jim Haslett</td>\n      <td>DT</td>\n      <td>West Virginia</td>\n      <td>11.0</td>\n      <td>Chris Neild</td>\n      <td>-4.9</td>\n      <td>Kyle Shanahan</td>\n      <td>West Coast</td>\n      <td>...</td>\n      <td>21.0</td>\n      <td>1.0</td>\n      <td>New York Giants</td>\n      <td>258.0</td>\n      <td>14.0</td>\n      <td>28.0</td>\n      <td>74.0</td>\n      <td>332.0</td>\n      <td>5.0</td>\n      <td>2011.0</td>\n    </tr>\n  </tbody>\n</table>\n<p>192 rows × 76 columns</p>\n</div>"
     },
     "metadata": {},
     "execution_count": 274
    }
   ],
   "source": [
    "nfl[nfl['Def_Align'] == ' 3/4/']"
   ]
  },
  {
   "cell_type": "code",
   "execution_count": 280,
   "metadata": {},
   "outputs": [
    {
     "output_type": "execute_result",
     "data": {
      "text/plain": [
       "Starting_Player  Starting_Position\n",
       "Aaron Rouse      DB                   144\n",
       "Aaron Williams   DB                   112\n",
       "Abram Elam       DB                   320\n",
       "Adrian Amos      DB                   144\n",
       "Aeneas Williams  DB                   313\n",
       "                                     ... \n",
       "Will Hill        DB                   112\n",
       "William Moore    DB                   112\n",
       "Xavier Woods     DB                   290\n",
       "Yeremiah Bell    DB                   272\n",
       "Zack Bronson     DB                   112\n",
       "Length: 257, dtype: int64"
      ]
     },
     "metadata": {},
     "execution_count": 280
    }
   ],
   "source": [
    "nfl.groupby(['Starting_Player', 'Starting_Position']).size()"
   ]
  },
  {
   "cell_type": "code",
   "execution_count": 281,
   "metadata": {},
   "outputs": [
    {
     "output_type": "execute_result",
     "data": {
      "text/plain": [
       "257"
      ]
     },
     "metadata": {},
     "execution_count": 281
    }
   ],
   "source": [
    "nfl['Starting_Player'].nunique()"
   ]
  },
  {
   "cell_type": "code",
   "execution_count": null,
   "metadata": {},
   "outputs": [],
   "source": []
  }
 ]
}