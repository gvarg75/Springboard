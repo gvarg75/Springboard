{
 "metadata": {
  "language_info": {
   "codemirror_mode": {
    "name": "ipython",
    "version": 3
   },
   "file_extension": ".py",
   "mimetype": "text/x-python",
   "name": "python",
   "nbconvert_exporter": "python",
   "pygments_lexer": "ipython3",
   "version": "3.7.6-final"
  },
  "orig_nbformat": 2,
  "kernelspec": {
   "name": "python3",
   "display_name": "Python 3"
  }
 },
 "nbformat": 4,
 "nbformat_minor": 2,
 "cells": [
  {
   "cell_type": "code",
   "execution_count": 3,
   "metadata": {},
   "outputs": [],
   "source": [
    "from bs4 import BeautifulSoup\n",
    "import requests\n",
    "import pandas as pd\n",
    "import numpy as np"
   ]
  },
  {
   "cell_type": "code",
   "execution_count": 10,
   "metadata": {},
   "outputs": [],
   "source": [
    "teams = ['nwe', 'buf', 'nyj', 'mia', 'rav', 'pit', 'cle', 'cin', 'htx', 'oti', 'clt', 'jax', 'kan', 'den', 'rai', 'sdg', 'phi', 'dal', 'nyg', 'was', 'gnb', 'min', 'chi', 'det', 'nor', 'atl', 'tam', 'car', 'sfo', 'sea', 'ram', 'crd']\n",
    "years = list(np.arange(1998,2019))"
   ]
  },
  {
   "cell_type": "code",
   "execution_count": 16,
   "metadata": {
    "tags": [
     "outputPrepend"
    ]
   },
   "outputs": [
    {
     "output_type": "stream",
     "name": "stdout",
     "text": [
      "w.pro-football-reference.com/teams/sdg/2010.htm\nhttps://www.pro-football-reference.com/teams/sdg/2011.htm\nhttps://www.pro-football-reference.com/teams/sdg/2012.htm\nhttps://www.pro-football-reference.com/teams/sdg/2013.htm\nhttps://www.pro-football-reference.com/teams/sdg/2014.htm\nhttps://www.pro-football-reference.com/teams/sdg/2015.htm\nhttps://www.pro-football-reference.com/teams/sdg/2016.htm\nhttps://www.pro-football-reference.com/teams/sdg/2017.htm\nhttps://www.pro-football-reference.com/teams/sdg/2018.htm\nhttps://www.pro-football-reference.com/teams/phi/1998.htm\nhttps://www.pro-football-reference.com/teams/phi/1999.htm\nhttps://www.pro-football-reference.com/teams/phi/2000.htm\nhttps://www.pro-football-reference.com/teams/phi/2001.htm\nhttps://www.pro-football-reference.com/teams/phi/2002.htm\nhttps://www.pro-football-reference.com/teams/phi/2003.htm\nhttps://www.pro-football-reference.com/teams/phi/2004.htm\nhttps://www.pro-football-reference.com/teams/phi/2005.htm\nhttps://www.pro-football-reference.com/teams/phi/2006.htm\nhttps://www.pro-football-reference.com/teams/phi/2007.htm\nhttps://www.pro-football-reference.com/teams/phi/2008.htm\nhttps://www.pro-football-reference.com/teams/phi/2009.htm\nhttps://www.pro-football-reference.com/teams/phi/2010.htm\nhttps://www.pro-football-reference.com/teams/phi/2011.htm\nhttps://www.pro-football-reference.com/teams/phi/2012.htm\nhttps://www.pro-football-reference.com/teams/phi/2013.htm\nhttps://www.pro-football-reference.com/teams/phi/2014.htm\nhttps://www.pro-football-reference.com/teams/phi/2015.htm\nhttps://www.pro-football-reference.com/teams/phi/2016.htm\nhttps://www.pro-football-reference.com/teams/phi/2017.htm\nhttps://www.pro-football-reference.com/teams/phi/2018.htm\nhttps://www.pro-football-reference.com/teams/dal/1998.htm\nhttps://www.pro-football-reference.com/teams/dal/1999.htm\nhttps://www.pro-football-reference.com/teams/dal/2000.htm\nhttps://www.pro-football-reference.com/teams/dal/2001.htm\nhttps://www.pro-football-reference.com/teams/dal/2002.htm\nhttps://www.pro-football-reference.com/teams/dal/2003.htm\nhttps://www.pro-football-reference.com/teams/dal/2004.htm\nhttps://www.pro-football-reference.com/teams/dal/2005.htm\nhttps://www.pro-football-reference.com/teams/dal/2006.htm\nhttps://www.pro-football-reference.com/teams/dal/2007.htm\nhttps://www.pro-football-reference.com/teams/dal/2008.htm\nhttps://www.pro-football-reference.com/teams/dal/2009.htm\nhttps://www.pro-football-reference.com/teams/dal/2010.htm\nhttps://www.pro-football-reference.com/teams/dal/2011.htm\nhttps://www.pro-football-reference.com/teams/dal/2012.htm\nhttps://www.pro-football-reference.com/teams/dal/2013.htm\nhttps://www.pro-football-reference.com/teams/dal/2014.htm\nhttps://www.pro-football-reference.com/teams/dal/2015.htm\nhttps://www.pro-football-reference.com/teams/dal/2016.htm\nhttps://www.pro-football-reference.com/teams/dal/2017.htm\nhttps://www.pro-football-reference.com/teams/dal/2018.htm\nhttps://www.pro-football-reference.com/teams/nyg/1998.htm\nhttps://www.pro-football-reference.com/teams/nyg/1999.htm\nhttps://www.pro-football-reference.com/teams/nyg/2000.htm\nhttps://www.pro-football-reference.com/teams/nyg/2001.htm\nhttps://www.pro-football-reference.com/teams/nyg/2002.htm\nhttps://www.pro-football-reference.com/teams/nyg/2003.htm\nhttps://www.pro-football-reference.com/teams/nyg/2004.htm\nhttps://www.pro-football-reference.com/teams/nyg/2005.htm\nhttps://www.pro-football-reference.com/teams/nyg/2006.htm\nhttps://www.pro-football-reference.com/teams/nyg/2007.htm\nhttps://www.pro-football-reference.com/teams/nyg/2008.htm\nhttps://www.pro-football-reference.com/teams/nyg/2009.htm\nhttps://www.pro-football-reference.com/teams/nyg/2010.htm\nhttps://www.pro-football-reference.com/teams/nyg/2011.htm\nhttps://www.pro-football-reference.com/teams/nyg/2012.htm\nhttps://www.pro-football-reference.com/teams/nyg/2013.htm\nhttps://www.pro-football-reference.com/teams/nyg/2014.htm\nhttps://www.pro-football-reference.com/teams/nyg/2015.htm\nhttps://www.pro-football-reference.com/teams/nyg/2016.htm\nhttps://www.pro-football-reference.com/teams/nyg/2017.htm\nhttps://www.pro-football-reference.com/teams/nyg/2018.htm\nhttps://www.pro-football-reference.com/teams/was/1998.htm\nhttps://www.pro-football-reference.com/teams/was/1999.htm\nhttps://www.pro-football-reference.com/teams/was/2000.htm\nhttps://www.pro-football-reference.com/teams/was/2001.htm\nhttps://www.pro-football-reference.com/teams/was/2002.htm\nhttps://www.pro-football-reference.com/teams/was/2003.htm\nhttps://www.pro-football-reference.com/teams/was/2004.htm\nhttps://www.pro-football-reference.com/teams/was/2005.htm\nhttps://www.pro-football-reference.com/teams/was/2006.htm\nhttps://www.pro-football-reference.com/teams/was/2007.htm\nhttps://www.pro-football-reference.com/teams/was/2008.htm\nhttps://www.pro-football-reference.com/teams/was/2009.htm\nhttps://www.pro-football-reference.com/teams/was/2010.htm\nhttps://www.pro-football-reference.com/teams/was/2011.htm\nhttps://www.pro-football-reference.com/teams/was/2012.htm\nhttps://www.pro-football-reference.com/teams/was/2013.htm\nhttps://www.pro-football-reference.com/teams/was/2014.htm\nhttps://www.pro-football-reference.com/teams/was/2015.htm\nhttps://www.pro-football-reference.com/teams/was/2016.htm\nhttps://www.pro-football-reference.com/teams/was/2017.htm\nhttps://www.pro-football-reference.com/teams/was/2018.htm\nhttps://www.pro-football-reference.com/teams/gnb/1998.htm\nhttps://www.pro-football-reference.com/teams/gnb/1999.htm\nhttps://www.pro-football-reference.com/teams/gnb/2000.htm\nhttps://www.pro-football-reference.com/teams/gnb/2001.htm\nhttps://www.pro-football-reference.com/teams/gnb/2002.htm\nhttps://www.pro-football-reference.com/teams/gnb/2003.htm\nhttps://www.pro-football-reference.com/teams/gnb/2004.htm\nhttps://www.pro-football-reference.com/teams/gnb/2005.htm\nhttps://www.pro-football-reference.com/teams/gnb/2006.htm\nhttps://www.pro-football-reference.com/teams/gnb/2007.htm\nhttps://www.pro-football-reference.com/teams/gnb/2008.htm\nhttps://www.pro-football-reference.com/teams/gnb/2009.htm\nhttps://www.pro-football-reference.com/teams/gnb/2010.htm\nhttps://www.pro-football-reference.com/teams/gnb/2011.htm\nhttps://www.pro-football-reference.com/teams/gnb/2012.htm\nhttps://www.pro-football-reference.com/teams/gnb/2013.htm\nhttps://www.pro-football-reference.com/teams/gnb/2014.htm\nhttps://www.pro-football-reference.com/teams/gnb/2015.htm\nhttps://www.pro-football-reference.com/teams/gnb/2016.htm\nhttps://www.pro-football-reference.com/teams/gnb/2017.htm\nhttps://www.pro-football-reference.com/teams/gnb/2018.htm\nhttps://www.pro-football-reference.com/teams/min/1998.htm\nhttps://www.pro-football-reference.com/teams/min/1999.htm\nhttps://www.pro-football-reference.com/teams/min/2000.htm\nhttps://www.pro-football-reference.com/teams/min/2001.htm\nhttps://www.pro-football-reference.com/teams/min/2002.htm\nhttps://www.pro-football-reference.com/teams/min/2003.htm\nhttps://www.pro-football-reference.com/teams/min/2004.htm\nhttps://www.pro-football-reference.com/teams/min/2005.htm\nhttps://www.pro-football-reference.com/teams/min/2006.htm\nhttps://www.pro-football-reference.com/teams/min/2007.htm\nhttps://www.pro-football-reference.com/teams/min/2008.htm\nhttps://www.pro-football-reference.com/teams/min/2009.htm\nhttps://www.pro-football-reference.com/teams/min/2010.htm\nhttps://www.pro-football-reference.com/teams/min/2011.htm\nhttps://www.pro-football-reference.com/teams/min/2012.htm\nhttps://www.pro-football-reference.com/teams/min/2013.htm\nhttps://www.pro-football-reference.com/teams/min/2014.htm\nhttps://www.pro-football-reference.com/teams/min/2015.htm\nhttps://www.pro-football-reference.com/teams/min/2016.htm\nhttps://www.pro-football-reference.com/teams/min/2017.htm\nhttps://www.pro-football-reference.com/teams/min/2018.htm\nhttps://www.pro-football-reference.com/teams/chi/1998.htm\nhttps://www.pro-football-reference.com/teams/chi/1999.htm\nhttps://www.pro-football-reference.com/teams/chi/2000.htm\nhttps://www.pro-football-reference.com/teams/chi/2001.htm\nhttps://www.pro-football-reference.com/teams/chi/2002.htm\nhttps://www.pro-football-reference.com/teams/chi/2003.htm\nhttps://www.pro-football-reference.com/teams/chi/2004.htm\nhttps://www.pro-football-reference.com/teams/chi/2005.htm\nhttps://www.pro-football-reference.com/teams/chi/2006.htm\nhttps://www.pro-football-reference.com/teams/chi/2007.htm\nhttps://www.pro-football-reference.com/teams/chi/2008.htm\nhttps://www.pro-football-reference.com/teams/chi/2009.htm\nhttps://www.pro-football-reference.com/teams/chi/2010.htm\nhttps://www.pro-football-reference.com/teams/chi/2011.htm\nhttps://www.pro-football-reference.com/teams/chi/2012.htm\nhttps://www.pro-football-reference.com/teams/chi/2013.htm\nhttps://www.pro-football-reference.com/teams/chi/2014.htm\nhttps://www.pro-football-reference.com/teams/chi/2015.htm\nhttps://www.pro-football-reference.com/teams/chi/2016.htm\nhttps://www.pro-football-reference.com/teams/chi/2017.htm\nhttps://www.pro-football-reference.com/teams/chi/2018.htm\nhttps://www.pro-football-reference.com/teams/det/1998.htm\nhttps://www.pro-football-reference.com/teams/det/1999.htm\nhttps://www.pro-football-reference.com/teams/det/2000.htm\nhttps://www.pro-football-reference.com/teams/det/2001.htm\nhttps://www.pro-football-reference.com/teams/det/2002.htm\nhttps://www.pro-football-reference.com/teams/det/2003.htm\nhttps://www.pro-football-reference.com/teams/det/2004.htm\nhttps://www.pro-football-reference.com/teams/det/2005.htm\nhttps://www.pro-football-reference.com/teams/det/2006.htm\nhttps://www.pro-football-reference.com/teams/det/2007.htm\nhttps://www.pro-football-reference.com/teams/det/2008.htm\nhttps://www.pro-football-reference.com/teams/det/2009.htm\nhttps://www.pro-football-reference.com/teams/det/2010.htm\nhttps://www.pro-football-reference.com/teams/det/2011.htm\nhttps://www.pro-football-reference.com/teams/det/2012.htm\nhttps://www.pro-football-reference.com/teams/det/2013.htm\nhttps://www.pro-football-reference.com/teams/det/2014.htm\nhttps://www.pro-football-reference.com/teams/det/2015.htm\nhttps://www.pro-football-reference.com/teams/det/2016.htm\nhttps://www.pro-football-reference.com/teams/det/2017.htm\nhttps://www.pro-football-reference.com/teams/det/2018.htm\nhttps://www.pro-football-reference.com/teams/nor/1998.htm\nhttps://www.pro-football-reference.com/teams/nor/1999.htm\nhttps://www.pro-football-reference.com/teams/nor/2000.htm\nhttps://www.pro-football-reference.com/teams/nor/2001.htm\nhttps://www.pro-football-reference.com/teams/nor/2002.htm\nhttps://www.pro-football-reference.com/teams/nor/2003.htm\nhttps://www.pro-football-reference.com/teams/nor/2004.htm\nhttps://www.pro-football-reference.com/teams/nor/2005.htm\nhttps://www.pro-football-reference.com/teams/nor/2006.htm\nhttps://www.pro-football-reference.com/teams/nor/2007.htm\nhttps://www.pro-football-reference.com/teams/nor/2008.htm\nhttps://www.pro-football-reference.com/teams/nor/2009.htm\nhttps://www.pro-football-reference.com/teams/nor/2010.htm\nhttps://www.pro-football-reference.com/teams/nor/2011.htm\nhttps://www.pro-football-reference.com/teams/nor/2012.htm\nhttps://www.pro-football-reference.com/teams/nor/2013.htm\nhttps://www.pro-football-reference.com/teams/nor/2014.htm\nhttps://www.pro-football-reference.com/teams/nor/2015.htm\nhttps://www.pro-football-reference.com/teams/nor/2016.htm\nhttps://www.pro-football-reference.com/teams/nor/2017.htm\nhttps://www.pro-football-reference.com/teams/nor/2018.htm\nhttps://www.pro-football-reference.com/teams/atl/1998.htm\nhttps://www.pro-football-reference.com/teams/atl/1999.htm\nhttps://www.pro-football-reference.com/teams/atl/2000.htm\nhttps://www.pro-football-reference.com/teams/atl/2001.htm\nhttps://www.pro-football-reference.com/teams/atl/2002.htm\nhttps://www.pro-football-reference.com/teams/atl/2003.htm\nhttps://www.pro-football-reference.com/teams/atl/2004.htm\nhttps://www.pro-football-reference.com/teams/atl/2005.htm\nhttps://www.pro-football-reference.com/teams/atl/2006.htm\nhttps://www.pro-football-reference.com/teams/atl/2007.htm\nhttps://www.pro-football-reference.com/teams/atl/2008.htm\nhttps://www.pro-football-reference.com/teams/atl/2009.htm\nhttps://www.pro-football-reference.com/teams/atl/2010.htm\nhttps://www.pro-football-reference.com/teams/atl/2011.htm\nhttps://www.pro-football-reference.com/teams/atl/2012.htm\nhttps://www.pro-football-reference.com/teams/atl/2013.htm\nhttps://www.pro-football-reference.com/teams/atl/2014.htm\nhttps://www.pro-football-reference.com/teams/atl/2015.htm\nhttps://www.pro-football-reference.com/teams/atl/2016.htm\nhttps://www.pro-football-reference.com/teams/atl/2017.htm\nhttps://www.pro-football-reference.com/teams/atl/2018.htm\nhttps://www.pro-football-reference.com/teams/tam/1998.htm\nhttps://www.pro-football-reference.com/teams/tam/1999.htm\nhttps://www.pro-football-reference.com/teams/tam/2000.htm\nhttps://www.pro-football-reference.com/teams/tam/2001.htm\nhttps://www.pro-football-reference.com/teams/tam/2002.htm\nhttps://www.pro-football-reference.com/teams/tam/2003.htm\nhttps://www.pro-football-reference.com/teams/tam/2004.htm\nhttps://www.pro-football-reference.com/teams/tam/2005.htm\nhttps://www.pro-football-reference.com/teams/tam/2006.htm\nhttps://www.pro-football-reference.com/teams/tam/2007.htm\nhttps://www.pro-football-reference.com/teams/tam/2008.htm\nhttps://www.pro-football-reference.com/teams/tam/2009.htm\nhttps://www.pro-football-reference.com/teams/tam/2010.htm\nhttps://www.pro-football-reference.com/teams/tam/2011.htm\nhttps://www.pro-football-reference.com/teams/tam/2012.htm\nhttps://www.pro-football-reference.com/teams/tam/2013.htm\nhttps://www.pro-football-reference.com/teams/tam/2014.htm\nhttps://www.pro-football-reference.com/teams/tam/2015.htm\nhttps://www.pro-football-reference.com/teams/tam/2016.htm\nhttps://www.pro-football-reference.com/teams/tam/2017.htm\nhttps://www.pro-football-reference.com/teams/tam/2018.htm\nhttps://www.pro-football-reference.com/teams/car/1998.htm\nhttps://www.pro-football-reference.com/teams/car/1999.htm\nhttps://www.pro-football-reference.com/teams/car/2000.htm\nhttps://www.pro-football-reference.com/teams/car/2001.htm\nhttps://www.pro-football-reference.com/teams/car/2002.htm\nhttps://www.pro-football-reference.com/teams/car/2003.htm\nhttps://www.pro-football-reference.com/teams/car/2004.htm\nhttps://www.pro-football-reference.com/teams/car/2005.htm\nhttps://www.pro-football-reference.com/teams/car/2006.htm\nhttps://www.pro-football-reference.com/teams/car/2007.htm\nhttps://www.pro-football-reference.com/teams/car/2008.htm\nhttps://www.pro-football-reference.com/teams/car/2009.htm\nhttps://www.pro-football-reference.com/teams/car/2010.htm\nhttps://www.pro-football-reference.com/teams/car/2011.htm\nhttps://www.pro-football-reference.com/teams/car/2012.htm\nhttps://www.pro-football-reference.com/teams/car/2013.htm\nhttps://www.pro-football-reference.com/teams/car/2014.htm\nhttps://www.pro-football-reference.com/teams/car/2015.htm\nhttps://www.pro-football-reference.com/teams/car/2016.htm\nhttps://www.pro-football-reference.com/teams/car/2017.htm\nhttps://www.pro-football-reference.com/teams/car/2018.htm\nhttps://www.pro-football-reference.com/teams/sfo/1998.htm\nhttps://www.pro-football-reference.com/teams/sfo/1999.htm\nhttps://www.pro-football-reference.com/teams/sfo/2000.htm\nhttps://www.pro-football-reference.com/teams/sfo/2001.htm\nhttps://www.pro-football-reference.com/teams/sfo/2002.htm\nhttps://www.pro-football-reference.com/teams/sfo/2003.htm\nhttps://www.pro-football-reference.com/teams/sfo/2004.htm\nhttps://www.pro-football-reference.com/teams/sfo/2005.htm\nhttps://www.pro-football-reference.com/teams/sfo/2006.htm\nhttps://www.pro-football-reference.com/teams/sfo/2007.htm\nhttps://www.pro-football-reference.com/teams/sfo/2008.htm\nhttps://www.pro-football-reference.com/teams/sfo/2009.htm\nhttps://www.pro-football-reference.com/teams/sfo/2010.htm\nhttps://www.pro-football-reference.com/teams/sfo/2011.htm\nhttps://www.pro-football-reference.com/teams/sfo/2012.htm\nhttps://www.pro-football-reference.com/teams/sfo/2013.htm\nhttps://www.pro-football-reference.com/teams/sfo/2014.htm\nhttps://www.pro-football-reference.com/teams/sfo/2015.htm\nhttps://www.pro-football-reference.com/teams/sfo/2016.htm\nhttps://www.pro-football-reference.com/teams/sfo/2017.htm\nhttps://www.pro-football-reference.com/teams/sfo/2018.htm\nhttps://www.pro-football-reference.com/teams/sea/1998.htm\nhttps://www.pro-football-reference.com/teams/sea/1999.htm\nhttps://www.pro-football-reference.com/teams/sea/2000.htm\nhttps://www.pro-football-reference.com/teams/sea/2001.htm\nhttps://www.pro-football-reference.com/teams/sea/2002.htm\nhttps://www.pro-football-reference.com/teams/sea/2003.htm\nhttps://www.pro-football-reference.com/teams/sea/2004.htm\nhttps://www.pro-football-reference.com/teams/sea/2005.htm\nhttps://www.pro-football-reference.com/teams/sea/2006.htm\nhttps://www.pro-football-reference.com/teams/sea/2007.htm\nhttps://www.pro-football-reference.com/teams/sea/2008.htm\nhttps://www.pro-football-reference.com/teams/sea/2009.htm\nhttps://www.pro-football-reference.com/teams/sea/2010.htm\nhttps://www.pro-football-reference.com/teams/sea/2011.htm\nhttps://www.pro-football-reference.com/teams/sea/2012.htm\nhttps://www.pro-football-reference.com/teams/sea/2013.htm\nhttps://www.pro-football-reference.com/teams/sea/2014.htm\nhttps://www.pro-football-reference.com/teams/sea/2015.htm\nhttps://www.pro-football-reference.com/teams/sea/2016.htm\nhttps://www.pro-football-reference.com/teams/sea/2017.htm\nhttps://www.pro-football-reference.com/teams/sea/2018.htm\nhttps://www.pro-football-reference.com/teams/ram/1998.htm\nhttps://www.pro-football-reference.com/teams/ram/1999.htm\nhttps://www.pro-football-reference.com/teams/ram/2000.htm\nhttps://www.pro-football-reference.com/teams/ram/2001.htm\nhttps://www.pro-football-reference.com/teams/ram/2002.htm\nhttps://www.pro-football-reference.com/teams/ram/2003.htm\nhttps://www.pro-football-reference.com/teams/ram/2004.htm\nhttps://www.pro-football-reference.com/teams/ram/2005.htm\nhttps://www.pro-football-reference.com/teams/ram/2006.htm\nhttps://www.pro-football-reference.com/teams/ram/2007.htm\nhttps://www.pro-football-reference.com/teams/ram/2008.htm\nhttps://www.pro-football-reference.com/teams/ram/2009.htm\nhttps://www.pro-football-reference.com/teams/ram/2010.htm\nhttps://www.pro-football-reference.com/teams/ram/2011.htm\nhttps://www.pro-football-reference.com/teams/ram/2012.htm\nhttps://www.pro-football-reference.com/teams/ram/2013.htm\nhttps://www.pro-football-reference.com/teams/ram/2014.htm\nhttps://www.pro-football-reference.com/teams/ram/2015.htm\nhttps://www.pro-football-reference.com/teams/ram/2016.htm\nhttps://www.pro-football-reference.com/teams/ram/2017.htm\nhttps://www.pro-football-reference.com/teams/ram/2018.htm\nhttps://www.pro-football-reference.com/teams/crd/1998.htm\nhttps://www.pro-football-reference.com/teams/crd/1999.htm\nhttps://www.pro-football-reference.com/teams/crd/2000.htm\nhttps://www.pro-football-reference.com/teams/crd/2001.htm\nhttps://www.pro-football-reference.com/teams/crd/2002.htm\nhttps://www.pro-football-reference.com/teams/crd/2003.htm\nhttps://www.pro-football-reference.com/teams/crd/2004.htm\nhttps://www.pro-football-reference.com/teams/crd/2005.htm\nhttps://www.pro-football-reference.com/teams/crd/2006.htm\nhttps://www.pro-football-reference.com/teams/crd/2007.htm\nhttps://www.pro-football-reference.com/teams/crd/2008.htm\nhttps://www.pro-football-reference.com/teams/crd/2009.htm\nhttps://www.pro-football-reference.com/teams/crd/2010.htm\nhttps://www.pro-football-reference.com/teams/crd/2011.htm\nhttps://www.pro-football-reference.com/teams/crd/2012.htm\nhttps://www.pro-football-reference.com/teams/crd/2013.htm\nhttps://www.pro-football-reference.com/teams/crd/2014.htm\nhttps://www.pro-football-reference.com/teams/crd/2015.htm\nhttps://www.pro-football-reference.com/teams/crd/2016.htm\nhttps://www.pro-football-reference.com/teams/crd/2017.htm\nhttps://www.pro-football-reference.com/teams/crd/2018.htm\n"
     ]
    }
   ],
   "source": [
    "start_urls = ['https://www.pro-football-reference.com/teams/']\n",
    "for team in teams:\n",
    "        for year in years:\n",
    "            url = start_urls[0] + \\\n",
    "                team + '/' + str(year) + '.htm'\n",
    "            print(url)"
   ]
  },
  {
   "cell_type": "code",
   "execution_count": 9,
   "metadata": {},
   "outputs": [
    {
     "output_type": "stream",
     "name": "stdout",
     "text": [
      "nwe 1998\nnwe 1999\nnwe 2000\nnwe 2001\nnwe 2002\nnwe 2003\nnwe 2004\nnwe 2005\nnwe 2006\nnwe 2007\nnwe 2008\nnwe 2009\nnwe 2010\nnwe 2011\nnwe 2012\nnwe 2013\nnwe 2014\nnwe 2015\nnwe 2016\nnwe 2017\nnwe 2018\nbuf 1998\nbuf 1999\nbuf 2000\nbuf 2001\nbuf 2002\nbuf 2003\nbuf 2004\nbuf 2005\nbuf 2006\nbuf 2007\nbuf 2008\nbuf 2009\nbuf 2010\nbuf 2011\nbuf 2012\nbuf 2013\nbuf 2014\nbuf 2015\nbuf 2016\nbuf 2017\nbuf 2018\nnyj 1998\nnyj 1999\nnyj 2000\nnyj 2001\nnyj 2002\nnyj 2003\nnyj 2004\nnyj 2005\nnyj 2006\nnyj 2007\nnyj 2008\nnyj 2009\nnyj 2010\nnyj 2011\nnyj 2012\nnyj 2013\nnyj 2014\nnyj 2015\nnyj 2016\nnyj 2017\nnyj 2018\nmia 1998\nmia 1999\nmia 2000\nmia 2001\nmia 2002\nmia 2003\nmia 2004\nmia 2005\nmia 2006\nmia 2007\nmia 2008\nmia 2009\nmia 2010\nmia 2011\nmia 2012\nmia 2013\nmia 2014\nmia 2015\nmia 2016\nmia 2017\nmia 2018\nrav 1998\nrav 1999\nrav 2000\nrav 2001\nrav 2002\nrav 2003\nrav 2004\nrav 2005\nrav 2006\nrav 2007\nrav 2008\nrav 2009\nrav 2010\nrav 2011\nrav 2012\nrav 2013\nrav 2014\nrav 2015\nrav 2016\nrav 2017\nrav 2018\npit 1998\npit 1999\npit 2000\npit 2001\npit 2002\npit 2003\npit 2004\npit 2005\npit 2006\npit 2007\npit 2008\npit 2009\npit 2010\npit 2011\npit 2012\npit 2013\npit 2014\npit 2015\npit 2016\npit 2017\npit 2018\ncle 1998\ncle 1999\ncle 2000\ncle 2001\ncle 2002\ncle 2003\ncle 2004\ncle 2005\ncle 2006\ncle 2007\ncle 2008\ncle 2009\ncle 2010\ncle 2011\ncle 2012\ncle 2013\ncle 2014\ncle 2015\ncle 2016\ncle 2017\ncle 2018\ncin 1998\ncin 1999\ncin 2000\ncin 2001\ncin 2002\ncin 2003\ncin 2004\ncin 2005\ncin 2006\ncin 2007\ncin 2008\ncin 2009\ncin 2010\ncin 2011\ncin 2012\ncin 2013\ncin 2014\ncin 2015\ncin 2016\ncin 2017\ncin 2018\nhtx 1998\nhtx 1999\nhtx 2000\nhtx 2001\nhtx 2002\nhtx 2003\nhtx 2004\nhtx 2005\nhtx 2006\nhtx 2007\nhtx 2008\nhtx 2009\nhtx 2010\nhtx 2011\nhtx 2012\nhtx 2013\nhtx 2014\nhtx 2015\nhtx 2016\nhtx 2017\nhtx 2018\noti 1998\noti 1999\noti 2000\noti 2001\noti 2002\noti 2003\noti 2004\noti 2005\noti 2006\noti 2007\noti 2008\noti 2009\noti 2010\noti 2011\noti 2012\noti 2013\noti 2014\noti 2015\noti 2016\noti 2017\noti 2018\nclt 1998\nclt 1999\nclt 2000\nclt 2001\nclt 2002\nclt 2003\nclt 2004\nclt 2005\nclt 2006\nclt 2007\nclt 2008\nclt 2009\nclt 2010\nclt 2011\nclt 2012\nclt 2013\nclt 2014\nclt 2015\nclt 2016\nclt 2017\nclt 2018\njax 1998\njax 1999\njax 2000\njax 2001\njax 2002\njax 2003\njax 2004\njax 2005\njax 2006\njax 2007\njax 2008\njax 2009\njax 2010\njax 2011\njax 2012\njax 2013\njax 2014\njax 2015\njax 2016\njax 2017\njax 2018\nkan 1998\nkan 1999\nkan 2000\nkan 2001\nkan 2002\nkan 2003\nkan 2004\nkan 2005\nkan 2006\nkan 2007\nkan 2008\nkan 2009\nkan 2010\nkan 2011\nkan 2012\nkan 2013\nkan 2014\nkan 2015\nkan 2016\nkan 2017\nkan 2018\nden 1998\nden 1999\nden 2000\nden 2001\nden 2002\nden 2003\nden 2004\nden 2005\nden 2006\nden 2007\nden 2008\nden 2009\nden 2010\nden 2011\nden 2012\nden 2013\nden 2014\nden 2015\nden 2016\nden 2017\nden 2018\nrai 1998\nrai 1999\nrai 2000\nrai 2001\nrai 2002\nrai 2003\nrai 2004\nrai 2005\nrai 2006\nrai 2007\nrai 2008\nrai 2009\nrai 2010\nrai 2011\nrai 2012\nrai 2013\nrai 2014\nrai 2015\nrai 2016\nrai 2017\nrai 2018\nsdg 1998\nsdg 1999\nsdg 2000\nsdg 2001\nsdg 2002\nsdg 2003\nsdg 2004\nsdg 2005\nsdg 2006\nsdg 2007\nsdg 2008\nsdg 2009\nsdg 2010\nsdg 2011\nsdg 2012\nsdg 2013\nsdg 2014\nsdg 2015\nsdg 2016\nsdg 2017\nsdg 2018\nphi 1998\nphi 1999\nphi 2000\nphi 2001\nphi 2002\nphi 2003\nphi 2004\nphi 2005\nphi 2006\nphi 2007\nphi 2008\nphi 2009\nphi 2010\nphi 2011\nphi 2012\nphi 2013\nphi 2014\nphi 2015\nphi 2016\nphi 2017\nphi 2018\ndal 1998\ndal 1999\ndal 2000\ndal 2001\ndal 2002\ndal 2003\ndal 2004\ndal 2005\ndal 2006\ndal 2007\ndal 2008\ndal 2009\ndal 2010\ndal 2011\ndal 2012\ndal 2013\ndal 2014\ndal 2015\ndal 2016\ndal 2017\ndal 2018\nnyg 1998\nnyg 1999\nnyg 2000\nnyg 2001\nnyg 2002\nnyg 2003\nnyg 2004\nnyg 2005\nnyg 2006\nnyg 2007\nnyg 2008\nnyg 2009\nnyg 2010\nnyg 2011\nnyg 2012\nnyg 2013\nnyg 2014\nnyg 2015\nnyg 2016\nnyg 2017\nnyg 2018\nwas 1998\nwas 1999\nwas 2000\nwas 2001\nwas 2002\nwas 2003\nwas 2004\nwas 2005\nwas 2006\nwas 2007\nwas 2008\nwas 2009\nwas 2010\nwas 2011\nwas 2012\nwas 2013\nwas 2014\nwas 2015\nwas 2016\nwas 2017\nwas 2018\ngnb 1998\ngnb 1999\ngnb 2000\ngnb 2001\ngnb 2002\ngnb 2003\ngnb 2004\ngnb 2005\ngnb 2006\ngnb 2007\ngnb 2008\ngnb 2009\ngnb 2010\ngnb 2011\ngnb 2012\ngnb 2013\ngnb 2014\ngnb 2015\ngnb 2016\ngnb 2017\ngnb 2018\nmin 1998\nmin 1999\nmin 2000\nmin 2001\nmin 2002\nmin 2003\nmin 2004\nmin 2005\nmin 2006\nmin 2007\nmin 2008\nmin 2009\nmin 2010\nmin 2011\nmin 2012\nmin 2013\nmin 2014\nmin 2015\nmin 2016\nmin 2017\nmin 2018\nchi 1998\nchi 1999\nchi 2000\nchi 2001\nchi 2002\nchi 2003\nchi 2004\nchi 2005\nchi 2006\nchi 2007\nchi 2008\nchi 2009\nchi 2010\nchi 2011\nchi 2012\nchi 2013\nchi 2014\nchi 2015\nchi 2016\nchi 2017\nchi 2018\ndet 1998\ndet 1999\ndet 2000\ndet 2001\ndet 2002\ndet 2003\ndet 2004\ndet 2005\ndet 2006\ndet 2007\ndet 2008\ndet 2009\ndet 2010\ndet 2011\ndet 2012\ndet 2013\ndet 2014\ndet 2015\ndet 2016\ndet 2017\ndet 2018\nnor 1998\nnor 1999\nnor 2000\nnor 2001\nnor 2002\nnor 2003\nnor 2004\nnor 2005\nnor 2006\nnor 2007\nnor 2008\nnor 2009\nnor 2010\nnor 2011\nnor 2012\nnor 2013\nnor 2014\nnor 2015\nnor 2016\nnor 2017\nnor 2018\natl 1998\natl 1999\natl 2000\natl 2001\natl 2002\natl 2003\natl 2004\natl 2005\natl 2006\natl 2007\natl 2008\natl 2009\natl 2010\natl 2011\natl 2012\natl 2013\natl 2014\natl 2015\natl 2016\natl 2017\natl 2018\ntam 1998\ntam 1999\ntam 2000\ntam 2001\ntam 2002\ntam 2003\ntam 2004\ntam 2005\ntam 2006\ntam 2007\ntam 2008\ntam 2009\ntam 2010\ntam 2011\ntam 2012\ntam 2013\ntam 2014\ntam 2015\ntam 2016\ntam 2017\ntam 2018\ncar 1998\ncar 1999\ncar 2000\ncar 2001\ncar 2002\ncar 2003\ncar 2004\ncar 2005\ncar 2006\ncar 2007\ncar 2008\ncar 2009\ncar 2010\ncar 2011\ncar 2012\ncar 2013\ncar 2014\ncar 2015\ncar 2016\ncar 2017\ncar 2018\nsfo 1998\nsfo 1999\nsfo 2000\nsfo 2001\nsfo 2002\nsfo 2003\nsfo 2004\nsfo 2005\nsfo 2006\nsfo 2007\nsfo 2008\nsfo 2009\nsfo 2010\nsfo 2011\nsfo 2012\nsfo 2013\nsfo 2014\nsfo 2015\nsfo 2016\nsfo 2017\nsfo 2018\nsea 1998\nsea 1999\nsea 2000\nsea 2001\nsea 2002\nsea 2003\nsea 2004\nsea 2005\nsea 2006\nsea 2007\nsea 2008\nsea 2009\nsea 2010\nsea 2011\nsea 2012\nsea 2013\nsea 2014\nsea 2015\nsea 2016\nsea 2017\nsea 2018\nram 1998\nram 1999\nram 2000\nram 2001\nram 2002\nram 2003\nram 2004\nram 2005\nram 2006\nram 2007\nram 2008\nram 2009\nram 2010\nram 2011\nram 2012\nram 2013\nram 2014\nram 2015\nram 2016\nram 2017\nram 2018\ncrd 1998\ncrd 1999\ncrd 2000\ncrd 2001\ncrd 2002\ncrd 2003\ncrd 2004\ncrd 2005\ncrd 2006\ncrd 2007\ncrd 2008\ncrd 2009\ncrd 2010\ncrd 2011\ncrd 2012\ncrd 2013\ncrd 2014\ncrd 2015\ncrd 2016\ncrd 2017\ncrd 2018\n"
     ]
    }
   ],
   "source": [
    "for team in teams:\n",
    "    for year in years:\n",
    "        print(team, year)"
   ]
  },
  {
   "cell_type": "code",
   "execution_count": 16,
   "metadata": {
    "tags": []
   },
   "outputs": [],
   "source": [
    "url = \"https://www.pro-football-reference.com/teams/sea/1998.htm\"\n",
    "req = requests.get(url)\n",
    "c = req.content\n",
    "hawks = BeautifulSoup(c, \"html.parser\")"
   ]
  },
  {
   "cell_type": "code",
   "execution_count": 25,
   "metadata": {},
   "outputs": [],
   "source": [
    "test = hawks.find(\"div\", {\"data-template\":\"Partials/Teams/Summary\"})"
   ]
  },
  {
   "cell_type": "code",
   "execution_count": 26,
   "metadata": {},
   "outputs": [
    {
     "output_type": "stream",
     "name": "stdout",
     "text": [
      "<div data-template=\"Partials/Teams/Summary\">\n<h1 itemprop=\"name\">\n<span>1998</span>\n<span>Seattle Seahawks</span>\n<span class=\"header_end\">Statistics &amp; Players</span>\n</h1>\n<div class=\"prevnext\">\n<a class=\"button2 prev\" href=\"/teams/sea/1997.htm\">Previous Season</a>\n<a class=\"button2 next\" href=\"/teams/sea/1999.htm\">Next Season</a>\n</div>\n<p>\n<strong>Record:</strong> 8-8-0, 3rd in\n\t<a href=\"/years/1998\">AFC West Division</a>\n   (<a href=\"/teams/sea/1998_games.htm\">Schedule and Results</a>)\n</p>\n<p><strong>Coach:</strong>\n<a href=\"/coaches/EricDe0.htm\">Dennis Erickson</a> (8-8-0)</p>\n<p><strong>Points For:</strong> 372 (23.3/g) 10th of 30</p>\n<p><strong>Points Against:</strong> 310 (19.4/g) 10th of 30</p>\n<p><strong><a class=\"tooltip\" href=\"/about/glossary.htm#expwl\" tip=\"The expected wins given their points scored and allowed\">Expected W-L</a>:</strong> 9.7-6.3</p>\n<p><a href=\"/about/glossary.htm#srs\"><strong>SRS</strong></a>: 1.46 (12th of 30), \n  <a href=\"/about/glossary.htm#sos\"><strong>SOS</strong></a>: -2.41\n</p>\n<p><strong>Offensive Coordinator:</strong> <a href=\"/coaches/BratBo0.htm\">Bob Bratkowski</a></p>\n<p><strong>Defensive Coordinator:</strong> <a href=\"/coaches/McMaGr0.htm\">Greg McMackin</a></p>\n<p><strong>Other Notable Asst.:</strong> <a href=\"/coaches/JackMi0.htm\">Milt Jackson</a> (Wide Receivers), <a href=\"/coaches/JohnJi1.htm\">Jim Johnson</a> (Linebackers), <a href=\"/coaches/OlsoRi0.htm\">Rich Olson</a> (Quarterbacks) and <a href=\"/coaches/RobiWi0.htm\">Willy Robinson</a> (Defensive Backs)\n\n\n<p><strong>Stadium:</strong> <a href=\"/stadiums/SEA98.htm\">Seattle Kingdome</a></p>\n<p><strong>Chairman:</strong> <a href=\"/executives/AllePa0.htm\">Paul Allen</a></p>\n<p><strong>VP of Football Operations:</strong> <a href=\"/executives/MuelRa0.htm\">Randy Mueller</a></p>\n<p><strong>President/Acting General Manager:</strong> <a href=\"/executives/WhitBo0.htm\">Bob Whitsitt</a></p>\n<p><strong>Offensive Scheme:</strong> Spread</p>\n<p><strong>Defensive Alignment:</strong> 4-3</p>\n<p><strong>Preseason Odds:</strong> <a href=\"/years/1998/preseason_odds.htm\">Super Bowl +2000; O/U: 8.5</a></p>\n<p><strong>Training Camp:</strong> <a href=\"/years/1998/training-camps.htm\">Eastern Washington University (Cheney, Washington)</a> </p>\n<button class=\"opener\" data-class=\"open\" data-id=\"info\" data-type=\"hide_after\" id=\"meta_more_button\">More Team Info</button>\n</p></div>\n"
     ]
    }
   ],
   "source": [
    "print(test)"
   ]
  },
  {
   "cell_type": "code",
   "execution_count": 17,
   "metadata": {},
   "outputs": [],
   "source": [
    "years2 = list(np.arange(1998, 2000))"
   ]
  },
  {
   "cell_type": "code",
   "execution_count": 18,
   "metadata": {},
   "outputs": [
    {
     "output_type": "execute_result",
     "data": {
      "text/plain": [
       "[1998, 1999]"
      ]
     },
     "metadata": {},
     "execution_count": 18
    }
   ],
   "source": [
    "years2"
   ]
  },
  {
   "cell_type": "code",
   "execution_count": null,
   "metadata": {},
   "outputs": [],
   "source": []
  }
 ]
}