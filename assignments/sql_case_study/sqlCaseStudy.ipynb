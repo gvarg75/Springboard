{
 "cells": [
  {
   "cell_type": "code",
   "execution_count": 2,
   "metadata": {},
   "outputs": [],
   "source": [
    "import pandas as pd\n",
    "import sqlite3"
   ]
  },
  {
   "cell_type": "code",
   "execution_count": 3,
   "metadata": {},
   "outputs": [],
   "source": [
    "conn = sqlite3.connect(\"case_study.db\")"
   ]
  },
  {
   "cell_type": "code",
   "execution_count": 4,
   "metadata": {},
   "outputs": [],
   "source": [
    "cur = conn.cursor()"
   ]
  },
  {
   "cell_type": "code",
   "execution_count": 5,
   "metadata": {},
   "outputs": [
    {
     "data": {
      "text/plain": [
       "<sqlite3.Cursor at 0x113bdd0a0>"
      ]
     },
     "execution_count": 5,
     "metadata": {},
     "output_type": "execute_result"
    }
   ],
   "source": [
    "cur.execute(\"SELECT f.name, SUM(CASE WHEN b.memid = 0 THEN (slots * guestcost) ELSE (slots * membercost) END) AS cost FROM Bookings AS b LEFT JOIN Facilities AS f ON b.facid = f.facid LEFT JOIN Members AS m ON b.memid = m.memid GROUP BY b.facid HAVING cost < 1000\")"
   ]
  },
  {
   "cell_type": "code",
   "execution_count": 6,
   "metadata": {},
   "outputs": [
    {
     "data": {
      "text/plain": [
       "[('Table Tennis', 180), ('Snooker Table', 240), ('Pool Table', 270)]"
      ]
     },
     "execution_count": 6,
     "metadata": {},
     "output_type": "execute_result"
    }
   ],
   "source": [
    "cur.fetchall()"
   ]
  },
  {
   "cell_type": "code",
   "execution_count": 7,
   "metadata": {},
   "outputs": [
    {
     "data": {
      "text/plain": [
       "<sqlite3.Cursor at 0x113bdd0a0>"
      ]
     },
     "execution_count": 7,
     "metadata": {},
     "output_type": "execute_result"
    }
   ],
   "source": [
    "cur.execute(\"SELECT m.memid, (m.surname|| ' '|| m.firstname) AS membername, (m2.surname || ' ' ||m2.firstname) AS recommender FROM Members AS m LEFT JOIN Members AS m2 ON m.recommendedby = m2.memid ORDER BY membername\")"
   ]
  },
  {
   "cell_type": "code",
   "execution_count": 8,
   "metadata": {},
   "outputs": [
    {
     "data": {
      "text/plain": [
       "[(15, 'Bader Florence', 'Stibbons Ponder'),\n",
       " (12, 'Baker Anne', 'Stibbons Ponder'),\n",
       " (16, 'Baker Timothy', 'Farrell Jemima'),\n",
       " (8, 'Boothe Tim', 'Rownam Tim'),\n",
       " (5, 'Butters Gerald', 'Smith Darren'),\n",
       " (22, 'Coplin Joan', 'Baker Timothy'),\n",
       " (36, 'Crumpet Erica', 'Smith Tracy'),\n",
       " (7, 'Dare Nancy', 'Joplette Janice'),\n",
       " (28, 'Farrell David', None),\n",
       " (13, 'Farrell Jemima', None),\n",
       " (0, 'GUEST GUEST', None),\n",
       " (20, 'Genting Matthew', 'Butters Gerald'),\n",
       " (35, 'Hunt John', 'Purview Millicent'),\n",
       " (11, 'Jones David', 'Joplette Janice'),\n",
       " (26, 'Jones Douglas', 'Jones David'),\n",
       " (4, 'Joplette Janice', 'Smith Darren'),\n",
       " (21, 'Mackenzie Anna', 'Smith Darren'),\n",
       " (10, 'Owen Charles', 'Smith Darren'),\n",
       " (17, 'Pinker David', 'Farrell Jemima'),\n",
       " (30, 'Purview Millicent', 'Smith Tracy'),\n",
       " (3, 'Rownam Tim', None),\n",
       " (27, 'Rumney Henrietta', 'Genting Matthew'),\n",
       " (24, 'Sarwin Ramnaresh', 'Bader Florence'),\n",
       " (1, 'Smith Darren', None),\n",
       " (37, 'Smith Darren', None),\n",
       " (14, 'Smith Jack', 'Smith Darren'),\n",
       " (2, 'Smith Tracy', None),\n",
       " (9, 'Stibbons Ponder', 'Tracy Burton'),\n",
       " (6, 'Tracy Burton', None),\n",
       " (33, 'Tupperware Hyacinth', None),\n",
       " (29, 'Worthington-Smyth Henry', 'Smith Tracy')]"
      ]
     },
     "execution_count": 8,
     "metadata": {},
     "output_type": "execute_result"
    }
   ],
   "source": [
    "cur.fetchall()"
   ]
  },
  {
   "cell_type": "code",
   "execution_count": 9,
   "metadata": {},
   "outputs": [
    {
     "data": {
      "text/plain": [
       "<sqlite3.Cursor at 0x113bdd0a0>"
      ]
     },
     "execution_count": 9,
     "metadata": {},
     "output_type": "execute_result"
    }
   ],
   "source": [
    "cur.execute(\"SELECT f.name, SUM(b.slots) AS totalmemberslots FROM Facilities AS f LEFT JOIN Bookings AS b ON f.facid = b.facid WHERE b.memid > 0 GROUP BY f.name ORDER BY bookid\")"
   ]
  },
  {
   "cell_type": "code",
   "execution_count": 10,
   "metadata": {},
   "outputs": [
    {
     "data": {
      "text/plain": [
       "[('Table Tennis', 794),\n",
       " ('Massage Room 1', 884),\n",
       " ('Snooker Table', 860),\n",
       " ('Pool Table', 856),\n",
       " ('Tennis Court 1', 957),\n",
       " ('Squash Court', 418),\n",
       " ('Badminton Court', 1086),\n",
       " ('Tennis Court 2', 882),\n",
       " ('Massage Room 2', 54)]"
      ]
     },
     "execution_count": 10,
     "metadata": {},
     "output_type": "execute_result"
    }
   ],
   "source": [
    "cur.fetchall()"
   ]
  },
  {
   "cell_type": "code",
   "execution_count": 12,
   "metadata": {},
   "outputs": [
    {
     "data": {
      "text/plain": [
       "<sqlite3.Cursor at 0x113bdd0a0>"
      ]
     },
     "execution_count": 12,
     "metadata": {},
     "output_type": "execute_result"
    }
   ],
   "source": [
    "cur.execute(\"SELECT f.name, strftime('%Y-%m',b.starttime) AS year_month, SUM(b.slots) AS totalmemberslots FROM Facilities AS f LEFT JOIN Bookings AS b ON f.facid = b.facid WHERE b.memid > 0 GROUP BY f.name, year_month ORDER BY b.bookid\")"
   ]
  },
  {
   "cell_type": "code",
   "execution_count": 13,
   "metadata": {},
   "outputs": [
    {
     "data": {
      "text/plain": [
       "[('Table Tennis', '2012-07', 98),\n",
       " ('Massage Room 1', '2012-07', 166),\n",
       " ('Snooker Table', '2012-07', 140),\n",
       " ('Pool Table', '2012-07', 110),\n",
       " ('Tennis Court 1', '2012-07', 201),\n",
       " ('Squash Court', '2012-07', 50),\n",
       " ('Badminton Court', '2012-07', 165),\n",
       " ('Tennis Court 2', '2012-07', 123),\n",
       " ('Massage Room 2', '2012-07', 8),\n",
       " ('Tennis Court 1', '2012-08', 339),\n",
       " ('Tennis Court 2', '2012-08', 345),\n",
       " ('Badminton Court', '2012-08', 414),\n",
       " ('Table Tennis', '2012-08', 296),\n",
       " ('Massage Room 1', '2012-08', 316),\n",
       " ('Massage Room 2', '2012-08', 18),\n",
       " ('Squash Court', '2012-08', 184),\n",
       " ('Snooker Table', '2012-08', 316),\n",
       " ('Pool Table', '2012-08', 303),\n",
       " ('Tennis Court 1', '2012-09', 417),\n",
       " ('Tennis Court 2', '2012-09', 414),\n",
       " ('Badminton Court', '2012-09', 507),\n",
       " ('Table Tennis', '2012-09', 400),\n",
       " ('Massage Room 1', '2012-09', 402),\n",
       " ('Massage Room 2', '2012-09', 28),\n",
       " ('Squash Court', '2012-09', 184),\n",
       " ('Snooker Table', '2012-09', 404),\n",
       " ('Pool Table', '2012-09', 443)]"
      ]
     },
     "execution_count": 13,
     "metadata": {},
     "output_type": "execute_result"
    }
   ],
   "source": [
    "cur.fetchall()"
   ]
  },
  {
   "cell_type": "code",
   "execution_count": null,
   "metadata": {},
   "outputs": [],
   "source": []
  }
 ],
 "metadata": {
  "kernelspec": {
   "display_name": "Python 3",
   "language": "python",
   "name": "python3"
  },
  "language_info": {
   "codemirror_mode": {
    "name": "ipython",
    "version": 3
   },
   "file_extension": ".py",
   "mimetype": "text/x-python",
   "name": "python",
   "nbconvert_exporter": "python",
   "pygments_lexer": "ipython3",
   "version": "3.7.6"
  }
 },
 "nbformat": 4,
 "nbformat_minor": 4
}
