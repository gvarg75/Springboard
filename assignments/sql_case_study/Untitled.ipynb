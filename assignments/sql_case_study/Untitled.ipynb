{
 "cells": [
  {
   "cell_type": "code",
   "execution_count": 6,
   "metadata": {},
   "outputs": [],
   "source": [
    "import pandas as pd\n",
    "import sqlite3"
   ]
  },
  {
   "cell_type": "code",
   "execution_count": 12,
   "metadata": {},
   "outputs": [],
   "source": [
    "conn = sqlite3.connect(\"case_study.db\")"
   ]
  },
  {
   "cell_type": "code",
   "execution_count": 41,
   "metadata": {},
   "outputs": [],
   "source": [
    "cur = conn.cursor()"
   ]
  },
  {
   "cell_type": "code",
   "execution_count": 110,
   "metadata": {},
   "outputs": [
    {
     "data": {
      "text/plain": [
       "<sqlite3.Cursor at 0x1150859d0>"
      ]
     },
     "execution_count": 110,
     "metadata": {},
     "output_type": "execute_result"
    }
   ],
   "source": [
    "cur.execute(\"SELECT (m.surname|| ' '|| m.firstname) AS membername, (m2.surname || ' ' ||m2.firstname) AS recommender FROM Members AS m  LEFT JOIN Members AS m2  ON m.recommendedby = m2.memid ORDER BY membername\")"
   ]
  },
  {
   "cell_type": "code",
   "execution_count": 111,
   "metadata": {},
   "outputs": [
    {
     "data": {
      "text/plain": [
       "[('Bader Florence', 'Stibbons Ponder'),\n",
       " ('Baker Anne', 'Stibbons Ponder'),\n",
       " ('Baker Timothy', 'Farrell Jemima'),\n",
       " ('Boothe Tim', 'Rownam Tim'),\n",
       " ('Butters Gerald', 'Smith Darren'),\n",
       " ('Coplin Joan', 'Baker Timothy'),\n",
       " ('Crumpet Erica', 'Smith Tracy'),\n",
       " ('Dare Nancy', 'Joplette Janice'),\n",
       " ('Farrell David', None),\n",
       " ('Farrell Jemima', None),\n",
       " ('GUEST GUEST', None),\n",
       " ('Genting Matthew', 'Butters Gerald'),\n",
       " ('Hunt John', 'Purview Millicent'),\n",
       " ('Jones David', 'Joplette Janice'),\n",
       " ('Jones Douglas', 'Jones David'),\n",
       " ('Joplette Janice', 'Smith Darren'),\n",
       " ('Mackenzie Anna', 'Smith Darren'),\n",
       " ('Owen Charles', 'Smith Darren'),\n",
       " ('Pinker David', 'Farrell Jemima'),\n",
       " ('Purview Millicent', 'Smith Tracy'),\n",
       " ('Rownam Tim', None),\n",
       " ('Rumney Henrietta', 'Genting Matthew'),\n",
       " ('Sarwin Ramnaresh', 'Bader Florence'),\n",
       " ('Smith Darren', None),\n",
       " ('Smith Darren', None),\n",
       " ('Smith Jack', 'Smith Darren'),\n",
       " ('Smith Tracy', None),\n",
       " ('Stibbons Ponder', 'Tracy Burton'),\n",
       " ('Tracy Burton', None),\n",
       " ('Tupperware Hyacinth', None),\n",
       " ('Worthington-Smyth Henry', 'Smith Tracy')]"
      ]
     },
     "execution_count": 111,
     "metadata": {},
     "output_type": "execute_result"
    }
   ],
   "source": [
    "cur.fetchall()"
   ]
  },
  {
   "cell_type": "code",
   "execution_count": null,
   "metadata": {},
   "outputs": [],
   "source": []
  }
 ],
 "metadata": {
  "kernelspec": {
   "display_name": "Python 3",
   "language": "python",
   "name": "python3"
  },
  "language_info": {
   "codemirror_mode": {
    "name": "ipython",
    "version": 3
   },
   "file_extension": ".py",
   "mimetype": "text/x-python",
   "name": "python",
   "nbconvert_exporter": "python",
   "pygments_lexer": "ipython3",
   "version": "3.7.6"
  }
 },
 "nbformat": 4,
 "nbformat_minor": 4
}
